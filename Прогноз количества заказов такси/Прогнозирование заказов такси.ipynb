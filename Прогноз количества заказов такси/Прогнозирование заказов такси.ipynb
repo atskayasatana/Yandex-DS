{
 "cells": [
  {
   "cell_type": "markdown",
   "metadata": {},
   "source": [
    "#  \"Прогнозирование количества заказов такси\""
   ]
  },
  {
   "cell_type": "markdown",
   "metadata": {
    "toc": true
   },
   "source": [
    "<h1>Содержание<span class=\"tocSkip\"></span></h1>\n",
    "<div class=\"toc\"><ul class=\"toc-item\"><li><span><a href=\"#Цель-работы\" data-toc-modified-id=\"Цель-работы-1\"><span class=\"toc-item-num\">1&nbsp;&nbsp;</span>Цель работы</a></span></li><li><span><a href=\"#Подготовка\" data-toc-modified-id=\"Подготовка-2\"><span class=\"toc-item-num\">2&nbsp;&nbsp;</span>Подготовка</a></span></li><li><span><a href=\"#Анализ\" data-toc-modified-id=\"Анализ-3\"><span class=\"toc-item-num\">3&nbsp;&nbsp;</span>Анализ</a></span></li><li><span><a href=\"#Обучение\" data-toc-modified-id=\"Обучение-4\"><span class=\"toc-item-num\">4&nbsp;&nbsp;</span>Обучение</a></span></li><li><span><a href=\"#Тестирование\" data-toc-modified-id=\"Тестирование-5\"><span class=\"toc-item-num\">5&nbsp;&nbsp;</span>Тестирование</a></span></li><li><span><a href=\"#Чек-лист-проверки\" data-toc-modified-id=\"Чек-лист-проверки-6\"><span class=\"toc-item-num\">6&nbsp;&nbsp;</span>Чек-лист проверки</a></span></li></ul></div>"
   ]
  },
  {
   "cell_type": "markdown",
   "metadata": {},
   "source": [
    "## Цель работы"
   ]
  },
  {
   "cell_type": "markdown",
   "metadata": {},
   "source": [
    "Компания «Чётенькое такси» собрала исторические данные о заказах такси в аэропортах. Чтобы привлекать больше водителей в период пиковой нагрузки, нужно спрогнозировать количество заказов такси на следующий час. Постройте модель для такого предсказания.\n",
    "\n",
    "Значение метрики *RMSE* на тестовой выборке должно быть не больше 48.\n",
    "\n",
    "Нужно:\n",
    "\n",
    "1. Загрузить данные и выполнить их ресемплирование по одному часу.\n",
    "2. Проанализировать данные.\n",
    "3. Обучить разные модели с различными гиперпараметрами. Сделать тестовую выборку размером 10% от исходных данных.\n",
    "4. Проверить данные на тестовой выборке и сделать выводы.\n"
   ]
  },
  {
   "cell_type": "markdown",
   "metadata": {},
   "source": [
    "## Подготовка"
   ]
  },
  {
   "cell_type": "code",
   "execution_count": 1,
   "metadata": {},
   "outputs": [],
   "source": [
    "import pandas as pd\n",
    "from statsmodels.tsa.seasonal import seasonal_decompose\n",
    "import matplotlib.pyplot as plt\n",
    "import numpy as np\n",
    "import seaborn as sn\n",
    "from sklearn.metrics import mean_absolute_error, mean_squared_error\n",
    "from sklearn.model_selection import train_test_split\n",
    "\n",
    "from sklearn.ensemble import RandomForestRegressor\n",
    "from catboost import CatBoostRegressor\n",
    "\n",
    "\n",
    "\n",
    "def make_features(data,window, max_lag):\n",
    "    for lag in range(1,max_lag):    \n",
    "        data['lag_{}'.format(lag)] = data['num_orders'].shift(lag)        \n",
    "    data['rolling_mean'] =data['num_orders'].rolling(window).mean()  \n",
    "\n"
   ]
  },
  {
   "cell_type": "markdown",
   "metadata": {},
   "source": [
    "Загрузим данные о заказах, даты сразу преобразуем в формат datetime "
   ]
  },
  {
   "cell_type": "code",
   "execution_count": 2,
   "metadata": {
    "scrolled": true
   },
   "outputs": [
    {
     "data": {
      "text/html": [
       "<div>\n",
       "<style scoped>\n",
       "    .dataframe tbody tr th:only-of-type {\n",
       "        vertical-align: middle;\n",
       "    }\n",
       "\n",
       "    .dataframe tbody tr th {\n",
       "        vertical-align: top;\n",
       "    }\n",
       "\n",
       "    .dataframe thead th {\n",
       "        text-align: right;\n",
       "    }\n",
       "</style>\n",
       "<table border=\"1\" class=\"dataframe\">\n",
       "  <thead>\n",
       "    <tr style=\"text-align: right;\">\n",
       "      <th></th>\n",
       "      <th>num_orders</th>\n",
       "    </tr>\n",
       "  </thead>\n",
       "  <tbody>\n",
       "    <tr>\n",
       "      <td>count</td>\n",
       "      <td>26496.000000</td>\n",
       "    </tr>\n",
       "    <tr>\n",
       "      <td>mean</td>\n",
       "      <td>14.070463</td>\n",
       "    </tr>\n",
       "    <tr>\n",
       "      <td>std</td>\n",
       "      <td>9.211330</td>\n",
       "    </tr>\n",
       "    <tr>\n",
       "      <td>min</td>\n",
       "      <td>0.000000</td>\n",
       "    </tr>\n",
       "    <tr>\n",
       "      <td>25%</td>\n",
       "      <td>8.000000</td>\n",
       "    </tr>\n",
       "    <tr>\n",
       "      <td>50%</td>\n",
       "      <td>13.000000</td>\n",
       "    </tr>\n",
       "    <tr>\n",
       "      <td>75%</td>\n",
       "      <td>19.000000</td>\n",
       "    </tr>\n",
       "    <tr>\n",
       "      <td>max</td>\n",
       "      <td>119.000000</td>\n",
       "    </tr>\n",
       "  </tbody>\n",
       "</table>\n",
       "</div>"
      ],
      "text/plain": [
       "         num_orders\n",
       "count  26496.000000\n",
       "mean      14.070463\n",
       "std        9.211330\n",
       "min        0.000000\n",
       "25%        8.000000\n",
       "50%       13.000000\n",
       "75%       19.000000\n",
       "max      119.000000"
      ]
     },
     "execution_count": 2,
     "metadata": {},
     "output_type": "execute_result"
    }
   ],
   "source": [
    "orders_data=pd.read_csv('/datasets/taxi.csv', sep=',', index_col=[0], parse_dates=[0])\n",
    "orders_data.head(10)\n",
    "orders_data.describe()"
   ]
  },
  {
   "cell_type": "code",
   "execution_count": 3,
   "metadata": {
    "scrolled": false
   },
   "outputs": [
    {
     "name": "stdout",
     "output_type": "stream",
     "text": [
      "<class 'pandas.core.frame.DataFrame'>\n",
      "DatetimeIndex: 26496 entries, 2018-03-01 00:00:00 to 2018-08-31 23:50:00\n",
      "Data columns (total 1 columns):\n",
      "num_orders    26496 non-null int64\n",
      "dtypes: int64(1)\n",
      "memory usage: 414.0 KB\n"
     ]
    }
   ],
   "source": [
    "orders_data.info()"
   ]
  },
  {
   "cell_type": "markdown",
   "metadata": {},
   "source": [
    "В файле с данными 2 столбца с информацией о времени и количестве заказов в указанное время. Пропусков в файле нет."
   ]
  },
  {
   "cell_type": "markdown",
   "metadata": {},
   "source": [
    "## Анализ"
   ]
  },
  {
   "cell_type": "markdown",
   "metadata": {},
   "source": [
    "Проверим какие данные есть в файле"
   ]
  },
  {
   "cell_type": "code",
   "execution_count": 4,
   "metadata": {},
   "outputs": [
    {
     "name": "stdout",
     "output_type": "stream",
     "text": [
      "Начало периода: 2018-03-01 00:00:00\n"
     ]
    }
   ],
   "source": [
    "print('Начало периода:',orders_data.index.min())"
   ]
  },
  {
   "cell_type": "code",
   "execution_count": 5,
   "metadata": {},
   "outputs": [
    {
     "name": "stdout",
     "output_type": "stream",
     "text": [
      "Конец периода: 2018-08-31 23:50:00\n"
     ]
    }
   ],
   "source": [
    "print('Конец периода:',orders_data.index.max())"
   ]
  },
  {
   "cell_type": "code",
   "execution_count": 6,
   "metadata": {},
   "outputs": [
    {
     "data": {
      "text/plain": [
       "count    26496.000000\n",
       "mean        14.070463\n",
       "std          9.211330\n",
       "min          0.000000\n",
       "25%          8.000000\n",
       "50%         13.000000\n",
       "75%         19.000000\n",
       "max        119.000000\n",
       "Name: num_orders, dtype: float64"
      ]
     },
     "execution_count": 6,
     "metadata": {},
     "output_type": "execute_result"
    }
   ],
   "source": [
    "orders_data.num_orders.describe()"
   ]
  },
  {
   "cell_type": "markdown",
   "metadata": {},
   "source": [
    "Добавим столбцы с месяцем, числом и днем недели и ресемплируем данные по часам"
   ]
  },
  {
   "cell_type": "code",
   "execution_count": 7,
   "metadata": {},
   "outputs": [],
   "source": [
    "orders_data = orders_data.resample('1H').sum()\n",
    "orders_data['dayofweek'] = orders_data.index.dayofweek\n",
    "orders_data['month'] = orders_data.index.month\n",
    "orders_data['hour']=orders_data.index.hour"
   ]
  },
  {
   "cell_type": "code",
   "execution_count": 8,
   "metadata": {},
   "outputs": [
    {
     "data": {
      "text/plain": [
       "<matplotlib.axes._subplots.AxesSubplot at 0x7fe850bed450>"
      ]
     },
     "execution_count": 8,
     "metadata": {},
     "output_type": "execute_result"
    },
    {
     "data": {
      "image/png": "[encoded data removed]",
      "text/plain": [
       "<Figure size 432x288 with 2 Axes>"
      ]
     },
     "metadata": {
      "needs_background": "light"
     },
     "output_type": "display_data"
    }
   ],
   "source": [
    "corr_matrix = orders_data[['num_orders','dayofweek','hour']].corr()\n",
    "sn.heatmap(corr_matrix, annot=True, cmap='coolwarm')"
   ]
  },
  {
   "cell_type": "markdown",
   "metadata": {},
   "source": [
    "Матрица корреляции оказалась малоинформативной."
   ]
  },
  {
   "cell_type": "code",
   "execution_count": null,
   "metadata": {},
   "outputs": [],
   "source": []
  },
  {
   "cell_type": "markdown",
   "metadata": {},
   "source": [
    "Ресемплируем даные по часу:"
   ]
  },
  {
   "cell_type": "code",
   "execution_count": 9,
   "metadata": {},
   "outputs": [
    {
     "data": {
      "image/png": "[encoded data removed]",
      "text/plain": [
       "<Figure size 720x864 with 3 Axes>"
      ]
     },
     "metadata": {
      "needs_background": "light"
     },
     "output_type": "display_data"
    }
   ],
   "source": [
    "orders_data_resampled_hours = orders_data.resample('1H').sum()\n",
    "decomposed = seasonal_decompose(orders_data_resampled_hours['num_orders']) \n",
    "\n",
    "\n",
    "plt.figure(figsize=(10, 12))\n",
    "plt.subplot(311)\n",
    "decomposed.trend.plot(ax=plt.gca())\n",
    "plt.title('Trend')\n",
    "\n",
    "plt.subplot(312)\n",
    "decomposed.seasonal.plot(ax=plt.gca()) \n",
    "plt.title('Seasonality')\n",
    "\n",
    "plt.subplot(313)\n",
    "decomposed.resid.plot(ax=plt.gca()) \n",
    "plt.title('Residuals')\n",
    "plt.tight_layout()\n"
   ]
  },
  {
   "cell_type": "markdown",
   "metadata": {},
   "source": [
    "Ресемплируем по дням:"
   ]
  },
  {
   "cell_type": "code",
   "execution_count": 10,
   "metadata": {},
   "outputs": [
    {
     "data": {
      "image/png": "[encoded data removed]",
      "text/plain": [
       "<Figure size 720x864 with 3 Axes>"
      ]
     },
     "metadata": {
      "needs_background": "light"
     },
     "output_type": "display_data"
    }
   ],
   "source": [
    "orders_data_resampled_days = orders_data.resample('B').sum()\n",
    "\n",
    "decomposed = seasonal_decompose(orders_data_resampled_days['num_orders'])\n",
    "\n",
    "plt.figure(figsize=(10, 12))\n",
    "plt.subplot(311)\n",
    "decomposed.trend.plot(ax=plt.gca())\n",
    "plt.title('Trend')\n",
    "\n",
    "plt.subplot(312)\n",
    "decomposed.seasonal.plot(ax=plt.gca()) \n",
    "plt.title('Seasonality')\n",
    "\n",
    "plt.subplot(313)\n",
    "decomposed.resid.plot(ax=plt.gca()) \n",
    "plt.title('Residuals')\n",
    "plt.tight_layout()\n"
   ]
  },
  {
   "cell_type": "markdown",
   "metadata": {},
   "source": [
    "На ресемплированных по дням графиках видны сезонные колебания, на обоих графиках есть тенденция к росту."
   ]
  },
  {
   "cell_type": "markdown",
   "metadata": {},
   "source": [
    "## Обучение"
   ]
  },
  {
   "cell_type": "markdown",
   "metadata": {},
   "source": [
    "Возьмем 2 модели: лес и градиентный бустинг и проверим какая из них покажет нужную нам RMSE не более 48."
   ]
  },
  {
   "cell_type": "markdown",
   "metadata": {},
   "source": [
    "Разделим нашу выборку на 3 выборки: обучающую, валидационную и тестовую в пропорции 60:30:10"
   ]
  },
  {
   "cell_type": "code",
   "execution_count": 11,
   "metadata": {},
   "outputs": [],
   "source": [
    "orders_data=orders_data.dropna()\n",
    "\n",
    "features=orders_data.drop('num_orders', axis=1)\n",
    "target=orders_data['num_orders']\n",
    "\n",
    "\n",
    "train_len=(len(features)//10)*6\n",
    "valid_len=(len(features)//10)*3\n",
    "test_len=len(features)-train_len-valid_len\n",
    "\n",
    "\n",
    "features_train=features.iloc[1:train_len]\n",
    "features_valid=features.iloc[train_len:train_len+valid_len]\n",
    "features_test=features.iloc[train_len+valid_len:len(features)+1]\n",
    "\n",
    "target_train=target.iloc[1:train_len]\n",
    "target_valid=target.iloc[train_len:train_len+valid_len]\n",
    "target_test=target.iloc[train_len+valid_len:len(features)+1]\n",
    "\n",
    "# объединенная выборка(train+valid) для переобучения\n",
    "features_train_valid=features.iloc[1:train_len+valid_len]\n",
    "target_train_valid=target.iloc[1:train_len+valid_len]\n"
   ]
  },
  {
   "cell_type": "markdown",
   "metadata": {},
   "source": [
    "Обучим случайный лес и проверим какую RMSE он даст"
   ]
  },
  {
   "cell_type": "code",
   "execution_count": 12,
   "metadata": {},
   "outputs": [
    {
     "name": "stderr",
     "output_type": "stream",
     "text": [
      "/opt/conda/lib/python3.7/site-packages/sklearn/ensemble/forest.py:245: FutureWarning: The default value of n_estimators will change from 10 in version 0.20 to 100 in 0.22.\n",
      "  \"10 in version 0.20 to 100 in 0.22.\", FutureWarning)\n"
     ]
    },
    {
     "data": {
      "text/plain": [
       "RandomForestRegressor(bootstrap=True, criterion='mse', max_depth=None,\n",
       "                      max_features='auto', max_leaf_nodes=None,\n",
       "                      min_impurity_decrease=0.0, min_impurity_split=None,\n",
       "                      min_samples_leaf=1, min_samples_split=2,\n",
       "                      min_weight_fraction_leaf=0.0, n_estimators=10,\n",
       "                      n_jobs=None, oob_score=False, random_state=None,\n",
       "                      verbose=0, warm_start=False)"
      ]
     },
     "execution_count": 12,
     "metadata": {},
     "output_type": "execute_result"
    }
   ],
   "source": [
    "model_rf=RandomForestRegressor()\n",
    "model_rf.fit(features_train, target_train)"
   ]
  },
  {
   "cell_type": "code",
   "execution_count": 14,
   "metadata": {},
   "outputs": [
    {
     "name": "stdout",
     "output_type": "stream",
     "text": [
      "RMSE на валидационной выборке: 33.454\n"
     ]
    }
   ],
   "source": [
    "prediction_rf_v=model_rf.predict(features_valid)\n",
    "RMSE_valid=mean_squared_error(prediction_rf_v,target_valid)**0.5\n",
    "print('RMSE на валидационной выборке:', round(RMSE_valid,3))"
   ]
  },
  {
   "cell_type": "code",
   "execution_count": 15,
   "metadata": {},
   "outputs": [
    {
     "name": "stdout",
     "output_type": "stream",
     "text": [
      "RMSE на тестовой выборке: 72.74\n"
     ]
    }
   ],
   "source": [
    "prediction_rf_t=model_rf.predict(features_test)\n",
    "RMSE_test=mean_squared_error(prediction_rf_t,target_test)**0.5\n",
    "print('RMSE на тестовой выборке:', round(RMSE_test,3))"
   ]
  },
  {
   "cell_type": "markdown",
   "metadata": {},
   "source": [
    "Попробуем подобрать гиперпараметры для того, чтобы улучшить качество нашей модели.\n",
    "Для экономии времени код был закоменчен, параметры подставлены вручную."
   ]
  },
  {
   "cell_type": "code",
   "execution_count": 16,
   "metadata": {},
   "outputs": [],
   "source": [
    "\n",
    "#max_lag=60\n",
    "#max_window=64\n",
    "#rmse_t=RMSE_valid\n",
    "#best_model=RandomForestRegressor()\n",
    "#best_lag=0\n",
    "#best_window=0\n",
    "#    \n",
    "#        \n",
    "#for lag in range(45,max_lag):\n",
    "#    for window in range(22, max_window):\n",
    "#            make_features(orders_data,window,lag)       \n",
    "#            orders_data=orders_data.dropna()\n",
    "#            for max_d in range(31,34):\n",
    "#                for n_est in range(15,18):\n",
    "#                    model=RandomForestRegressor(max_depth=max_d, n_estimators=n_est)\n",
    "#                    model.fit(features_train, target_train)\n",
    "#                    RMSE=mean_squared_error(model.predict(features_valid),target_valid)**0.5\n",
    "#                    #print('Лаг:', lag,end=' '),\n",
    "#                    #print('Окно:', window,end=' '),\n",
    "#                    #print('Глубина:',max_d,end=' '),\n",
    "#                    #print('Количество деревьев:',n_est,end=' '),\n",
    "#                    #print('RMSE', round(RMSE,3))\n",
    "#                    if RMSE<rmse_t:\n",
    "#                        best_model=model\n",
    "#                        rmse_t=RMSE\n",
    "#                        best_lag=lag\n",
    "#                        best_window=window"
   ]
  },
  {
   "cell_type": "code",
   "execution_count": 17,
   "metadata": {},
   "outputs": [],
   "source": [
    "#print('Глубина:',best_model.max_depth)\n",
    "#print('Количество деревьев:',best_model.n_estimators)\n",
    "#print('RMSE после:',round(rmse_t,3))\n",
    "#print('RMSE до подбора:',round(RMSE_valid,3))\n",
    "#print('Лаг:', best_lag)\n",
    "#print('Окно скользящего среднего:', best_window)"
   ]
  },
  {
   "cell_type": "code",
   "execution_count": 18,
   "metadata": {},
   "outputs": [],
   "source": [
    "best_model=RandomForestRegressor(max_depth=33, n_estimators=16)"
   ]
  },
  {
   "cell_type": "markdown",
   "metadata": {},
   "source": [
    "Переобучим модель на объединенной обучающей и валидационной выборке."
   ]
  },
  {
   "cell_type": "code",
   "execution_count": 19,
   "metadata": {},
   "outputs": [
    {
     "data": {
      "text/plain": [
       "RandomForestRegressor(bootstrap=True, criterion='mse', max_depth=33,\n",
       "                      max_features='auto', max_leaf_nodes=None,\n",
       "                      min_impurity_decrease=0.0, min_impurity_split=None,\n",
       "                      min_samples_leaf=1, min_samples_split=2,\n",
       "                      min_weight_fraction_leaf=0.0, n_estimators=16,\n",
       "                      n_jobs=None, oob_score=False, random_state=None,\n",
       "                      verbose=0, warm_start=False)"
      ]
     },
     "execution_count": 19,
     "metadata": {},
     "output_type": "execute_result"
    }
   ],
   "source": [
    "best_model.fit(features_train_valid,target_train_valid)"
   ]
  },
  {
   "cell_type": "markdown",
   "metadata": {},
   "source": [
    "Проверим как сработает CatBoost"
   ]
  },
  {
   "cell_type": "code",
   "execution_count": 20,
   "metadata": {},
   "outputs": [
    {
     "data": {
      "text/plain": [
       "<catboost.core.CatBoostRegressor at 0x7fe8401d11d0>"
      ]
     },
     "execution_count": 20,
     "metadata": {},
     "output_type": "execute_result"
    }
   ],
   "source": [
    "cat_model = CatBoostRegressor()\n",
    "cat_model.fit(features_train, target_train, verbose=0)"
   ]
  },
  {
   "cell_type": "markdown",
   "metadata": {},
   "source": [
    "Проверим RMSE на валидационной выборке:"
   ]
  },
  {
   "cell_type": "code",
   "execution_count": 21,
   "metadata": {},
   "outputs": [
    {
     "name": "stdout",
     "output_type": "stream",
     "text": [
      "RMSE на валидационной выборке: 32.562\n"
     ]
    }
   ],
   "source": [
    "prediction_cb_v=cat_model.predict(features_valid)\n",
    "RMSE_cb_v=mean_squared_error(prediction_cb_v,target_valid)**0.5\n",
    "print('RMSE на валидационной выборке:', round(RMSE_cb_v,3))"
   ]
  },
  {
   "cell_type": "code",
   "execution_count": 22,
   "metadata": {},
   "outputs": [
    {
     "name": "stdout",
     "output_type": "stream",
     "text": [
      "RMSE на тестовой выборке: 72.973\n"
     ]
    }
   ],
   "source": [
    "prediction_cb_t=cat_model.predict(features_test)\n",
    "RMSE_cb_t=mean_squared_error(prediction_cb_t,target_test)**0.5\n",
    "print('RMSE на тестовой выборке:', round(RMSE_cb_t,3))"
   ]
  },
  {
   "cell_type": "markdown",
   "metadata": {},
   "source": [
    "Попробуем подобрать гиперпараметры и переобучить модель"
   ]
  },
  {
   "cell_type": "code",
   "execution_count": 23,
   "metadata": {},
   "outputs": [],
   "source": [
    "#\n",
    "#RMSE_1=RMSE_cb_v\n",
    "#cb_best_model=CatBoostRegressor()\n",
    "#max_lag=44\n",
    "#max_window=43\n",
    "#best_depth=0\n",
    "#best_lag=0\n",
    "#best_window=0\n",
    "#best_iter=0\n",
    "#\n",
    "#\n",
    "#for lag in range(42,max_lag):\n",
    "#    for window in range(40, max_window):\n",
    "#            make_features(orders_data,window,lag)       \n",
    "#            orders_data=orders_data.dropna()\n",
    "#            for max_d in range(6,8):\n",
    "#                for iterat in range(1110,1125):\n",
    "#                    model=CatBoostRegressor(depth=max_d,verbose=0, iterations=iterat)\n",
    "#                    model.fit(features_train, target_train)\n",
    "#                    RMSE=mean_squared_error(model.predict(features_valid),target_valid)**0.5\n",
    "#                    print('Лаг:', lag,end=' '),\n",
    "#                    print('Окно:', window,end=' '),\n",
    "#                    print('Глубина:',max_d,end=' '),\n",
    "#                    print('RMSE', round(RMSE,3))\n",
    "#                    if RMSE<RMSE_1:\n",
    "#                        cb_best_model=model\n",
    "#                        RMSE_1=RMSE\n",
    "#                        best_lag=lag\n",
    "#                        best_window=window\n",
    "#                        best_depth=max_d\n",
    "#                        best_iter=iterat\n",
    "#            "
   ]
  },
  {
   "cell_type": "code",
   "execution_count": 24,
   "metadata": {},
   "outputs": [],
   "source": [
    "#print('Глубина:',best_depth)\n",
    "#print('Итерации', best_iter)\n",
    "#print('RMSE после:',round(RMSE_1,3))\n",
    "#print('RMSE до подбора:',round(RMSE_cb_v,3))\n",
    "#print('Лаг:', best_lag)\n",
    "#print('Окно скользящего среднего:', best_window)"
   ]
  },
  {
   "cell_type": "markdown",
   "metadata": {},
   "source": [
    "Переобучим модель"
   ]
  },
  {
   "cell_type": "code",
   "execution_count": 25,
   "metadata": {},
   "outputs": [
    {
     "data": {
      "text/plain": [
       "<catboost.core.CatBoostRegressor at 0x7fe8401dc850>"
      ]
     },
     "execution_count": 25,
     "metadata": {},
     "output_type": "execute_result"
    }
   ],
   "source": [
    "cb_best_model=CatBoostRegressor(depth=7,verbose=0, iterations=1116)\n",
    "cb_best_model.fit(features_train_valid,target_train_valid, verbose=False)"
   ]
  },
  {
   "cell_type": "markdown",
   "metadata": {},
   "source": [
    "## Тестирование"
   ]
  },
  {
   "cell_type": "markdown",
   "metadata": {},
   "source": [
    "Проверим обе модели на тестовой выбоке: "
   ]
  },
  {
   "cell_type": "code",
   "execution_count": 26,
   "metadata": {},
   "outputs": [],
   "source": [
    "prediction_rf_test=best_model.predict(features_test)\n",
    "prediction_cb_test=cb_best_model.predict(features_test)\n",
    "\n",
    "RMSE_test_rf=mean_squared_error(prediction_rf_test,target_test)**0.5\n",
    "RMSE_test_cb=mean_squared_error(prediction_cb_test,target_test)**0.5"
   ]
  },
  {
   "cell_type": "code",
   "execution_count": 27,
   "metadata": {},
   "outputs": [
    {
     "name": "stdout",
     "output_type": "stream",
     "text": [
      "RMSE на тестовой выборке для леса: 47.399\n",
      "RMSE на тестовой выборке для леса до подбора: 72.74\n",
      "RMSE на тестовой выборке для бустинга: 47.464\n",
      "RMSE на тестовой выборке для бустинга до подбора: 72.973\n"
     ]
    }
   ],
   "source": [
    "print('RMSE на тестовой выборке для леса:', round(RMSE_test_rf,3))\n",
    "print('RMSE на тестовой выборке для леса до подбора:', round(RMSE_test,3))\n",
    "\n",
    "print('RMSE на тестовой выборке для бустинга:', round(RMSE_test_cb,3))\n",
    "print('RMSE на тестовой выборке для бустинга до подбора:', round(RMSE_cb_t,3))"
   ]
  },
  {
   "cell_type": "markdown",
   "metadata": {},
   "source": [
    "На всякий случай проверим на константной модели:"
   ]
  },
  {
   "cell_type": "code",
   "execution_count": 28,
   "metadata": {},
   "outputs": [],
   "source": [
    "adq=np.ones(len(features_test))*target_train.mean()"
   ]
  },
  {
   "cell_type": "code",
   "execution_count": 29,
   "metadata": {},
   "outputs": [],
   "source": [
    "RMSE_adq_rf=mean_squared_error(prediction_rf_test,adq)**0.5\n",
    "RMSE_adq_cb=mean_squared_error(prediction_cb_test,adq)**0.5"
   ]
  },
  {
   "cell_type": "code",
   "execution_count": 30,
   "metadata": {},
   "outputs": [
    {
     "name": "stdout",
     "output_type": "stream",
     "text": [
      "RMSE на константе для леса: 56.715\n",
      "RMSE на константе для бустинга: 54.931\n"
     ]
    }
   ],
   "source": [
    "print('RMSE на константе для леса:', round(RMSE_adq_rf,3))\n",
    "print('RMSE на константе для бустинга:', round(RMSE_adq_cb,3))"
   ]
  },
  {
   "cell_type": "markdown",
   "metadata": {},
   "source": [
    "Построим графики предсказаний и сравним с тестовым значением. Возьмем пару дней второй половины августа"
   ]
  },
  {
   "cell_type": "code",
   "execution_count": 41,
   "metadata": {},
   "outputs": [
    {
     "data": {
      "image/png": "[encoded data removed]",
      "text/plain": [
       "<Figure size 1440x1440 with 1 Axes>"
      ]
     },
     "metadata": {
      "needs_background": "light"
     },
     "output_type": "display_data"
    }
   ],
   "source": [
    "prediction_rf=pd.DataFrame(prediction_rf_test, index=target_test.index)\n",
    "prediction_cb=pd.DataFrame(prediction_cb_test, index=target_test.index)\n",
    "\n",
    "idx_1='2018-08-24'\n",
    "idx_2='2018-08-25'\n",
    "\n",
    "\n",
    "prediction_rf=prediction_rf.loc[idx_1:idx_2]\n",
    "prediction_cb=prediction_cb.loc[idx_1:idx_2]\n",
    "test_rf=target_test.loc[idx_1:idx_2]\n",
    "\n",
    "fig=plt.figure(figsize=(20, 20))\n",
    "\n",
    "ax=fig.add_subplot(111)\n",
    "ax.plot(test_rf.index, test_rf.values, color=\"C0\", label='Тестовая выборка')\n",
    "ax.plot(prediction_rf.index, prediction_rf.values, color=\"C1\", linestyle=\":\", label='Случайный лес')\n",
    "ax.plot(prediction_cb.index, prediction_cb.values, color=\"C2\", linestyle=\"--\",label='CatBoost')\n",
    "ax.legend()\n",
    "\n",
    "plt.xticks(rotation=90)\n",
    "plt.show()\n",
    "\n"
   ]
  },
  {
   "cell_type": "markdown",
   "metadata": {},
   "source": [
    "Обе модели некорректно предсказывают пиковые значения, когда идет рост заказов и аналогично в часы спада прогнозные значения сильно ниже фактических, т.е. в обоих случаях можно упустить заказы и прибыль."
   ]
  }
 ],
 "metadata": {
  "ExecuteTimeLog": [
   {
    "duration": 534,
    "start_time": "2021-06-08T17:00:53.329Z"
   },
   {
    "duration": 1430,
    "start_time": "2021-06-08T17:00:54.817Z"
   },
   {
    "duration": 1541,
    "start_time": "2021-06-08T17:01:11.358Z"
   },
   {
    "duration": 34,
    "start_time": "2021-06-08T17:01:34.004Z"
   },
   {
    "duration": 42,
    "start_time": "2021-06-08T17:01:56.745Z"
   },
   {
    "duration": 299,
    "start_time": "2021-06-08T17:02:26.219Z"
   },
   {
    "duration": 7,
    "start_time": "2021-06-08T17:02:33.725Z"
   },
   {
    "duration": 495,
    "start_time": "2021-06-08T17:06:21.142Z"
   },
   {
    "duration": 43,
    "start_time": "2021-06-08T17:06:22.277Z"
   },
   {
    "duration": 7,
    "start_time": "2021-06-08T17:06:24.551Z"
   },
   {
    "duration": 3,
    "start_time": "2021-06-08T17:06:51.523Z"
   },
   {
    "duration": 36,
    "start_time": "2021-06-08T17:06:52.660Z"
   },
   {
    "duration": 7,
    "start_time": "2021-06-08T17:06:54.149Z"
   },
   {
    "duration": 553,
    "start_time": "2021-06-08T17:08:05.195Z"
   },
   {
    "duration": 48,
    "start_time": "2021-06-08T17:08:07.071Z"
   },
   {
    "duration": 7,
    "start_time": "2021-06-08T17:08:07.971Z"
   },
   {
    "duration": 3,
    "start_time": "2021-06-08T17:11:33.427Z"
   },
   {
    "duration": 40,
    "start_time": "2021-06-08T17:11:34.417Z"
   },
   {
    "duration": 6,
    "start_time": "2021-06-08T17:11:35.212Z"
   },
   {
    "duration": 13,
    "start_time": "2021-06-08T17:13:10.680Z"
   },
   {
    "duration": 3,
    "start_time": "2021-06-08T17:21:09.209Z"
   },
   {
    "duration": 4,
    "start_time": "2021-06-08T17:21:50.110Z"
   },
   {
    "duration": 4,
    "start_time": "2021-06-08T17:22:08.767Z"
   },
   {
    "duration": 243,
    "start_time": "2021-06-08T17:35:46.898Z"
   },
   {
    "duration": 183,
    "start_time": "2021-06-08T17:35:57.929Z"
   },
   {
    "duration": 212,
    "start_time": "2021-06-08T17:36:18.087Z"
   },
   {
    "duration": 853,
    "start_time": "2021-06-08T17:37:39.123Z"
   },
   {
    "duration": 47,
    "start_time": "2021-06-08T17:37:40.035Z"
   },
   {
    "duration": 6,
    "start_time": "2021-06-08T17:37:40.411Z"
   },
   {
    "duration": 265,
    "start_time": "2021-06-08T17:37:41.907Z"
   },
   {
    "duration": 188,
    "start_time": "2021-06-08T17:37:42.396Z"
   },
   {
    "duration": 3,
    "start_time": "2021-06-08T17:37:59.009Z"
   },
   {
    "duration": 4,
    "start_time": "2021-06-08T17:38:07.125Z"
   },
   {
    "duration": 7,
    "start_time": "2021-06-08T17:38:18.160Z"
   },
   {
    "duration": 12,
    "start_time": "2021-06-08T17:39:25.472Z"
   },
   {
    "duration": 16,
    "start_time": "2021-06-08T17:39:37.503Z"
   },
   {
    "duration": 193,
    "start_time": "2021-06-08T17:44:47.809Z"
   },
   {
    "duration": 1160,
    "start_time": "2021-06-08T17:45:00.110Z"
   },
   {
    "duration": 47,
    "start_time": "2021-06-08T17:45:01.272Z"
   },
   {
    "duration": 7,
    "start_time": "2021-06-08T17:45:01.324Z"
   },
   {
    "duration": 38,
    "start_time": "2021-06-08T17:45:01.333Z"
   },
   {
    "duration": 20,
    "start_time": "2021-06-08T17:45:01.375Z"
   },
   {
    "duration": 41,
    "start_time": "2021-06-08T17:45:01.397Z"
   },
   {
    "duration": 117,
    "start_time": "2021-06-08T17:45:01.442Z"
   },
   {
    "duration": 1142,
    "start_time": "2021-06-08T17:47:43.180Z"
   },
   {
    "duration": 45,
    "start_time": "2021-06-08T17:47:44.324Z"
   },
   {
    "duration": 6,
    "start_time": "2021-06-08T17:47:44.370Z"
   },
   {
    "duration": 4,
    "start_time": "2021-06-08T17:47:45.436Z"
   },
   {
    "duration": 4,
    "start_time": "2021-06-08T17:47:45.714Z"
   },
   {
    "duration": 17,
    "start_time": "2021-06-08T17:47:46.404Z"
   },
   {
    "duration": 306,
    "start_time": "2021-06-08T17:47:46.732Z"
   },
   {
    "duration": 5026,
    "start_time": "2021-06-08T17:49:00.532Z"
   },
   {
    "duration": 262,
    "start_time": "2021-06-08T17:49:19.428Z"
   },
   {
    "duration": 23,
    "start_time": "2021-06-08T17:50:18.343Z"
   },
   {
    "duration": 279,
    "start_time": "2021-06-08T17:50:27.285Z"
   },
   {
    "duration": 286,
    "start_time": "2021-06-08T17:50:44.398Z"
   },
   {
    "duration": 14,
    "start_time": "2021-06-08T17:51:16.826Z"
   },
   {
    "duration": 301,
    "start_time": "2021-06-08T17:51:19.798Z"
   },
   {
    "duration": 316,
    "start_time": "2021-06-08T17:51:57.951Z"
   },
   {
    "duration": 383,
    "start_time": "2021-06-08T17:52:22.807Z"
   },
   {
    "duration": 18,
    "start_time": "2021-06-08T17:53:10.465Z"
   },
   {
    "duration": 287,
    "start_time": "2021-06-08T17:53:12.972Z"
   },
   {
    "duration": 191,
    "start_time": "2021-06-08T17:53:40.593Z"
   },
   {
    "duration": 294,
    "start_time": "2021-06-08T17:53:42.758Z"
   },
   {
    "duration": 16,
    "start_time": "2021-06-08T17:53:52.269Z"
   },
   {
    "duration": 308,
    "start_time": "2021-06-08T17:53:53.943Z"
   },
   {
    "duration": 13,
    "start_time": "2021-06-08T17:54:07.941Z"
   },
   {
    "duration": 331,
    "start_time": "2021-06-08T17:54:08.660Z"
   },
   {
    "duration": 4,
    "start_time": "2021-06-08T18:03:49.254Z"
   },
   {
    "duration": 13,
    "start_time": "2021-06-08T18:03:50.262Z"
   },
   {
    "duration": 284,
    "start_time": "2021-06-08T18:03:51.502Z"
   },
   {
    "duration": 1006,
    "start_time": "2021-06-08T18:04:47.208Z"
   },
   {
    "duration": 44,
    "start_time": "2021-06-08T18:04:48.216Z"
   },
   {
    "duration": 6,
    "start_time": "2021-06-08T18:04:48.262Z"
   },
   {
    "duration": 4,
    "start_time": "2021-06-08T18:04:49.584Z"
   },
   {
    "duration": 4,
    "start_time": "2021-06-08T18:04:49.972Z"
   },
   {
    "duration": 15,
    "start_time": "2021-06-08T18:04:50.720Z"
   },
   {
    "duration": 263,
    "start_time": "2021-06-08T18:04:51.080Z"
   },
   {
    "duration": 338,
    "start_time": "2021-06-08T18:05:00.957Z"
   },
   {
    "duration": 354,
    "start_time": "2021-06-08T18:15:26.645Z"
   },
   {
    "duration": 193,
    "start_time": "2021-06-08T18:16:17.637Z"
   },
   {
    "duration": 4609,
    "start_time": "2021-06-08T18:16:30.865Z"
   },
   {
    "duration": 438,
    "start_time": "2021-06-09T05:16:40.200Z"
   },
   {
    "duration": 1503,
    "start_time": "2021-06-09T05:16:46.072Z"
   },
   {
    "duration": 56,
    "start_time": "2021-06-09T05:16:47.578Z"
   },
   {
    "duration": 8,
    "start_time": "2021-06-09T05:16:48.345Z"
   },
   {
    "duration": 5,
    "start_time": "2021-06-09T05:16:50.063Z"
   },
   {
    "duration": 5,
    "start_time": "2021-06-09T05:16:50.345Z"
   },
   {
    "duration": 24,
    "start_time": "2021-06-09T05:16:50.857Z"
   },
   {
    "duration": 446,
    "start_time": "2021-06-09T05:16:51.105Z"
   },
   {
    "duration": 13,
    "start_time": "2021-06-09T05:16:51.643Z"
   },
   {
    "duration": 4785,
    "start_time": "2021-06-09T05:17:17.112Z"
   },
   {
    "duration": 4454,
    "start_time": "2021-06-09T05:17:54.360Z"
   },
   {
    "duration": 476,
    "start_time": "2021-06-09T05:18:59.690Z"
   },
   {
    "duration": 450,
    "start_time": "2021-06-09T05:19:22.597Z"
   },
   {
    "duration": 1521,
    "start_time": "2021-06-09T05:21:07.613Z"
   },
   {
    "duration": 1499,
    "start_time": "2021-06-09T05:22:38.739Z"
   },
   {
    "duration": 1117,
    "start_time": "2021-06-09T05:23:07.399Z"
   },
   {
    "duration": 1493,
    "start_time": "2021-06-09T05:23:37.277Z"
   },
   {
    "duration": 1082,
    "start_time": "2021-06-09T05:26:38.799Z"
   },
   {
    "duration": 1032,
    "start_time": "2021-06-09T05:26:45.440Z"
   },
   {
    "duration": 621,
    "start_time": "2021-06-09T05:26:53.041Z"
   },
   {
    "duration": 428,
    "start_time": "2021-06-09T05:26:59.297Z"
   },
   {
    "duration": 636,
    "start_time": "2021-06-09T05:27:11.035Z"
   },
   {
    "duration": 10365,
    "start_time": "2021-06-09T05:30:38.451Z"
   },
   {
    "duration": 9625,
    "start_time": "2021-06-09T05:31:46.924Z"
   },
   {
    "duration": 544,
    "start_time": "2021-06-09T05:32:19.152Z"
   },
   {
    "duration": 1709,
    "start_time": "2021-06-09T05:35:43.182Z"
   },
   {
    "duration": 56,
    "start_time": "2021-06-09T05:35:44.893Z"
   },
   {
    "duration": 8,
    "start_time": "2021-06-09T05:35:44.990Z"
   },
   {
    "duration": 5,
    "start_time": "2021-06-09T05:35:46.677Z"
   },
   {
    "duration": 6,
    "start_time": "2021-06-09T05:35:47.142Z"
   },
   {
    "duration": 25,
    "start_time": "2021-06-09T05:35:48.145Z"
   },
   {
    "duration": 416,
    "start_time": "2021-06-09T05:35:48.965Z"
   },
   {
    "duration": 1397,
    "start_time": "2021-06-09T05:35:54.423Z"
   },
   {
    "duration": 608,
    "start_time": "2021-06-09T05:36:46.870Z"
   },
   {
    "duration": 626,
    "start_time": "2021-06-09T05:37:04.976Z"
   },
   {
    "duration": 844,
    "start_time": "2021-06-09T05:37:21.867Z"
   },
   {
    "duration": 702,
    "start_time": "2021-06-09T05:37:31.052Z"
   },
   {
    "duration": 30,
    "start_time": "2021-06-09T05:37:52.553Z"
   },
   {
    "duration": 662,
    "start_time": "2021-06-09T05:37:54.991Z"
   },
   {
    "duration": 28,
    "start_time": "2021-06-09T05:38:14.283Z"
   },
   {
    "duration": 797,
    "start_time": "2021-06-09T05:38:16.697Z"
   },
   {
    "duration": 29,
    "start_time": "2021-06-09T05:38:30.267Z"
   },
   {
    "duration": 444,
    "start_time": "2021-06-09T05:38:32.587Z"
   },
   {
    "duration": 24,
    "start_time": "2021-06-09T05:38:43.061Z"
   },
   {
    "duration": 428,
    "start_time": "2021-06-09T05:38:45.654Z"
   },
   {
    "duration": 614,
    "start_time": "2021-06-09T05:39:12.448Z"
   },
   {
    "duration": 21,
    "start_time": "2021-06-09T05:39:36.155Z"
   },
   {
    "duration": 712,
    "start_time": "2021-06-09T05:39:38.532Z"
   },
   {
    "duration": 1546,
    "start_time": "2021-06-09T15:24:30.161Z"
   },
   {
    "duration": 59,
    "start_time": "2021-06-09T15:24:31.710Z"
   },
   {
    "duration": 18,
    "start_time": "2021-06-09T15:24:31.772Z"
   },
   {
    "duration": 5,
    "start_time": "2021-06-09T15:24:33.040Z"
   },
   {
    "duration": 5,
    "start_time": "2021-06-09T15:24:33.368Z"
   },
   {
    "duration": 25,
    "start_time": "2021-06-09T15:24:34.184Z"
   },
   {
    "duration": 418,
    "start_time": "2021-06-09T15:24:34.651Z"
   },
   {
    "duration": 660,
    "start_time": "2021-06-09T15:24:36.489Z"
   },
   {
    "duration": 22,
    "start_time": "2021-06-09T15:24:55.627Z"
   },
   {
    "duration": 450,
    "start_time": "2021-06-09T15:24:57.228Z"
   },
   {
    "duration": 583,
    "start_time": "2021-06-09T15:24:58.494Z"
   },
   {
    "duration": 1520,
    "start_time": "2021-06-09T15:25:20.488Z"
   },
   {
    "duration": 58,
    "start_time": "2021-06-09T15:25:22.011Z"
   },
   {
    "duration": 14,
    "start_time": "2021-06-09T15:25:22.072Z"
   },
   {
    "duration": 6,
    "start_time": "2021-06-09T15:25:23.175Z"
   },
   {
    "duration": 5,
    "start_time": "2021-06-09T15:25:23.512Z"
   },
   {
    "duration": 26,
    "start_time": "2021-06-09T15:25:24.238Z"
   },
   {
    "duration": 430,
    "start_time": "2021-06-09T15:25:24.598Z"
   },
   {
    "duration": 623,
    "start_time": "2021-06-09T15:25:25.336Z"
   },
   {
    "duration": 5,
    "start_time": "2021-06-09T15:26:55.950Z"
   },
   {
    "duration": 59,
    "start_time": "2021-06-09T15:26:56.469Z"
   },
   {
    "duration": 8,
    "start_time": "2021-06-09T15:26:56.742Z"
   },
   {
    "duration": 7,
    "start_time": "2021-06-09T15:26:57.886Z"
   },
   {
    "duration": 5,
    "start_time": "2021-06-09T15:26:58.158Z"
   },
   {
    "duration": 21,
    "start_time": "2021-06-09T15:26:58.662Z"
   },
   {
    "duration": 387,
    "start_time": "2021-06-09T15:26:58.901Z"
   },
   {
    "duration": 590,
    "start_time": "2021-06-09T15:26:59.582Z"
   },
   {
    "duration": 1446,
    "start_time": "2021-06-09T15:27:16.655Z"
   },
   {
    "duration": 54,
    "start_time": "2021-06-09T15:27:18.104Z"
   },
   {
    "duration": 8,
    "start_time": "2021-06-09T15:27:18.161Z"
   },
   {
    "duration": 5,
    "start_time": "2021-06-09T15:27:18.736Z"
   },
   {
    "duration": 5,
    "start_time": "2021-06-09T15:27:19.048Z"
   },
   {
    "duration": 27,
    "start_time": "2021-06-09T15:27:19.608Z"
   },
   {
    "duration": 424,
    "start_time": "2021-06-09T15:27:19.880Z"
   },
   {
    "duration": 582,
    "start_time": "2021-06-09T15:27:20.440Z"
   },
   {
    "duration": 9,
    "start_time": "2021-06-09T15:28:06.409Z"
   },
   {
    "duration": 14,
    "start_time": "2021-06-09T15:28:15.003Z"
   },
   {
    "duration": 1350,
    "start_time": "2021-06-09T15:30:21.399Z"
   },
   {
    "duration": 56,
    "start_time": "2021-06-09T15:30:22.752Z"
   },
   {
    "duration": 10,
    "start_time": "2021-06-09T15:30:22.811Z"
   },
   {
    "duration": 5,
    "start_time": "2021-06-09T15:30:23.114Z"
   },
   {
    "duration": 5,
    "start_time": "2021-06-09T15:30:23.378Z"
   },
   {
    "duration": 25,
    "start_time": "2021-06-09T15:30:23.850Z"
   },
   {
    "duration": 438,
    "start_time": "2021-06-09T15:30:24.058Z"
   },
   {
    "duration": 555,
    "start_time": "2021-06-09T15:30:24.588Z"
   },
   {
    "duration": 14,
    "start_time": "2021-06-09T15:30:34.949Z"
   },
   {
    "duration": 1463,
    "start_time": "2021-06-09T15:31:03.761Z"
   },
   {
    "duration": 56,
    "start_time": "2021-06-09T15:31:05.227Z"
   },
   {
    "duration": 12,
    "start_time": "2021-06-09T15:31:05.287Z"
   },
   {
    "duration": 4,
    "start_time": "2021-06-09T15:31:05.529Z"
   },
   {
    "duration": 5,
    "start_time": "2021-06-09T15:31:05.826Z"
   },
   {
    "duration": 26,
    "start_time": "2021-06-09T15:31:06.397Z"
   },
   {
    "duration": 424,
    "start_time": "2021-06-09T15:31:06.619Z"
   },
   {
    "duration": 531,
    "start_time": "2021-06-09T15:31:07.098Z"
   },
   {
    "duration": 12,
    "start_time": "2021-06-09T15:31:09.643Z"
   },
   {
    "duration": 14,
    "start_time": "2021-06-09T15:31:17.027Z"
   },
   {
    "duration": 376,
    "start_time": "2021-06-09T15:49:11.956Z"
   },
   {
    "duration": 18,
    "start_time": "2021-06-09T15:49:21.871Z"
   },
   {
    "duration": 35,
    "start_time": "2021-06-09T15:49:41.194Z"
   },
   {
    "duration": 8,
    "start_time": "2021-06-09T15:53:07.509Z"
   },
   {
    "duration": 1370,
    "start_time": "2021-06-09T15:54:02.511Z"
   },
   {
    "duration": 55,
    "start_time": "2021-06-09T15:54:03.883Z"
   },
   {
    "duration": 9,
    "start_time": "2021-06-09T15:54:03.951Z"
   },
   {
    "duration": 5,
    "start_time": "2021-06-09T15:54:05.393Z"
   },
   {
    "duration": 5,
    "start_time": "2021-06-09T15:54:05.776Z"
   },
   {
    "duration": 26,
    "start_time": "2021-06-09T15:54:06.471Z"
   },
   {
    "duration": 395,
    "start_time": "2021-06-09T15:54:07.196Z"
   },
   {
    "duration": 538,
    "start_time": "2021-06-09T15:54:08.257Z"
   },
   {
    "duration": 14,
    "start_time": "2021-06-09T15:54:11.377Z"
   },
   {
    "duration": 18,
    "start_time": "2021-06-09T15:54:12.093Z"
   },
   {
    "duration": 7,
    "start_time": "2021-06-09T15:54:13.265Z"
   },
   {
    "duration": 7,
    "start_time": "2021-06-09T15:59:27.759Z"
   },
   {
    "duration": 16,
    "start_time": "2021-06-09T16:01:31.280Z"
   },
   {
    "duration": 90,
    "start_time": "2021-06-09T16:05:27.385Z"
   },
   {
    "duration": 17,
    "start_time": "2021-06-09T16:07:18.536Z"
   },
   {
    "duration": 395,
    "start_time": "2021-06-09T16:07:20.641Z"
   },
   {
    "duration": 4,
    "start_time": "2021-06-09T16:07:26.223Z"
   },
   {
    "duration": 260,
    "start_time": "2021-06-09T16:07:30.562Z"
   },
   {
    "duration": 291,
    "start_time": "2021-06-09T16:07:36.528Z"
   },
   {
    "duration": 4,
    "start_time": "2021-06-09T16:09:18.899Z"
   },
   {
    "duration": 332,
    "start_time": "2021-06-09T16:09:50.591Z"
   },
   {
    "duration": 250,
    "start_time": "2021-06-09T16:09:58.180Z"
   },
   {
    "duration": 12,
    "start_time": "2021-06-09T16:10:48.371Z"
   },
   {
    "duration": 12,
    "start_time": "2021-06-09T16:11:17.807Z"
   },
   {
    "duration": 267,
    "start_time": "2021-06-09T16:12:20.646Z"
   },
   {
    "duration": 10,
    "start_time": "2021-06-09T16:12:35.861Z"
   },
   {
    "duration": 1591,
    "start_time": "2021-06-09T16:13:09.697Z"
   },
   {
    "duration": 56,
    "start_time": "2021-06-09T16:13:11.291Z"
   },
   {
    "duration": 9,
    "start_time": "2021-06-09T16:13:11.350Z"
   },
   {
    "duration": 5,
    "start_time": "2021-06-09T16:13:12.346Z"
   },
   {
    "duration": 5,
    "start_time": "2021-06-09T16:13:12.669Z"
   },
   {
    "duration": 24,
    "start_time": "2021-06-09T16:13:13.344Z"
   },
   {
    "duration": 398,
    "start_time": "2021-06-09T16:13:13.685Z"
   },
   {
    "duration": 510,
    "start_time": "2021-06-09T16:13:14.401Z"
   },
   {
    "duration": 15,
    "start_time": "2021-06-09T16:13:16.233Z"
   },
   {
    "duration": 12,
    "start_time": "2021-06-09T16:13:17.184Z"
   },
   {
    "duration": 15,
    "start_time": "2021-06-09T16:13:19.193Z"
   },
   {
    "duration": 164,
    "start_time": "2021-06-09T16:13:20.210Z"
   },
   {
    "duration": 11,
    "start_time": "2021-06-09T16:13:23.732Z"
   },
   {
    "duration": 11,
    "start_time": "2021-06-09T16:13:24.834Z"
   },
   {
    "duration": 12,
    "start_time": "2021-06-09T16:14:08.162Z"
   },
   {
    "duration": 11,
    "start_time": "2021-06-09T16:14:09.096Z"
   },
   {
    "duration": 24,
    "start_time": "2021-06-09T16:14:45.181Z"
   },
   {
    "duration": 1600,
    "start_time": "2021-06-09T16:15:54.464Z"
   },
   {
    "duration": 63,
    "start_time": "2021-06-09T16:15:56.067Z"
   },
   {
    "duration": 9,
    "start_time": "2021-06-09T16:15:56.132Z"
   },
   {
    "duration": 5,
    "start_time": "2021-06-09T16:15:57.447Z"
   },
   {
    "duration": 6,
    "start_time": "2021-06-09T16:15:57.734Z"
   },
   {
    "duration": 30,
    "start_time": "2021-06-09T16:15:58.417Z"
   },
   {
    "duration": 484,
    "start_time": "2021-06-09T16:15:58.744Z"
   },
   {
    "duration": 567,
    "start_time": "2021-06-09T16:15:59.456Z"
   },
   {
    "duration": 13,
    "start_time": "2021-06-09T16:16:01.320Z"
   },
   {
    "duration": 12,
    "start_time": "2021-06-09T16:16:02.192Z"
   },
   {
    "duration": 20,
    "start_time": "2021-06-09T16:16:02.929Z"
   },
   {
    "duration": 24,
    "start_time": "2021-06-09T16:16:04.144Z"
   },
   {
    "duration": 7,
    "start_time": "2021-06-09T16:16:27.000Z"
   },
   {
    "duration": 22,
    "start_time": "2021-06-09T16:16:38.515Z"
   },
   {
    "duration": 15,
    "start_time": "2021-06-09T16:17:03.726Z"
   },
   {
    "duration": 4,
    "start_time": "2021-06-09T16:17:06.456Z"
   },
   {
    "duration": 14,
    "start_time": "2021-06-09T16:17:14.360Z"
   },
   {
    "duration": 5,
    "start_time": "2021-06-09T16:17:15.575Z"
   },
   {
    "duration": 5,
    "start_time": "2021-06-09T16:17:28.524Z"
   },
   {
    "duration": 6,
    "start_time": "2021-06-09T16:17:46.716Z"
   },
   {
    "duration": 1506,
    "start_time": "2021-06-09T16:20:43.680Z"
   },
   {
    "duration": 60,
    "start_time": "2021-06-09T16:20:45.190Z"
   },
   {
    "duration": 8,
    "start_time": "2021-06-09T16:20:45.253Z"
   },
   {
    "duration": 5,
    "start_time": "2021-06-09T16:20:46.378Z"
   },
   {
    "duration": 5,
    "start_time": "2021-06-09T16:20:46.778Z"
   },
   {
    "duration": 29,
    "start_time": "2021-06-09T16:20:47.544Z"
   },
   {
    "duration": 475,
    "start_time": "2021-06-09T16:20:47.927Z"
   },
   {
    "duration": 530,
    "start_time": "2021-06-09T16:20:49.443Z"
   },
   {
    "duration": 14,
    "start_time": "2021-06-09T16:20:50.624Z"
   },
   {
    "duration": 20,
    "start_time": "2021-06-09T16:20:54.024Z"
   },
   {
    "duration": 12,
    "start_time": "2021-06-09T16:20:55.272Z"
   },
   {
    "duration": 35,
    "start_time": "2021-06-09T16:21:09.044Z"
   },
   {
    "duration": 50,
    "start_time": "2021-06-09T16:21:28.255Z"
   },
   {
    "duration": 35,
    "start_time": "2021-06-09T16:22:09.618Z"
   },
   {
    "duration": 34,
    "start_time": "2021-06-09T16:22:22.553Z"
   },
   {
    "duration": 8,
    "start_time": "2021-06-09T16:25:03.120Z"
   },
   {
    "duration": 7,
    "start_time": "2021-06-09T16:25:11.566Z"
   },
   {
    "duration": 402,
    "start_time": "2021-06-09T16:25:19.826Z"
   },
   {
    "duration": 7,
    "start_time": "2021-06-09T16:25:24.274Z"
   },
   {
    "duration": 5,
    "start_time": "2021-06-09T16:25:42.511Z"
   },
   {
    "duration": 5,
    "start_time": "2021-06-09T16:26:08.002Z"
   },
   {
    "duration": 24,
    "start_time": "2021-06-09T16:26:23.587Z"
   },
   {
    "duration": 28,
    "start_time": "2021-06-09T16:26:28.646Z"
   },
   {
    "duration": 5,
    "start_time": "2021-06-09T16:26:43.815Z"
   },
   {
    "duration": 6587,
    "start_time": "2021-06-09T16:26:55.112Z"
   },
   {
    "duration": 6,
    "start_time": "2021-06-09T16:27:17.123Z"
   },
   {
    "duration": 7,
    "start_time": "2021-06-09T16:27:37.160Z"
   },
   {
    "duration": 20,
    "start_time": "2021-06-09T16:28:25.543Z"
   },
   {
    "duration": 11,
    "start_time": "2021-06-09T16:29:22.954Z"
   },
   {
    "duration": 1508,
    "start_time": "2021-06-09T16:33:45.755Z"
   },
   {
    "duration": 60,
    "start_time": "2021-06-09T16:33:47.267Z"
   },
   {
    "duration": 52,
    "start_time": "2021-06-09T16:34:04.321Z"
   },
   {
    "duration": 9,
    "start_time": "2021-06-09T16:34:05.022Z"
   },
   {
    "duration": 68,
    "start_time": "2021-06-09T16:34:15.062Z"
   },
   {
    "duration": 8,
    "start_time": "2021-06-09T16:34:22.054Z"
   },
   {
    "duration": 7,
    "start_time": "2021-06-09T16:34:26.479Z"
   },
   {
    "duration": 5,
    "start_time": "2021-06-09T16:34:27.254Z"
   },
   {
    "duration": 11,
    "start_time": "2021-06-09T16:34:28.151Z"
   },
   {
    "duration": 28,
    "start_time": "2021-06-09T16:34:32.271Z"
   },
   {
    "duration": 454,
    "start_time": "2021-06-09T16:34:33.599Z"
   },
   {
    "duration": 571,
    "start_time": "2021-06-09T16:34:35.256Z"
   },
   {
    "duration": 14,
    "start_time": "2021-06-09T16:34:40.089Z"
   },
   {
    "duration": 19,
    "start_time": "2021-06-09T16:34:43.345Z"
   },
   {
    "duration": 14,
    "start_time": "2021-06-09T16:34:45.170Z"
   },
   {
    "duration": 14,
    "start_time": "2021-06-09T16:34:46.106Z"
   },
   {
    "duration": 5,
    "start_time": "2021-06-09T16:35:22.255Z"
   },
   {
    "duration": 416,
    "start_time": "2021-06-09T16:35:24.015Z"
   },
   {
    "duration": 249,
    "start_time": "2021-06-09T16:35:24.742Z"
   },
   {
    "duration": 259,
    "start_time": "2021-06-09T16:35:27.992Z"
   },
   {
    "duration": 1534,
    "start_time": "2021-06-09T16:36:14.505Z"
   },
   {
    "duration": 73,
    "start_time": "2021-06-09T16:36:17.449Z"
   },
   {
    "duration": 11,
    "start_time": "2021-06-09T16:36:19.425Z"
   },
   {
    "duration": 4,
    "start_time": "2021-06-09T16:36:22.770Z"
   },
   {
    "duration": 7,
    "start_time": "2021-06-09T16:36:23.387Z"
   },
   {
    "duration": 13,
    "start_time": "2021-06-09T16:36:23.893Z"
   },
   {
    "duration": 27,
    "start_time": "2021-06-09T16:36:25.603Z"
   },
   {
    "duration": 441,
    "start_time": "2021-06-09T16:36:29.756Z"
   },
   {
    "duration": 543,
    "start_time": "2021-06-09T16:36:33.309Z"
   },
   {
    "duration": 14,
    "start_time": "2021-06-09T16:36:36.137Z"
   },
   {
    "duration": 23,
    "start_time": "2021-06-09T16:36:46.592Z"
   },
   {
    "duration": 13,
    "start_time": "2021-06-09T16:36:49.508Z"
   },
   {
    "duration": 6,
    "start_time": "2021-06-09T16:36:49.847Z"
   },
   {
    "duration": 15,
    "start_time": "2021-06-09T16:37:18.098Z"
   },
   {
    "duration": 1660,
    "start_time": "2021-06-09T16:38:18.893Z"
   },
   {
    "duration": 76,
    "start_time": "2021-06-09T16:38:20.556Z"
   },
   {
    "duration": 10,
    "start_time": "2021-06-09T16:38:20.636Z"
   },
   {
    "duration": 4,
    "start_time": "2021-06-09T16:38:21.709Z"
   },
   {
    "duration": 4,
    "start_time": "2021-06-09T16:38:22.037Z"
   },
   {
    "duration": 11,
    "start_time": "2021-06-09T16:38:22.437Z"
   },
   {
    "duration": 28,
    "start_time": "2021-06-09T16:38:24.005Z"
   },
   {
    "duration": 474,
    "start_time": "2021-06-09T16:38:24.429Z"
   },
   {
    "duration": 609,
    "start_time": "2021-06-09T16:38:25.179Z"
   },
   {
    "duration": 15,
    "start_time": "2021-06-09T16:38:27.149Z"
   },
   {
    "duration": 3,
    "start_time": "2021-06-09T16:38:28.710Z"
   },
   {
    "duration": 13,
    "start_time": "2021-06-09T16:38:29.688Z"
   },
   {
    "duration": 11,
    "start_time": "2021-06-09T16:40:19.187Z"
   },
   {
    "duration": 448,
    "start_time": "2021-06-09T16:40:20.845Z"
   },
   {
    "duration": 1669,
    "start_time": "2021-06-09T16:44:40.384Z"
   },
   {
    "duration": 73,
    "start_time": "2021-06-09T16:44:42.055Z"
   },
   {
    "duration": 11,
    "start_time": "2021-06-09T16:44:47.130Z"
   },
   {
    "duration": 5,
    "start_time": "2021-06-09T16:44:49.476Z"
   },
   {
    "duration": 6,
    "start_time": "2021-06-09T16:44:49.485Z"
   },
   {
    "duration": 12,
    "start_time": "2021-06-09T16:44:49.891Z"
   },
   {
    "duration": 24,
    "start_time": "2021-06-09T16:44:51.891Z"
   },
   {
    "duration": 419,
    "start_time": "2021-06-09T16:44:52.273Z"
   },
   {
    "duration": 544,
    "start_time": "2021-06-09T16:44:53.094Z"
   },
   {
    "duration": 8,
    "start_time": "2021-06-09T16:44:55.715Z"
   },
   {
    "duration": 25,
    "start_time": "2021-06-09T16:44:56.607Z"
   },
   {
    "duration": 13,
    "start_time": "2021-06-09T16:44:58.107Z"
   },
   {
    "duration": 1511,
    "start_time": "2021-06-09T16:45:19.202Z"
   },
   {
    "duration": 64,
    "start_time": "2021-06-09T16:45:20.716Z"
   },
   {
    "duration": 12,
    "start_time": "2021-06-09T16:45:20.785Z"
   },
   {
    "duration": 5,
    "start_time": "2021-06-09T16:45:21.522Z"
   },
   {
    "duration": 6,
    "start_time": "2021-06-09T16:45:21.842Z"
   },
   {
    "duration": 17,
    "start_time": "2021-06-09T16:45:22.202Z"
   },
   {
    "duration": 27,
    "start_time": "2021-06-09T16:45:22.955Z"
   },
   {
    "duration": 455,
    "start_time": "2021-06-09T16:45:23.283Z"
   },
   {
    "duration": 614,
    "start_time": "2021-06-09T16:45:23.977Z"
   },
   {
    "duration": 21,
    "start_time": "2021-06-09T16:45:30.850Z"
   },
   {
    "duration": 15,
    "start_time": "2021-06-09T16:45:31.827Z"
   },
   {
    "duration": 324,
    "start_time": "2021-06-09T16:45:32.949Z"
   },
   {
    "duration": 12,
    "start_time": "2021-06-09T16:45:34.341Z"
   },
   {
    "duration": 16,
    "start_time": "2021-06-09T16:45:34.820Z"
   },
   {
    "duration": 1525,
    "start_time": "2021-06-09T16:47:47.124Z"
   },
   {
    "duration": 63,
    "start_time": "2021-06-09T16:47:48.652Z"
   },
   {
    "duration": 8,
    "start_time": "2021-06-09T16:47:48.717Z"
   },
   {
    "duration": 5,
    "start_time": "2021-06-09T16:47:50.037Z"
   },
   {
    "duration": 5,
    "start_time": "2021-06-09T16:47:50.427Z"
   },
   {
    "duration": 11,
    "start_time": "2021-06-09T16:47:50.947Z"
   },
   {
    "duration": 24,
    "start_time": "2021-06-09T16:47:58.581Z"
   },
   {
    "duration": 448,
    "start_time": "2021-06-09T16:47:59.237Z"
   },
   {
    "duration": 529,
    "start_time": "2021-06-09T16:48:01.198Z"
   },
   {
    "duration": 19,
    "start_time": "2021-06-09T16:48:06.063Z"
   },
   {
    "duration": 16,
    "start_time": "2021-06-09T16:48:07.276Z"
   },
   {
    "duration": 312,
    "start_time": "2021-06-09T16:48:09.308Z"
   },
   {
    "duration": 13,
    "start_time": "2021-06-09T16:48:10.798Z"
   },
   {
    "duration": 11,
    "start_time": "2021-06-09T16:48:11.822Z"
   },
   {
    "duration": 1599,
    "start_time": "2021-06-09T16:49:53.379Z"
   },
   {
    "duration": 64,
    "start_time": "2021-06-09T16:49:54.988Z"
   },
   {
    "duration": 8,
    "start_time": "2021-06-09T16:49:55.197Z"
   },
   {
    "duration": 5,
    "start_time": "2021-06-09T16:49:57.222Z"
   },
   {
    "duration": 5,
    "start_time": "2021-06-09T16:49:58.171Z"
   },
   {
    "duration": 12,
    "start_time": "2021-06-09T16:49:58.756Z"
   },
   {
    "duration": 25,
    "start_time": "2021-06-09T16:50:11.767Z"
   },
   {
    "duration": 539,
    "start_time": "2021-06-09T16:50:13.047Z"
   },
   {
    "duration": 651,
    "start_time": "2021-06-09T16:50:15.815Z"
   },
   {
    "duration": 18,
    "start_time": "2021-06-09T16:50:20.809Z"
   },
   {
    "duration": 15,
    "start_time": "2021-06-09T16:50:22.415Z"
   },
   {
    "duration": 305,
    "start_time": "2021-06-09T16:50:24.230Z"
   },
   {
    "duration": 13,
    "start_time": "2021-06-09T16:50:25.542Z"
   },
   {
    "duration": 11,
    "start_time": "2021-06-09T16:50:26.471Z"
   },
   {
    "duration": 44,
    "start_time": "2021-06-09T16:51:01.485Z"
   },
   {
    "duration": 5,
    "start_time": "2021-06-09T16:51:42.538Z"
   },
   {
    "duration": 67,
    "start_time": "2021-06-09T16:51:43.258Z"
   },
   {
    "duration": 18,
    "start_time": "2021-06-09T16:51:43.690Z"
   },
   {
    "duration": 5,
    "start_time": "2021-06-09T16:51:45.105Z"
   },
   {
    "duration": 5,
    "start_time": "2021-06-09T16:51:45.465Z"
   },
   {
    "duration": 14,
    "start_time": "2021-06-09T16:51:45.867Z"
   },
   {
    "duration": 25,
    "start_time": "2021-06-09T16:51:46.788Z"
   },
   {
    "duration": 420,
    "start_time": "2021-06-09T16:51:47.409Z"
   },
   {
    "duration": 654,
    "start_time": "2021-06-09T16:51:48.461Z"
   },
   {
    "duration": 15,
    "start_time": "2021-06-09T16:51:50.948Z"
   },
   {
    "duration": 36,
    "start_time": "2021-06-09T16:51:51.873Z"
   },
   {
    "duration": 19,
    "start_time": "2021-06-09T16:51:53.770Z"
   },
   {
    "duration": 692,
    "start_time": "2021-06-09T16:51:55.652Z"
   },
   {
    "duration": 13,
    "start_time": "2021-06-09T16:51:56.667Z"
   },
   {
    "duration": 11,
    "start_time": "2021-06-09T16:51:58.067Z"
   },
   {
    "duration": 1581,
    "start_time": "2021-06-09T16:53:03.020Z"
   },
   {
    "duration": 64,
    "start_time": "2021-06-09T16:53:04.604Z"
   },
   {
    "duration": 13,
    "start_time": "2021-06-09T16:53:04.670Z"
   },
   {
    "duration": 8,
    "start_time": "2021-06-09T16:53:05.789Z"
   },
   {
    "duration": 5,
    "start_time": "2021-06-09T16:53:06.195Z"
   },
   {
    "duration": 12,
    "start_time": "2021-06-09T16:53:06.572Z"
   },
   {
    "duration": 31,
    "start_time": "2021-06-09T16:53:07.372Z"
   },
   {
    "duration": 447,
    "start_time": "2021-06-09T16:53:07.812Z"
   },
   {
    "duration": 742,
    "start_time": "2021-06-09T16:53:08.917Z"
   },
   {
    "duration": 22,
    "start_time": "2021-06-09T16:53:11.588Z"
   },
   {
    "duration": 19,
    "start_time": "2021-06-09T16:53:12.261Z"
   },
   {
    "duration": 15,
    "start_time": "2021-06-09T16:53:13.246Z"
   },
   {
    "duration": 248,
    "start_time": "2021-06-09T16:53:15.918Z"
   },
   {
    "duration": 10,
    "start_time": "2021-06-09T16:53:16.439Z"
   },
   {
    "duration": 14,
    "start_time": "2021-06-09T16:53:18.190Z"
   },
   {
    "duration": 1656,
    "start_time": "2021-06-09T16:53:50.727Z"
   },
   {
    "duration": 74,
    "start_time": "2021-06-09T16:53:52.386Z"
   },
   {
    "duration": 20,
    "start_time": "2021-06-09T16:53:52.463Z"
   },
   {
    "duration": 5,
    "start_time": "2021-06-09T16:53:54.141Z"
   },
   {
    "duration": 6,
    "start_time": "2021-06-09T16:53:54.484Z"
   },
   {
    "duration": 11,
    "start_time": "2021-06-09T16:53:54.844Z"
   },
   {
    "duration": 26,
    "start_time": "2021-06-09T16:53:56.029Z"
   },
   {
    "duration": 551,
    "start_time": "2021-06-09T16:53:56.501Z"
   },
   {
    "duration": 600,
    "start_time": "2021-06-09T16:53:58.229Z"
   },
   {
    "duration": 15,
    "start_time": "2021-06-09T16:54:00.463Z"
   },
   {
    "duration": 19,
    "start_time": "2021-06-09T16:54:01.200Z"
   },
   {
    "duration": 16,
    "start_time": "2021-06-09T16:54:04.557Z"
   },
   {
    "duration": 338,
    "start_time": "2021-06-09T16:54:07.872Z"
   },
   {
    "duration": 11,
    "start_time": "2021-06-09T16:54:08.712Z"
   },
   {
    "duration": 10,
    "start_time": "2021-06-09T16:54:09.935Z"
   },
   {
    "duration": 8,
    "start_time": "2021-06-09T16:58:05.678Z"
   },
   {
    "duration": 35,
    "start_time": "2021-06-09T16:58:11.762Z"
   },
   {
    "duration": 8,
    "start_time": "2021-06-09T16:58:29.493Z"
   },
   {
    "duration": 1464,
    "start_time": "2021-06-09T16:59:00.388Z"
   },
   {
    "duration": 62,
    "start_time": "2021-06-09T16:59:01.855Z"
   },
   {
    "duration": 9,
    "start_time": "2021-06-09T16:59:01.920Z"
   },
   {
    "duration": 4,
    "start_time": "2021-06-09T16:59:03.078Z"
   },
   {
    "duration": 5,
    "start_time": "2021-06-09T16:59:03.348Z"
   },
   {
    "duration": 11,
    "start_time": "2021-06-09T16:59:03.671Z"
   },
   {
    "duration": 25,
    "start_time": "2021-06-09T16:59:04.461Z"
   },
   {
    "duration": 420,
    "start_time": "2021-06-09T16:59:04.845Z"
   },
   {
    "duration": 514,
    "start_time": "2021-06-09T16:59:06.121Z"
   },
   {
    "duration": 10,
    "start_time": "2021-06-09T16:59:08.397Z"
   },
   {
    "duration": 15,
    "start_time": "2021-06-09T16:59:09.263Z"
   },
   {
    "duration": 25,
    "start_time": "2021-06-09T16:59:10.005Z"
   },
   {
    "duration": 8,
    "start_time": "2021-06-09T16:59:10.358Z"
   },
   {
    "duration": 120,
    "start_time": "2021-06-09T16:59:12.666Z"
   },
   {
    "duration": 10,
    "start_time": "2021-06-09T16:59:13.774Z"
   },
   {
    "duration": 9,
    "start_time": "2021-06-09T16:59:14.629Z"
   },
   {
    "duration": 15,
    "start_time": "2021-06-09T17:00:19.755Z"
   },
   {
    "duration": 19,
    "start_time": "2021-06-09T17:00:22.085Z"
   },
   {
    "duration": 32,
    "start_time": "2021-06-09T17:00:23.579Z"
   },
   {
    "duration": 7,
    "start_time": "2021-06-09T17:00:24.483Z"
   },
   {
    "duration": 211,
    "start_time": "2021-06-09T17:00:26.389Z"
   },
   {
    "duration": 11,
    "start_time": "2021-06-09T17:00:29.941Z"
   },
   {
    "duration": 10,
    "start_time": "2021-06-09T17:00:30.556Z"
   },
   {
    "duration": 1419,
    "start_time": "2021-06-09T17:02:18.614Z"
   },
   {
    "duration": 62,
    "start_time": "2021-06-09T17:02:20.035Z"
   },
   {
    "duration": 8,
    "start_time": "2021-06-09T17:02:20.100Z"
   },
   {
    "duration": 5,
    "start_time": "2021-06-09T17:02:21.432Z"
   },
   {
    "duration": 5,
    "start_time": "2021-06-09T17:02:21.719Z"
   },
   {
    "duration": 11,
    "start_time": "2021-06-09T17:02:22.097Z"
   },
   {
    "duration": 25,
    "start_time": "2021-06-09T17:02:23.322Z"
   },
   {
    "duration": 397,
    "start_time": "2021-06-09T17:02:24.112Z"
   },
   {
    "duration": 522,
    "start_time": "2021-06-09T17:02:26.121Z"
   },
   {
    "duration": 20,
    "start_time": "2021-06-09T17:02:29.506Z"
   },
   {
    "duration": 16,
    "start_time": "2021-06-09T17:02:30.771Z"
   },
   {
    "duration": 34,
    "start_time": "2021-06-09T17:02:31.634Z"
   },
   {
    "duration": 7,
    "start_time": "2021-06-09T17:02:34.707Z"
   },
   {
    "duration": 215,
    "start_time": "2021-06-09T17:02:38.072Z"
   },
   {
    "duration": 11,
    "start_time": "2021-06-09T17:02:41.509Z"
   },
   {
    "duration": 9,
    "start_time": "2021-06-09T17:02:43.021Z"
   },
   {
    "duration": 32,
    "start_time": "2021-06-09T17:03:09.233Z"
   },
   {
    "duration": 35,
    "start_time": "2021-06-09T17:03:15.554Z"
   },
   {
    "duration": 35,
    "start_time": "2021-06-09T17:03:22.395Z"
   },
   {
    "duration": 1408,
    "start_time": "2021-06-09T17:22:45.917Z"
   },
   {
    "duration": 61,
    "start_time": "2021-06-09T17:22:47.702Z"
   },
   {
    "duration": 9,
    "start_time": "2021-06-09T17:22:48.101Z"
   },
   {
    "duration": 5,
    "start_time": "2021-06-09T17:22:49.621Z"
   },
   {
    "duration": 5,
    "start_time": "2021-06-09T17:22:49.981Z"
   },
   {
    "duration": 11,
    "start_time": "2021-06-09T17:22:50.324Z"
   },
   {
    "duration": 24,
    "start_time": "2021-06-09T17:22:51.181Z"
   },
   {
    "duration": 419,
    "start_time": "2021-06-09T17:22:51.548Z"
   },
   {
    "duration": 516,
    "start_time": "2021-06-09T17:22:52.208Z"
   },
   {
    "duration": 18,
    "start_time": "2021-06-09T17:22:54.182Z"
   },
   {
    "duration": 387,
    "start_time": "2021-06-09T17:22:55.031Z"
   },
   {
    "duration": 1418,
    "start_time": "2021-06-09T17:23:19.611Z"
   },
   {
    "duration": 61,
    "start_time": "2021-06-09T17:23:21.032Z"
   },
   {
    "duration": 8,
    "start_time": "2021-06-09T17:23:21.102Z"
   },
   {
    "duration": 6,
    "start_time": "2021-06-09T17:23:22.224Z"
   },
   {
    "duration": 5,
    "start_time": "2021-06-09T17:23:22.489Z"
   },
   {
    "duration": 11,
    "start_time": "2021-06-09T17:23:22.865Z"
   },
   {
    "duration": 24,
    "start_time": "2021-06-09T17:23:23.610Z"
   },
   {
    "duration": 452,
    "start_time": "2021-06-09T17:23:24.010Z"
   },
   {
    "duration": 513,
    "start_time": "2021-06-09T17:23:25.409Z"
   },
   {
    "duration": 19,
    "start_time": "2021-06-09T17:23:28.446Z"
   },
   {
    "duration": 13,
    "start_time": "2021-06-09T17:23:29.571Z"
   },
   {
    "duration": 339,
    "start_time": "2021-06-09T17:23:30.685Z"
   },
   {
    "duration": 3,
    "start_time": "2021-06-09T17:23:34.378Z"
   },
   {
    "duration": 10,
    "start_time": "2021-06-09T17:23:34.755Z"
   },
   {
    "duration": 1627,
    "start_time": "2021-06-09T17:27:41.980Z"
   },
   {
    "duration": 70,
    "start_time": "2021-06-09T17:27:43.734Z"
   },
   {
    "duration": 9,
    "start_time": "2021-06-09T17:27:44.436Z"
   },
   {
    "duration": 5,
    "start_time": "2021-06-09T17:27:45.483Z"
   },
   {
    "duration": 4,
    "start_time": "2021-06-09T17:27:45.727Z"
   },
   {
    "duration": 14,
    "start_time": "2021-06-09T17:27:45.980Z"
   },
   {
    "duration": 27,
    "start_time": "2021-06-09T17:27:46.405Z"
   },
   {
    "duration": 410,
    "start_time": "2021-06-09T17:27:46.684Z"
   },
   {
    "duration": 555,
    "start_time": "2021-06-09T17:27:47.144Z"
   },
   {
    "duration": 19,
    "start_time": "2021-06-09T17:27:48.645Z"
   },
   {
    "duration": 18,
    "start_time": "2021-06-09T17:27:49.917Z"
   },
   {
    "duration": 413,
    "start_time": "2021-06-09T17:27:52.178Z"
   },
   {
    "duration": 17,
    "start_time": "2021-06-09T17:27:53.534Z"
   },
   {
    "duration": 16,
    "start_time": "2021-06-09T17:27:54.647Z"
   },
   {
    "duration": 1469,
    "start_time": "2021-06-09T17:32:32.690Z"
   },
   {
    "duration": 62,
    "start_time": "2021-06-09T17:32:34.162Z"
   },
   {
    "duration": 7,
    "start_time": "2021-06-09T17:32:34.227Z"
   },
   {
    "duration": 5,
    "start_time": "2021-06-09T17:32:35.053Z"
   },
   {
    "duration": 5,
    "start_time": "2021-06-09T17:32:35.307Z"
   },
   {
    "duration": 11,
    "start_time": "2021-06-09T17:32:35.531Z"
   },
   {
    "duration": 25,
    "start_time": "2021-06-09T17:32:36.026Z"
   },
   {
    "duration": 426,
    "start_time": "2021-06-09T17:32:36.322Z"
   },
   {
    "duration": 517,
    "start_time": "2021-06-09T17:32:37.002Z"
   },
   {
    "duration": 18,
    "start_time": "2021-06-09T17:32:38.771Z"
   },
   {
    "duration": 15,
    "start_time": "2021-06-09T17:32:39.420Z"
   },
   {
    "duration": 220,
    "start_time": "2021-06-09T17:32:40.164Z"
   },
   {
    "duration": 14,
    "start_time": "2021-06-09T17:32:40.510Z"
   },
   {
    "duration": 13,
    "start_time": "2021-06-09T17:32:40.900Z"
   },
   {
    "duration": 9,
    "start_time": "2021-06-09T17:32:41.660Z"
   },
   {
    "duration": 1434,
    "start_time": "2021-06-09T17:33:00.311Z"
   },
   {
    "duration": 65,
    "start_time": "2021-06-09T17:33:01.747Z"
   },
   {
    "duration": 8,
    "start_time": "2021-06-09T17:33:01.815Z"
   },
   {
    "duration": 5,
    "start_time": "2021-06-09T17:33:02.238Z"
   },
   {
    "duration": 5,
    "start_time": "2021-06-09T17:33:02.491Z"
   },
   {
    "duration": 11,
    "start_time": "2021-06-09T17:33:02.712Z"
   },
   {
    "duration": 25,
    "start_time": "2021-06-09T17:33:03.128Z"
   },
   {
    "duration": 440,
    "start_time": "2021-06-09T17:33:03.344Z"
   },
   {
    "duration": 563,
    "start_time": "2021-06-09T17:33:03.791Z"
   },
   {
    "duration": 19,
    "start_time": "2021-06-09T17:33:04.896Z"
   },
   {
    "duration": 14,
    "start_time": "2021-06-09T17:33:05.272Z"
   },
   {
    "duration": 221,
    "start_time": "2021-06-09T17:33:05.735Z"
   },
   {
    "duration": 14,
    "start_time": "2021-06-09T17:33:06.023Z"
   },
   {
    "duration": 13,
    "start_time": "2021-06-09T17:33:06.411Z"
   },
   {
    "duration": 10,
    "start_time": "2021-06-09T17:33:07.028Z"
   },
   {
    "duration": 5,
    "start_time": "2021-06-09T17:36:11.127Z"
   },
   {
    "duration": 7,
    "start_time": "2021-06-09T17:36:58.203Z"
   },
   {
    "duration": 383,
    "start_time": "2021-06-09T17:37:32.661Z"
   },
   {
    "duration": 6,
    "start_time": "2021-06-09T17:37:54.682Z"
   },
   {
    "duration": 6,
    "start_time": "2021-06-09T17:37:55.545Z"
   },
   {
    "duration": 4,
    "start_time": "2021-06-09T17:38:17.870Z"
   },
   {
    "duration": 5,
    "start_time": "2021-06-09T17:38:18.275Z"
   },
   {
    "duration": 5,
    "start_time": "2021-06-09T17:38:45.328Z"
   },
   {
    "duration": 5,
    "start_time": "2021-06-09T17:38:45.744Z"
   },
   {
    "duration": 1556,
    "start_time": "2021-06-09T17:39:57.807Z"
   },
   {
    "duration": 75,
    "start_time": "2021-06-09T17:39:59.367Z"
   },
   {
    "duration": 11,
    "start_time": "2021-06-09T17:39:59.445Z"
   },
   {
    "duration": 6,
    "start_time": "2021-06-09T17:39:59.991Z"
   },
   {
    "duration": 5,
    "start_time": "2021-06-09T17:40:00.263Z"
   },
   {
    "duration": 12,
    "start_time": "2021-06-09T17:40:00.512Z"
   },
   {
    "duration": 29,
    "start_time": "2021-06-09T17:40:01.050Z"
   },
   {
    "duration": 452,
    "start_time": "2021-06-09T17:40:01.440Z"
   },
   {
    "duration": 598,
    "start_time": "2021-06-09T17:40:02.233Z"
   },
   {
    "duration": 19,
    "start_time": "2021-06-09T17:40:05.561Z"
   },
   {
    "duration": 20,
    "start_time": "2021-06-09T17:40:06.697Z"
   },
   {
    "duration": 256,
    "start_time": "2021-06-09T17:40:08.241Z"
   },
   {
    "duration": 14,
    "start_time": "2021-06-09T17:40:08.637Z"
   },
   {
    "duration": 11,
    "start_time": "2021-06-09T17:40:09.353Z"
   },
   {
    "duration": 10,
    "start_time": "2021-06-09T17:40:10.058Z"
   },
   {
    "duration": 5,
    "start_time": "2021-06-09T17:40:12.326Z"
   },
   {
    "duration": 5,
    "start_time": "2021-06-09T17:40:13.536Z"
   },
   {
    "duration": 24,
    "start_time": "2021-06-09T17:44:34.895Z"
   },
   {
    "duration": 1506,
    "start_time": "2021-06-09T17:51:23.640Z"
   },
   {
    "duration": 64,
    "start_time": "2021-06-09T17:51:25.148Z"
   },
   {
    "duration": 8,
    "start_time": "2021-06-09T17:51:25.215Z"
   },
   {
    "duration": 5,
    "start_time": "2021-06-09T17:51:25.464Z"
   },
   {
    "duration": 5,
    "start_time": "2021-06-09T17:51:25.752Z"
   },
   {
    "duration": 11,
    "start_time": "2021-06-09T17:51:26.000Z"
   },
   {
    "duration": 25,
    "start_time": "2021-06-09T17:51:26.511Z"
   },
   {
    "duration": 413,
    "start_time": "2021-06-09T17:51:26.761Z"
   },
   {
    "duration": 514,
    "start_time": "2021-06-09T17:51:27.272Z"
   },
   {
    "duration": 19,
    "start_time": "2021-06-09T17:51:28.662Z"
   },
   {
    "duration": 16,
    "start_time": "2021-06-09T17:51:29.165Z"
   },
   {
    "duration": 233,
    "start_time": "2021-06-09T17:51:29.648Z"
   },
   {
    "duration": 15,
    "start_time": "2021-06-09T17:51:29.884Z"
   },
   {
    "duration": 11,
    "start_time": "2021-06-09T17:51:30.141Z"
   },
   {
    "duration": 10,
    "start_time": "2021-06-09T17:51:30.416Z"
   },
   {
    "duration": 5,
    "start_time": "2021-06-09T17:51:31.049Z"
   },
   {
    "duration": 7,
    "start_time": "2021-06-09T17:51:31.482Z"
   },
   {
    "duration": 473,
    "start_time": "2021-06-09T17:51:32.412Z"
   },
   {
    "duration": 259,
    "start_time": "2021-06-09T17:51:40.595Z"
   },
   {
    "duration": 2241505,
    "start_time": "2021-06-09T17:52:12.920Z"
   },
   {
    "duration": 1528,
    "start_time": "2021-06-09T18:29:56.682Z"
   },
   {
    "duration": 63,
    "start_time": "2021-06-09T18:29:58.212Z"
   },
   {
    "duration": 8,
    "start_time": "2021-06-09T18:29:58.278Z"
   },
   {
    "duration": 5,
    "start_time": "2021-06-09T18:29:58.732Z"
   },
   {
    "duration": 5,
    "start_time": "2021-06-09T18:29:59.034Z"
   },
   {
    "duration": 12,
    "start_time": "2021-06-09T18:29:59.324Z"
   },
   {
    "duration": 26,
    "start_time": "2021-06-09T18:29:59.813Z"
   },
   {
    "duration": 420,
    "start_time": "2021-06-09T18:30:00.066Z"
   },
   {
    "duration": 551,
    "start_time": "2021-06-09T18:30:00.610Z"
   },
   {
    "duration": 21,
    "start_time": "2021-06-09T18:30:02.258Z"
   },
   {
    "duration": 15,
    "start_time": "2021-06-09T18:30:02.818Z"
   },
   {
    "duration": 234,
    "start_time": "2021-06-09T18:30:03.526Z"
   },
   {
    "duration": 13,
    "start_time": "2021-06-09T18:30:03.892Z"
   },
   {
    "duration": 11,
    "start_time": "2021-06-09T18:30:04.540Z"
   },
   {
    "duration": 9,
    "start_time": "2021-06-09T18:30:04.832Z"
   },
   {
    "duration": 5,
    "start_time": "2021-06-09T18:30:05.745Z"
   },
   {
    "duration": 6,
    "start_time": "2021-06-09T18:30:06.130Z"
   },
   {
    "duration": 8851,
    "start_time": "2021-06-09T18:30:07.010Z"
   },
   {
    "duration": 8527,
    "start_time": "2021-06-09T18:31:34.665Z"
   },
   {
    "duration": 5,
    "start_time": "2021-06-09T18:31:43.194Z"
   },
   {
    "duration": 8052,
    "start_time": "2021-06-09T18:32:20.241Z"
   },
   {
    "duration": 4,
    "start_time": "2021-06-09T18:32:28.296Z"
   },
   {
    "duration": 7875,
    "start_time": "2021-06-09T18:32:44.762Z"
   },
   {
    "duration": 4,
    "start_time": "2021-06-09T18:32:52.640Z"
   },
   {
    "duration": 9267,
    "start_time": "2021-06-09T18:33:50.296Z"
   },
   {
    "duration": 4,
    "start_time": "2021-06-09T18:34:00.402Z"
   },
   {
    "duration": 5,
    "start_time": "2021-06-09T18:34:38.718Z"
   },
   {
    "duration": 94054,
    "start_time": "2021-06-09T18:35:02.298Z"
   },
   {
    "duration": 6,
    "start_time": "2021-06-09T18:36:36.355Z"
   },
   {
    "duration": 241472,
    "start_time": "2021-06-09T18:38:01.071Z"
   },
   {
    "duration": 6,
    "start_time": "2021-06-09T18:42:02.546Z"
   },
   {
    "duration": 18,
    "start_time": "2021-06-09T18:43:44.204Z"
   },
   {
    "duration": 19,
    "start_time": "2021-06-09T18:44:58.212Z"
   },
   {
    "duration": 12,
    "start_time": "2021-06-09T18:45:06.480Z"
   },
   {
    "duration": 14,
    "start_time": "2021-06-09T18:46:06.943Z"
   },
   {
    "duration": 6,
    "start_time": "2021-06-09T18:46:35.730Z"
   },
   {
    "duration": 5,
    "start_time": "2021-06-09T18:47:19.018Z"
   },
   {
    "duration": 1625,
    "start_time": "2021-06-09T18:47:25.411Z"
   },
   {
    "duration": 62,
    "start_time": "2021-06-09T18:47:27.039Z"
   },
   {
    "duration": 8,
    "start_time": "2021-06-09T18:47:27.104Z"
   },
   {
    "duration": 6,
    "start_time": "2021-06-09T18:47:28.502Z"
   },
   {
    "duration": 5,
    "start_time": "2021-06-09T18:47:28.864Z"
   },
   {
    "duration": 12,
    "start_time": "2021-06-09T18:47:29.343Z"
   },
   {
    "duration": 19,
    "start_time": "2021-06-09T18:47:30.747Z"
   },
   {
    "duration": 3,
    "start_time": "2021-06-09T18:47:31.435Z"
   },
   {
    "duration": 537,
    "start_time": "2021-06-09T18:47:32.638Z"
   },
   {
    "duration": 18,
    "start_time": "2021-06-09T18:47:35.822Z"
   },
   {
    "duration": 13,
    "start_time": "2021-06-09T18:47:37.326Z"
   },
   {
    "duration": 196,
    "start_time": "2021-06-09T18:47:39.332Z"
   },
   {
    "duration": 14,
    "start_time": "2021-06-09T18:47:40.189Z"
   },
   {
    "duration": 10,
    "start_time": "2021-06-09T18:47:41.245Z"
   },
   {
    "duration": 8,
    "start_time": "2021-06-09T18:47:41.957Z"
   },
   {
    "duration": 5,
    "start_time": "2021-06-09T18:47:43.292Z"
   },
   {
    "duration": 6,
    "start_time": "2021-06-09T18:47:44.269Z"
   },
   {
    "duration": 203196,
    "start_time": "2021-06-09T18:47:47.194Z"
   },
   {
    "duration": 6,
    "start_time": "2021-06-09T18:51:10.392Z"
   },
   {
    "duration": 20,
    "start_time": "2021-06-09T18:51:10.401Z"
   },
   {
    "duration": 13,
    "start_time": "2021-06-09T18:51:10.424Z"
   },
   {
    "duration": 5,
    "start_time": "2021-06-09T18:51:10.440Z"
   },
   {
    "duration": 1452,
    "start_time": "2021-06-09T18:55:49.787Z"
   },
   {
    "duration": 63,
    "start_time": "2021-06-09T18:55:51.242Z"
   },
   {
    "duration": 10,
    "start_time": "2021-06-09T18:55:51.308Z"
   },
   {
    "duration": 5,
    "start_time": "2021-06-09T18:55:52.070Z"
   },
   {
    "duration": 5,
    "start_time": "2021-06-09T18:55:52.355Z"
   },
   {
    "duration": 11,
    "start_time": "2021-06-09T18:55:52.590Z"
   },
   {
    "duration": 24,
    "start_time": "2021-06-09T18:55:53.039Z"
   },
   {
    "duration": 395,
    "start_time": "2021-06-09T18:55:53.303Z"
   },
   {
    "duration": 503,
    "start_time": "2021-06-09T18:55:53.915Z"
   },
   {
    "duration": 18,
    "start_time": "2021-06-09T18:55:55.167Z"
   },
   {
    "duration": 14,
    "start_time": "2021-06-09T18:55:55.747Z"
   },
   {
    "duration": 218,
    "start_time": "2021-06-09T18:55:56.527Z"
   },
   {
    "duration": 14,
    "start_time": "2021-06-09T18:55:56.847Z"
   },
   {
    "duration": 11,
    "start_time": "2021-06-09T18:55:57.159Z"
   },
   {
    "duration": 9,
    "start_time": "2021-06-09T18:55:57.505Z"
   },
   {
    "duration": 4,
    "start_time": "2021-06-09T18:55:58.051Z"
   },
   {
    "duration": 5,
    "start_time": "2021-06-09T18:55:58.343Z"
   },
   {
    "duration": 225432,
    "start_time": "2021-06-09T18:55:58.855Z"
   },
   {
    "duration": 5,
    "start_time": "2021-06-09T18:59:44.289Z"
   },
   {
    "duration": 10,
    "start_time": "2021-06-09T18:59:44.297Z"
   },
   {
    "duration": 1120,
    "start_time": "2021-06-09T18:59:44.310Z"
   },
   {
    "duration": 53,
    "start_time": "2021-06-09T18:59:45.432Z"
   },
   {
    "duration": 14,
    "start_time": "2021-06-09T18:59:45.487Z"
   },
   {
    "duration": 5,
    "start_time": "2021-06-09T18:59:45.503Z"
   },
   {
    "duration": 4,
    "start_time": "2021-06-09T19:06:09.062Z"
   },
   {
    "duration": 23964,
    "start_time": "2021-06-09T19:07:15.180Z"
   },
   {
    "duration": 20967,
    "start_time": "2021-06-09T19:08:02.972Z"
   },
   {
    "duration": 9,
    "start_time": "2021-06-09T19:10:17.810Z"
   },
   {
    "duration": 10,
    "start_time": "2021-06-09T19:11:36.572Z"
   },
   {
    "duration": 9,
    "start_time": "2021-06-09T19:13:05.770Z"
   },
   {
    "duration": 5,
    "start_time": "2021-06-09T19:13:50.089Z"
   },
   {
    "duration": 4,
    "start_time": "2021-06-09T19:17:34.940Z"
   },
   {
    "duration": 2234,
    "start_time": "2021-06-09T19:23:08.649Z"
   },
   {
    "duration": 91,
    "start_time": "2021-06-09T19:23:10.887Z"
   },
   {
    "duration": 9,
    "start_time": "2021-06-09T19:23:10.984Z"
   },
   {
    "duration": 5,
    "start_time": "2021-06-09T19:23:10.996Z"
   },
   {
    "duration": 4,
    "start_time": "2021-06-09T19:23:11.004Z"
   },
   {
    "duration": 11,
    "start_time": "2021-06-09T19:23:11.180Z"
   },
   {
    "duration": 25,
    "start_time": "2021-06-09T19:23:11.842Z"
   },
   {
    "duration": 425,
    "start_time": "2021-06-09T19:23:12.147Z"
   },
   {
    "duration": 537,
    "start_time": "2021-06-09T19:23:12.748Z"
   },
   {
    "duration": 18,
    "start_time": "2021-06-09T19:23:14.068Z"
   },
   {
    "duration": 15,
    "start_time": "2021-06-09T19:23:14.627Z"
   },
   {
    "duration": 221,
    "start_time": "2021-06-09T19:23:15.130Z"
   },
   {
    "duration": 14,
    "start_time": "2021-06-09T19:23:15.407Z"
   },
   {
    "duration": 11,
    "start_time": "2021-06-09T19:23:15.635Z"
   },
   {
    "duration": 10,
    "start_time": "2021-06-09T19:23:15.899Z"
   },
   {
    "duration": 5,
    "start_time": "2021-06-09T19:23:16.531Z"
   },
   {
    "duration": 6,
    "start_time": "2021-06-09T19:23:16.900Z"
   },
   {
    "duration": 431761,
    "start_time": "2021-06-09T19:23:17.491Z"
   },
   {
    "duration": 5,
    "start_time": "2021-06-09T19:30:29.254Z"
   },
   {
    "duration": 21,
    "start_time": "2021-06-09T19:30:29.262Z"
   },
   {
    "duration": 1599,
    "start_time": "2021-06-09T19:30:29.285Z"
   },
   {
    "duration": 47,
    "start_time": "2021-06-09T19:30:30.887Z"
   },
   {
    "duration": 18,
    "start_time": "2021-06-09T19:30:30.937Z"
   },
   {
    "duration": 6,
    "start_time": "2021-06-09T19:30:30.984Z"
   },
   {
    "duration": 20888,
    "start_time": "2021-06-09T19:30:30.993Z"
   },
   {
    "duration": 11,
    "start_time": "2021-06-09T19:30:51.884Z"
   },
   {
    "duration": 9,
    "start_time": "2021-06-09T19:30:51.897Z"
   },
   {
    "duration": 9,
    "start_time": "2021-06-09T19:30:51.909Z"
   },
   {
    "duration": 67,
    "start_time": "2021-06-09T19:30:51.920Z"
   },
   {
    "duration": 383,
    "start_time": "2021-06-09T19:30:51.990Z"
   },
   {
    "duration": 1470,
    "start_time": "2021-06-09T20:01:19.372Z"
   },
   {
    "duration": 68,
    "start_time": "2021-06-09T20:01:20.851Z"
   },
   {
    "duration": 8,
    "start_time": "2021-06-09T20:01:20.922Z"
   },
   {
    "duration": 4,
    "start_time": "2021-06-09T20:01:20.968Z"
   },
   {
    "duration": 4,
    "start_time": "2021-06-09T20:01:21.266Z"
   },
   {
    "duration": 13,
    "start_time": "2021-06-09T20:01:22.560Z"
   },
   {
    "duration": 26,
    "start_time": "2021-06-09T20:01:23.123Z"
   },
   {
    "duration": 440,
    "start_time": "2021-06-09T20:01:23.579Z"
   },
   {
    "duration": 636,
    "start_time": "2021-06-09T20:01:24.094Z"
   },
   {
    "duration": 18,
    "start_time": "2021-06-09T20:01:25.281Z"
   },
   {
    "duration": 15,
    "start_time": "2021-06-09T20:01:25.738Z"
   },
   {
    "duration": 220,
    "start_time": "2021-06-09T20:01:26.202Z"
   },
   {
    "duration": 14,
    "start_time": "2021-06-09T20:01:26.453Z"
   },
   {
    "duration": 12,
    "start_time": "2021-06-09T20:01:26.732Z"
   },
   {
    "duration": 10,
    "start_time": "2021-06-09T20:01:27.008Z"
   },
   {
    "duration": 5,
    "start_time": "2021-06-09T20:01:27.625Z"
   },
   {
    "duration": 5,
    "start_time": "2021-06-09T20:01:27.868Z"
   },
   {
    "duration": 1514,
    "start_time": "2021-06-09T20:04:40.269Z"
   },
   {
    "duration": 61,
    "start_time": "2021-06-09T20:04:41.785Z"
   },
   {
    "duration": 9,
    "start_time": "2021-06-09T20:04:41.849Z"
   },
   {
    "duration": 5,
    "start_time": "2021-06-09T20:04:42.326Z"
   },
   {
    "duration": 4,
    "start_time": "2021-06-09T20:04:42.456Z"
   },
   {
    "duration": 11,
    "start_time": "2021-06-09T20:04:42.639Z"
   },
   {
    "duration": 24,
    "start_time": "2021-06-09T20:04:43.127Z"
   },
   {
    "duration": 418,
    "start_time": "2021-06-09T20:04:43.417Z"
   },
   {
    "duration": 510,
    "start_time": "2021-06-09T20:04:43.929Z"
   },
   {
    "duration": 20,
    "start_time": "2021-06-09T20:04:45.556Z"
   },
   {
    "duration": 14,
    "start_time": "2021-06-09T20:04:46.089Z"
   },
   {
    "duration": 217,
    "start_time": "2021-06-09T20:04:46.538Z"
   },
   {
    "duration": 14,
    "start_time": "2021-06-09T20:04:47.093Z"
   },
   {
    "duration": 9,
    "start_time": "2021-06-09T20:04:47.110Z"
   },
   {
    "duration": 9,
    "start_time": "2021-06-09T20:04:47.362Z"
   },
   {
    "duration": 4,
    "start_time": "2021-06-09T20:04:48.016Z"
   },
   {
    "duration": 6,
    "start_time": "2021-06-09T20:04:48.475Z"
   },
   {
    "duration": 426775,
    "start_time": "2021-06-09T20:04:49.315Z"
   },
   {
    "duration": 5,
    "start_time": "2021-06-09T20:11:56.093Z"
   },
   {
    "duration": 4,
    "start_time": "2021-06-09T20:11:56.105Z"
   },
   {
    "duration": 1610,
    "start_time": "2021-06-09T20:11:56.115Z"
   },
   {
    "duration": 60,
    "start_time": "2021-06-09T20:11:57.728Z"
   },
   {
    "duration": 17,
    "start_time": "2021-06-09T20:11:57.792Z"
   },
   {
    "duration": 5,
    "start_time": "2021-06-09T20:11:57.811Z"
   },
   {
    "duration": 20715,
    "start_time": "2021-06-09T20:11:57.818Z"
   },
   {
    "duration": 9,
    "start_time": "2021-06-09T20:12:18.535Z"
   },
   {
    "duration": 14,
    "start_time": "2021-06-09T20:12:18.546Z"
   },
   {
    "duration": 24,
    "start_time": "2021-06-09T20:12:18.562Z"
   },
   {
    "duration": 6,
    "start_time": "2021-06-09T20:12:18.589Z"
   },
   {
    "duration": 1802,
    "start_time": "2021-06-09T20:12:18.597Z"
   },
   {
    "duration": 984775,
    "start_time": "2021-06-09T20:12:45.566Z"
   },
   {
    "duration": 1217775,
    "start_time": "2021-06-09T20:30:05.453Z"
   },
   {
    "duration": 296,
    "start_time": "2021-06-09T20:50:23.231Z"
   },
   {
    "duration": -256,
    "start_time": "2021-06-09T20:50:23.786Z"
   },
   {
    "duration": -258,
    "start_time": "2021-06-09T20:50:23.790Z"
   },
   {
    "duration": 245,
    "start_time": "2021-06-09T20:55:27.256Z"
   },
   {
    "duration": 249,
    "start_time": "2021-06-09T20:55:41.322Z"
   },
   {
    "duration": 23495,
    "start_time": "2021-06-09T20:56:09.458Z"
   },
   {
    "duration": 21562,
    "start_time": "2021-06-09T20:56:50.507Z"
   },
   {
    "duration": 1198230,
    "start_time": "2021-06-09T20:58:22.305Z"
   },
   {
    "duration": 242,
    "start_time": "2021-06-09T21:18:28.316Z"
   },
   {
    "duration": 244,
    "start_time": "2021-06-09T21:18:37.958Z"
   },
   {
    "duration": 26168,
    "start_time": "2021-06-09T21:18:41.855Z"
   },
   {
    "duration": 12,
    "start_time": "2021-06-09T21:19:08.026Z"
   },
   {
    "duration": 9,
    "start_time": "2021-06-09T21:19:08.041Z"
   },
   {
    "duration": 6,
    "start_time": "2021-06-09T21:20:14.324Z"
   },
   {
    "duration": 1759,
    "start_time": "2021-06-10T06:02:28.328Z"
   },
   {
    "duration": 65,
    "start_time": "2021-06-10T06:02:31.373Z"
   },
   {
    "duration": 9,
    "start_time": "2021-06-10T06:02:32.297Z"
   },
   {
    "duration": 4,
    "start_time": "2021-06-10T06:02:35.676Z"
   },
   {
    "duration": 4,
    "start_time": "2021-06-10T06:02:36.034Z"
   },
   {
    "duration": 11,
    "start_time": "2021-06-10T06:02:36.880Z"
   },
   {
    "duration": 24,
    "start_time": "2021-06-10T06:02:41.148Z"
   },
   {
    "duration": 502,
    "start_time": "2021-06-10T06:02:42.367Z"
   },
   {
    "duration": 536,
    "start_time": "2021-06-10T06:02:59.724Z"
   },
   {
    "duration": 18,
    "start_time": "2021-06-10T06:03:03.589Z"
   },
   {
    "duration": 16,
    "start_time": "2021-06-10T06:03:06.508Z"
   },
   {
    "duration": 226,
    "start_time": "2021-06-10T06:03:11.246Z"
   },
   {
    "duration": 14,
    "start_time": "2021-06-10T06:03:13.198Z"
   },
   {
    "duration": 10,
    "start_time": "2021-06-10T06:03:14.646Z"
   },
   {
    "duration": 9,
    "start_time": "2021-06-10T06:03:16.894Z"
   },
   {
    "duration": 4,
    "start_time": "2021-06-10T06:03:18.064Z"
   },
   {
    "duration": 6,
    "start_time": "2021-06-10T06:03:18.869Z"
   },
   {
    "duration": 239096,
    "start_time": "2021-06-10T06:04:19.046Z"
   },
   {
    "duration": 5,
    "start_time": "2021-06-10T06:10:22.519Z"
   },
   {
    "duration": 5,
    "start_time": "2021-06-10T06:10:35.654Z"
   },
   {
    "duration": 1661,
    "start_time": "2021-06-10T06:10:37.254Z"
   },
   {
    "duration": 48,
    "start_time": "2021-06-10T06:10:41.975Z"
   },
   {
    "duration": 16,
    "start_time": "2021-06-10T06:10:42.727Z"
   },
   {
    "duration": 6,
    "start_time": "2021-06-10T06:10:43.318Z"
   },
   {
    "duration": 21074,
    "start_time": "2021-06-10T06:10:57.896Z"
   },
   {
    "duration": 10,
    "start_time": "2021-06-10T06:11:18.974Z"
   },
   {
    "duration": 22,
    "start_time": "2021-06-10T06:11:18.987Z"
   },
   {
    "duration": 47,
    "start_time": "2021-06-10T06:11:19.012Z"
   },
   {
    "duration": 23,
    "start_time": "2021-06-10T06:11:19.062Z"
   },
   {
    "duration": 1158744,
    "start_time": "2021-06-10T06:11:19.088Z"
   },
   {
    "duration": 485,
    "start_time": "2021-06-10T06:30:37.834Z"
   },
   {
    "duration": -930,
    "start_time": "2021-06-10T06:30:39.252Z"
   },
   {
    "duration": -932,
    "start_time": "2021-06-10T06:30:39.255Z"
   },
   {
    "duration": -934,
    "start_time": "2021-06-10T06:30:39.258Z"
   },
   {
    "duration": -934,
    "start_time": "2021-06-10T06:30:39.260Z"
   },
   {
    "duration": 26203,
    "start_time": "2021-06-10T06:36:36.207Z"
   },
   {
    "duration": 10,
    "start_time": "2021-06-10T06:37:02.413Z"
   },
   {
    "duration": 16,
    "start_time": "2021-06-10T06:37:02.426Z"
   },
   {
    "duration": 10,
    "start_time": "2021-06-10T06:37:02.446Z"
   },
   {
    "duration": 6,
    "start_time": "2021-06-10T06:38:54.524Z"
   },
   {
    "duration": 24307,
    "start_time": "2021-06-10T06:39:00.644Z"
   },
   {
    "duration": 11,
    "start_time": "2021-06-10T06:39:24.953Z"
   },
   {
    "duration": 9,
    "start_time": "2021-06-10T06:39:24.967Z"
   },
   {
    "duration": 5,
    "start_time": "2021-06-10T06:39:24.979Z"
   },
   {
    "duration": 330,
    "start_time": "2021-06-10T06:39:59.819Z"
   },
   {
    "duration": 266,
    "start_time": "2021-06-10T06:41:43.682Z"
   },
   {
    "duration": 4,
    "start_time": "2021-06-10T06:42:03.388Z"
   },
   {
    "duration": 4,
    "start_time": "2021-06-10T06:42:13.028Z"
   },
   {
    "duration": 5,
    "start_time": "2021-06-10T06:42:30.320Z"
   },
   {
    "duration": 4,
    "start_time": "2021-06-10T06:42:53.738Z"
   },
   {
    "duration": 6,
    "start_time": "2021-06-10T06:43:54.066Z"
   },
   {
    "duration": 9,
    "start_time": "2021-06-10T06:45:18.789Z"
   },
   {
    "duration": 1817,
    "start_time": "2021-06-10T06:46:16.613Z"
   },
   {
    "duration": -1075,
    "start_time": "2021-06-10T06:48:39.205Z"
   },
   {
    "duration": 1688,
    "start_time": "2021-06-10T06:49:36.056Z"
   },
   {
    "duration": 69,
    "start_time": "2021-06-10T06:49:37.747Z"
   },
   {
    "duration": 9,
    "start_time": "2021-06-10T06:49:37.818Z"
   },
   {
    "duration": 26,
    "start_time": "2021-06-10T06:49:37.830Z"
   },
   {
    "duration": 6,
    "start_time": "2021-06-10T06:49:37.990Z"
   },
   {
    "duration": 16,
    "start_time": "2021-06-10T06:49:38.253Z"
   },
   {
    "duration": 24,
    "start_time": "2021-06-10T06:49:38.799Z"
   },
   {
    "duration": 466,
    "start_time": "2021-06-10T06:49:38.989Z"
   },
   {
    "duration": 570,
    "start_time": "2021-06-10T06:49:39.513Z"
   },
   {
    "duration": 18,
    "start_time": "2021-06-10T06:49:41.628Z"
   },
   {
    "duration": 15,
    "start_time": "2021-06-10T06:49:42.330Z"
   },
   {
    "duration": 242,
    "start_time": "2021-06-10T06:49:43.023Z"
   },
   {
    "duration": 14,
    "start_time": "2021-06-10T06:49:43.268Z"
   },
   {
    "duration": 10,
    "start_time": "2021-06-10T06:49:43.380Z"
   },
   {
    "duration": 9,
    "start_time": "2021-06-10T06:49:43.780Z"
   },
   {
    "duration": 5,
    "start_time": "2021-06-10T06:49:45.706Z"
   },
   {
    "duration": 7,
    "start_time": "2021-06-10T06:49:46.794Z"
   },
   {
    "duration": 537080,
    "start_time": "2021-06-10T06:49:47.367Z"
   },
   {
    "duration": 7,
    "start_time": "2021-06-10T06:58:44.453Z"
   },
   {
    "duration": 251,
    "start_time": "2021-06-10T06:58:44.462Z"
   },
   {
    "duration": 2744,
    "start_time": "2021-06-10T06:58:44.716Z"
   },
   {
    "duration": 72,
    "start_time": "2021-06-10T06:58:47.463Z"
   },
   {
    "duration": 37,
    "start_time": "2021-06-10T06:58:47.537Z"
   },
   {
    "duration": 5,
    "start_time": "2021-06-10T06:58:47.577Z"
   },
   {
    "duration": 25482,
    "start_time": "2021-06-10T06:58:47.587Z"
   },
   {
    "duration": 21,
    "start_time": "2021-06-10T06:59:13.073Z"
   },
   {
    "duration": 10,
    "start_time": "2021-06-10T06:59:13.097Z"
   },
   {
    "duration": 66,
    "start_time": "2021-06-10T06:59:13.110Z"
   },
   {
    "duration": 7,
    "start_time": "2021-06-10T06:59:13.180Z"
   },
   {
    "duration": 95,
    "start_time": "2021-06-10T06:59:13.190Z"
   },
   {
    "duration": -955,
    "start_time": "2021-06-10T06:59:14.243Z"
   },
   {
    "duration": -957,
    "start_time": "2021-06-10T06:59:14.247Z"
   },
   {
    "duration": -958,
    "start_time": "2021-06-10T06:59:14.250Z"
   },
   {
    "duration": -960,
    "start_time": "2021-06-10T06:59:14.254Z"
   },
   {
    "duration": -961,
    "start_time": "2021-06-10T06:59:14.257Z"
   },
   {
    "duration": 3921290,
    "start_time": "2021-06-10T07:29:03.362Z"
   },
   {
    "duration": -1121,
    "start_time": "2021-06-10T08:34:25.778Z"
   },
   {
    "duration": -1121,
    "start_time": "2021-06-10T08:34:25.780Z"
   },
   {
    "duration": -1121,
    "start_time": "2021-06-10T08:34:25.782Z"
   },
   {
    "duration": -1121,
    "start_time": "2021-06-10T08:34:25.784Z"
   },
   {
    "duration": -1122,
    "start_time": "2021-06-10T08:34:25.787Z"
   },
   {
    "duration": 2774964,
    "start_time": "2021-06-10T08:34:34.577Z"
   },
   {
    "duration": -931,
    "start_time": "2021-06-10T09:20:50.475Z"
   },
   {
    "duration": -932,
    "start_time": "2021-06-10T09:20:50.478Z"
   },
   {
    "duration": -933,
    "start_time": "2021-06-10T09:20:50.480Z"
   },
   {
    "duration": -934,
    "start_time": "2021-06-10T09:20:50.482Z"
   },
   {
    "duration": -939,
    "start_time": "2021-06-10T09:20:50.489Z"
   },
   {
    "duration": 1619,
    "start_time": "2021-06-10T09:21:03.220Z"
   },
   {
    "duration": 112,
    "start_time": "2021-06-10T09:21:04.841Z"
   },
   {
    "duration": 14,
    "start_time": "2021-06-10T09:21:04.956Z"
   },
   {
    "duration": 4,
    "start_time": "2021-06-10T09:21:05.275Z"
   },
   {
    "duration": 4,
    "start_time": "2021-06-10T09:21:05.546Z"
   },
   {
    "duration": 11,
    "start_time": "2021-06-10T09:21:05.769Z"
   },
   {
    "duration": 34,
    "start_time": "2021-06-10T09:21:06.234Z"
   },
   {
    "duration": 478,
    "start_time": "2021-06-10T09:21:06.516Z"
   },
   {
    "duration": 680,
    "start_time": "2021-06-10T09:21:07.475Z"
   },
   {
    "duration": 20,
    "start_time": "2021-06-10T09:21:09.411Z"
   },
   {
    "duration": 16,
    "start_time": "2021-06-10T09:21:09.843Z"
   },
   {
    "duration": 254,
    "start_time": "2021-06-10T09:21:10.331Z"
   },
   {
    "duration": 14,
    "start_time": "2021-06-10T09:21:10.895Z"
   },
   {
    "duration": 12,
    "start_time": "2021-06-10T09:21:12.027Z"
   },
   {
    "duration": 10,
    "start_time": "2021-06-10T09:21:12.307Z"
   },
   {
    "duration": 4,
    "start_time": "2021-06-10T09:21:13.099Z"
   },
   {
    "duration": 6,
    "start_time": "2021-06-10T09:21:13.324Z"
   },
   {
    "duration": 522896,
    "start_time": "2021-06-10T09:21:13.788Z"
   },
   {
    "duration": 5,
    "start_time": "2021-06-10T09:29:56.687Z"
   },
   {
    "duration": 16,
    "start_time": "2021-06-10T09:29:56.696Z"
   },
   {
    "duration": 2772,
    "start_time": "2021-06-10T09:29:56.715Z"
   },
   {
    "duration": 90,
    "start_time": "2021-06-10T09:29:59.490Z"
   },
   {
    "duration": 22,
    "start_time": "2021-06-10T09:29:59.583Z"
   },
   {
    "duration": 9,
    "start_time": "2021-06-10T09:29:59.607Z"
   },
   {
    "duration": 30355,
    "start_time": "2021-06-10T09:29:59.621Z"
   },
   {
    "duration": 23,
    "start_time": "2021-06-10T09:30:29.979Z"
   },
   {
    "duration": 54,
    "start_time": "2021-06-10T09:30:30.004Z"
   },
   {
    "duration": 14,
    "start_time": "2021-06-10T09:30:30.060Z"
   },
   {
    "duration": 17,
    "start_time": "2021-06-10T09:30:30.077Z"
   },
   {
    "duration": 587,
    "start_time": "2021-06-10T09:30:30.097Z"
   },
   {
    "duration": -936,
    "start_time": "2021-06-10T09:30:31.623Z"
   },
   {
    "duration": -937,
    "start_time": "2021-06-10T09:30:31.626Z"
   },
   {
    "duration": -938,
    "start_time": "2021-06-10T09:30:31.629Z"
   },
   {
    "duration": -939,
    "start_time": "2021-06-10T09:30:31.631Z"
   },
   {
    "duration": -940,
    "start_time": "2021-06-10T09:30:31.634Z"
   },
   {
    "duration": 1721483,
    "start_time": "2021-06-10T09:31:46.205Z"
   },
   {
    "duration": -1601,
    "start_time": "2021-06-10T10:00:29.292Z"
   },
   {
    "duration": -1603,
    "start_time": "2021-06-10T10:00:29.295Z"
   },
   {
    "duration": -1602,
    "start_time": "2021-06-10T10:00:29.297Z"
   },
   {
    "duration": -1602,
    "start_time": "2021-06-10T10:00:29.300Z"
   },
   {
    "duration": -1602,
    "start_time": "2021-06-10T10:00:29.302Z"
   },
   {
    "duration": 1586,
    "start_time": "2021-06-10T10:50:20.517Z"
   },
   {
    "duration": 105,
    "start_time": "2021-06-10T10:50:22.106Z"
   },
   {
    "duration": 8,
    "start_time": "2021-06-10T10:50:22.214Z"
   },
   {
    "duration": 6,
    "start_time": "2021-06-10T10:50:22.225Z"
   },
   {
    "duration": 22,
    "start_time": "2021-06-10T10:50:22.233Z"
   },
   {
    "duration": 10,
    "start_time": "2021-06-10T10:50:22.359Z"
   },
   {
    "duration": 25,
    "start_time": "2021-06-10T10:50:22.681Z"
   },
   {
    "duration": 440,
    "start_time": "2021-06-10T10:50:22.842Z"
   },
   {
    "duration": 555,
    "start_time": "2021-06-10T10:50:23.284Z"
   },
   {
    "duration": 21,
    "start_time": "2021-06-10T10:50:26.163Z"
   },
   {
    "duration": 16,
    "start_time": "2021-06-10T10:50:26.581Z"
   },
   {
    "duration": 235,
    "start_time": "2021-06-10T10:50:27.002Z"
   },
   {
    "duration": 25,
    "start_time": "2021-06-10T10:50:27.240Z"
   },
   {
    "duration": 13,
    "start_time": "2021-06-10T10:50:27.427Z"
   },
   {
    "duration": 12,
    "start_time": "2021-06-10T10:50:27.698Z"
   },
   {
    "duration": 5,
    "start_time": "2021-06-10T10:50:28.083Z"
   },
   {
    "duration": 6,
    "start_time": "2021-06-10T10:50:28.290Z"
   },
   {
    "duration": 471601,
    "start_time": "2021-06-10T10:50:28.756Z"
   },
   {
    "duration": 5,
    "start_time": "2021-06-10T10:58:20.360Z"
   },
   {
    "duration": 12,
    "start_time": "2021-06-10T10:58:20.368Z"
   },
   {
    "duration": 2538,
    "start_time": "2021-06-10T10:58:20.382Z"
   },
   {
    "duration": 79,
    "start_time": "2021-06-10T10:58:22.923Z"
   },
   {
    "duration": 20,
    "start_time": "2021-06-10T10:58:23.005Z"
   },
   {
    "duration": 5,
    "start_time": "2021-06-10T10:58:23.027Z"
   },
   {
    "duration": 21889,
    "start_time": "2021-06-10T10:58:23.056Z"
   },
   {
    "duration": 9,
    "start_time": "2021-06-10T10:58:44.948Z"
   },
   {
    "duration": 12,
    "start_time": "2021-06-10T10:58:44.960Z"
   },
   {
    "duration": 12,
    "start_time": "2021-06-10T10:58:44.975Z"
   },
   {
    "duration": 6,
    "start_time": "2021-06-10T10:58:44.989Z"
   },
   {
    "duration": 2369647,
    "start_time": "2021-06-10T10:58:44.997Z"
   },
   {
    "duration": -1015,
    "start_time": "2021-06-10T11:38:15.662Z"
   },
   {
    "duration": -1019,
    "start_time": "2021-06-10T11:38:15.667Z"
   },
   {
    "duration": -1028,
    "start_time": "2021-06-10T11:38:15.677Z"
   },
   {
    "duration": -1031,
    "start_time": "2021-06-10T11:38:15.681Z"
   },
   {
    "duration": -1031,
    "start_time": "2021-06-10T11:38:15.683Z"
   },
   {
    "duration": 1395769,
    "start_time": "2021-06-10T11:38:41.322Z"
   },
   {
    "duration": 1052184,
    "start_time": "2021-06-10T12:02:11.500Z"
   },
   {
    "duration": 1523,
    "start_time": "2021-06-10T12:21:02.119Z"
   },
   {
    "duration": 68,
    "start_time": "2021-06-10T12:21:03.645Z"
   },
   {
    "duration": 9,
    "start_time": "2021-06-10T12:21:03.948Z"
   },
   {
    "duration": 5,
    "start_time": "2021-06-10T12:21:08.396Z"
   },
   {
    "duration": 5,
    "start_time": "2021-06-10T12:21:08.747Z"
   },
   {
    "duration": 12,
    "start_time": "2021-06-10T12:21:09.195Z"
   },
   {
    "duration": 23,
    "start_time": "2021-06-10T12:21:10.274Z"
   },
   {
    "duration": 417,
    "start_time": "2021-06-10T12:21:11.412Z"
   },
   {
    "duration": 537,
    "start_time": "2021-06-10T12:21:15.186Z"
   },
   {
    "duration": 19,
    "start_time": "2021-06-10T12:21:19.002Z"
   },
   {
    "duration": 16,
    "start_time": "2021-06-10T12:21:20.607Z"
   },
   {
    "duration": 233,
    "start_time": "2021-06-10T12:21:22.020Z"
   },
   {
    "duration": 15,
    "start_time": "2021-06-10T12:21:23.214Z"
   },
   {
    "duration": 11,
    "start_time": "2021-06-10T12:21:24.408Z"
   },
   {
    "duration": 9,
    "start_time": "2021-06-10T12:21:25.241Z"
   },
   {
    "duration": 1623,
    "start_time": "2021-06-10T12:22:01.438Z"
   },
   {
    "duration": 64,
    "start_time": "2021-06-10T12:22:03.063Z"
   },
   {
    "duration": 8,
    "start_time": "2021-06-10T12:22:03.130Z"
   },
   {
    "duration": 15,
    "start_time": "2021-06-10T12:22:03.140Z"
   },
   {
    "duration": 20,
    "start_time": "2021-06-10T12:22:03.158Z"
   },
   {
    "duration": 24,
    "start_time": "2021-06-10T12:22:03.181Z"
   },
   {
    "duration": 33,
    "start_time": "2021-06-10T12:22:03.208Z"
   },
   {
    "duration": 439,
    "start_time": "2021-06-10T12:22:03.245Z"
   },
   {
    "duration": 557,
    "start_time": "2021-06-10T12:22:03.687Z"
   },
   {
    "duration": 25,
    "start_time": "2021-06-10T12:22:04.246Z"
   },
   {
    "duration": 16,
    "start_time": "2021-06-10T12:22:04.273Z"
   },
   {
    "duration": 273,
    "start_time": "2021-06-10T12:22:04.291Z"
   },
   {
    "duration": 14,
    "start_time": "2021-06-10T12:22:04.567Z"
   },
   {
    "duration": 11,
    "start_time": "2021-06-10T12:22:04.583Z"
   },
   {
    "duration": 9,
    "start_time": "2021-06-10T12:22:04.596Z"
   },
   {
    "duration": 4,
    "start_time": "2021-06-10T12:22:04.608Z"
   },
   {
    "duration": 5,
    "start_time": "2021-06-10T12:22:04.656Z"
   },
   {
    "duration": 470929,
    "start_time": "2021-06-10T12:22:04.663Z"
   },
   {
    "duration": 7,
    "start_time": "2021-06-10T12:29:55.594Z"
   },
   {
    "duration": 14,
    "start_time": "2021-06-10T12:29:55.604Z"
   },
   {
    "duration": 2569,
    "start_time": "2021-06-10T12:29:55.620Z"
   },
   {
    "duration": 88,
    "start_time": "2021-06-10T12:29:58.192Z"
   },
   {
    "duration": 23,
    "start_time": "2021-06-10T12:29:58.287Z"
   },
   {
    "duration": 6,
    "start_time": "2021-06-10T12:29:58.313Z"
   },
   {
    "duration": 22734,
    "start_time": "2021-06-10T12:29:58.322Z"
   },
   {
    "duration": 10,
    "start_time": "2021-06-10T12:30:21.059Z"
   },
   {
    "duration": 15,
    "start_time": "2021-06-10T12:30:21.072Z"
   },
   {
    "duration": 26,
    "start_time": "2021-06-10T12:30:21.090Z"
   },
   {
    "duration": 39,
    "start_time": "2021-06-10T12:30:21.119Z"
   },
   {
    "duration": 2609236,
    "start_time": "2021-06-10T12:30:21.161Z"
   },
   {
    "duration": -954,
    "start_time": "2021-06-10T13:13:51.354Z"
   },
   {
    "duration": -955,
    "start_time": "2021-06-10T13:13:51.357Z"
   },
   {
    "duration": -956,
    "start_time": "2021-06-10T13:13:51.359Z"
   },
   {
    "duration": -957,
    "start_time": "2021-06-10T13:13:51.361Z"
   },
   {
    "duration": -957,
    "start_time": "2021-06-10T13:13:51.363Z"
   },
   {
    "duration": 58849,
    "start_time": "2021-06-10T13:14:16.872Z"
   },
   {
    "duration": -972,
    "start_time": "2021-06-10T13:15:16.695Z"
   },
   {
    "duration": -973,
    "start_time": "2021-06-10T13:15:16.698Z"
   },
   {
    "duration": -974,
    "start_time": "2021-06-10T13:15:16.701Z"
   },
   {
    "duration": -976,
    "start_time": "2021-06-10T13:15:16.704Z"
   },
   {
    "duration": -975,
    "start_time": "2021-06-10T13:15:16.705Z"
   },
   {
    "duration": 1646,
    "start_time": "2021-06-10T17:52:18.164Z"
   },
   {
    "duration": 62,
    "start_time": "2021-06-10T17:52:19.813Z"
   },
   {
    "duration": 8,
    "start_time": "2021-06-10T17:52:20.623Z"
   },
   {
    "duration": 5,
    "start_time": "2021-06-10T17:52:23.071Z"
   },
   {
    "duration": 5,
    "start_time": "2021-06-10T17:52:23.344Z"
   },
   {
    "duration": 12,
    "start_time": "2021-06-10T17:52:23.793Z"
   },
   {
    "duration": 25,
    "start_time": "2021-06-10T17:52:24.824Z"
   },
   {
    "duration": 452,
    "start_time": "2021-06-10T17:52:25.569Z"
   },
   {
    "duration": 545,
    "start_time": "2021-06-10T17:52:28.639Z"
   },
   {
    "duration": 18,
    "start_time": "2021-06-10T17:52:37.642Z"
   },
   {
    "duration": 16,
    "start_time": "2021-06-10T17:52:39.044Z"
   },
   {
    "duration": 253,
    "start_time": "2021-06-10T17:52:41.426Z"
   },
   {
    "duration": 14,
    "start_time": "2021-06-10T17:52:42.773Z"
   },
   {
    "duration": 12,
    "start_time": "2021-06-10T17:52:43.531Z"
   },
   {
    "duration": 9,
    "start_time": "2021-06-10T17:52:44.236Z"
   },
   {
    "duration": 5,
    "start_time": "2021-06-10T17:52:45.626Z"
   },
   {
    "duration": 5,
    "start_time": "2021-06-10T17:52:46.176Z"
   },
   {
    "duration": 497538,
    "start_time": "2021-06-10T17:52:47.296Z"
   },
   {
    "duration": 5,
    "start_time": "2021-06-10T18:01:04.836Z"
   },
   {
    "duration": 10,
    "start_time": "2021-06-10T18:01:04.844Z"
   },
   {
    "duration": 3914,
    "start_time": "2021-06-10T18:01:04.857Z"
   },
   {
    "duration": 106,
    "start_time": "2021-06-10T18:01:08.774Z"
   },
   {
    "duration": 27,
    "start_time": "2021-06-10T18:01:08.883Z"
   },
   {
    "duration": 6,
    "start_time": "2021-06-10T18:01:08.926Z"
   },
   {
    "duration": 31040,
    "start_time": "2021-06-10T18:01:08.937Z"
   },
   {
    "duration": 12,
    "start_time": "2021-06-10T18:01:39.980Z"
   },
   {
    "duration": 12,
    "start_time": "2021-06-10T18:01:39.994Z"
   },
   {
    "duration": 28,
    "start_time": "2021-06-10T18:01:40.008Z"
   },
   {
    "duration": 5,
    "start_time": "2021-06-10T18:01:40.038Z"
   },
   {
    "duration": 87995,
    "start_time": "2021-06-10T18:01:47.455Z"
   },
   {
    "duration": 104249,
    "start_time": "2021-06-10T18:04:22.261Z"
   },
   {
    "duration": 16,
    "start_time": "2021-06-10T18:06:06.513Z"
   },
   {
    "duration": 19,
    "start_time": "2021-06-10T18:06:06.532Z"
   },
   {
    "duration": 79,
    "start_time": "2021-06-10T18:06:06.554Z"
   },
   {
    "duration": 5,
    "start_time": "2021-06-10T18:06:06.635Z"
   },
   {
    "duration": 26925,
    "start_time": "2021-06-10T18:06:31.757Z"
   },
   {
    "duration": 30409,
    "start_time": "2021-06-10T18:06:58.685Z"
   },
   {
    "duration": 7,
    "start_time": "2021-06-10T18:07:29.098Z"
   },
   {
    "duration": 14,
    "start_time": "2021-06-10T18:07:29.107Z"
   },
   {
    "duration": 29,
    "start_time": "2021-06-10T18:07:29.124Z"
   },
   {
    "duration": 6,
    "start_time": "2021-06-10T18:07:29.155Z"
   },
   {
    "duration": 1672,
    "start_time": "2021-06-10T18:14:34.487Z"
   },
   {
    "duration": 65,
    "start_time": "2021-06-10T18:14:36.161Z"
   },
   {
    "duration": 8,
    "start_time": "2021-06-10T18:14:36.229Z"
   },
   {
    "duration": 5,
    "start_time": "2021-06-10T18:14:37.386Z"
   },
   {
    "duration": 8,
    "start_time": "2021-06-10T18:14:37.395Z"
   },
   {
    "duration": 15,
    "start_time": "2021-06-10T18:14:37.406Z"
   },
   {
    "duration": 24,
    "start_time": "2021-06-10T18:14:37.426Z"
   },
   {
    "duration": 428,
    "start_time": "2021-06-10T18:14:37.560Z"
   },
   {
    "duration": 553,
    "start_time": "2021-06-10T18:14:38.054Z"
   },
   {
    "duration": 22,
    "start_time": "2021-06-10T18:14:39.561Z"
   },
   {
    "duration": 15,
    "start_time": "2021-06-10T18:14:40.143Z"
   },
   {
    "duration": 243,
    "start_time": "2021-06-10T18:14:40.703Z"
   },
   {
    "duration": 15,
    "start_time": "2021-06-10T18:14:40.993Z"
   },
   {
    "duration": 11,
    "start_time": "2021-06-10T18:14:41.287Z"
   },
   {
    "duration": 10,
    "start_time": "2021-06-10T18:14:42.216Z"
   },
   {
    "duration": 5,
    "start_time": "2021-06-10T18:14:43.503Z"
   },
   {
    "duration": 5,
    "start_time": "2021-06-10T18:14:43.869Z"
   },
   {
    "duration": 490677,
    "start_time": "2021-06-10T18:14:44.495Z"
   },
   {
    "duration": 7,
    "start_time": "2021-06-10T18:22:55.175Z"
   },
   {
    "duration": 8,
    "start_time": "2021-06-10T18:22:55.186Z"
   },
   {
    "duration": 2457,
    "start_time": "2021-06-10T18:22:55.197Z"
   },
   {
    "duration": 83,
    "start_time": "2021-06-10T18:22:57.658Z"
   },
   {
    "duration": 22,
    "start_time": "2021-06-10T18:22:57.744Z"
   },
   {
    "duration": 7,
    "start_time": "2021-06-10T18:22:57.769Z"
   },
   {
    "duration": 21556,
    "start_time": "2021-06-10T18:22:57.780Z"
   },
   {
    "duration": 9,
    "start_time": "2021-06-10T18:23:19.339Z"
   },
   {
    "duration": 10,
    "start_time": "2021-06-10T18:23:19.350Z"
   },
   {
    "duration": 63,
    "start_time": "2021-06-10T18:23:19.362Z"
   },
   {
    "duration": 5,
    "start_time": "2021-06-10T18:23:19.428Z"
   },
   {
    "duration": 123,
    "start_time": "2021-06-10T18:23:19.436Z"
   },
   {
    "duration": -919,
    "start_time": "2021-06-10T18:23:20.481Z"
   },
   {
    "duration": -921,
    "start_time": "2021-06-10T18:23:20.484Z"
   },
   {
    "duration": -921,
    "start_time": "2021-06-10T18:23:20.486Z"
   },
   {
    "duration": -922,
    "start_time": "2021-06-10T18:23:20.488Z"
   },
   {
    "duration": -925,
    "start_time": "2021-06-10T18:23:20.492Z"
   },
   {
    "duration": 3952559,
    "start_time": "2021-06-10T18:25:27.565Z"
   },
   {
    "duration": -1001,
    "start_time": "2021-06-10T19:31:21.128Z"
   },
   {
    "duration": -1003,
    "start_time": "2021-06-10T19:31:21.131Z"
   },
   {
    "duration": -1015,
    "start_time": "2021-06-10T19:31:21.144Z"
   },
   {
    "duration": -1015,
    "start_time": "2021-06-10T19:31:21.146Z"
   },
   {
    "duration": -1017,
    "start_time": "2021-06-10T19:31:21.149Z"
   },
   {
    "duration": 1579,
    "start_time": "2021-06-10T19:31:31.168Z"
   },
   {
    "duration": 67,
    "start_time": "2021-06-10T19:31:32.750Z"
   },
   {
    "duration": 10,
    "start_time": "2021-06-10T19:31:32.974Z"
   },
   {
    "duration": 6,
    "start_time": "2021-06-10T19:31:34.697Z"
   },
   {
    "duration": 5,
    "start_time": "2021-06-10T19:31:35.488Z"
   },
   {
    "duration": 12,
    "start_time": "2021-06-10T19:31:36.034Z"
   },
   {
    "duration": 27,
    "start_time": "2021-06-10T19:31:37.264Z"
   },
   {
    "duration": 459,
    "start_time": "2021-06-10T19:31:37.769Z"
   },
   {
    "duration": 644,
    "start_time": "2021-06-10T19:31:39.936Z"
   },
   {
    "duration": 18,
    "start_time": "2021-06-10T19:31:43.810Z"
   },
   {
    "duration": 16,
    "start_time": "2021-06-10T19:31:52.002Z"
   },
   {
    "duration": 256,
    "start_time": "2021-06-10T19:31:55.355Z"
   },
   {
    "duration": 14,
    "start_time": "2021-06-10T19:31:57.540Z"
   },
   {
    "duration": 11,
    "start_time": "2021-06-10T19:31:59.553Z"
   },
   {
    "duration": 4,
    "start_time": "2021-06-10T19:32:06.444Z"
   },
   {
    "duration": 5,
    "start_time": "2021-06-10T19:32:07.877Z"
   },
   {
    "duration": 4,
    "start_time": "2021-06-10T19:32:31.038Z"
   },
   {
    "duration": 6,
    "start_time": "2021-06-10T19:32:31.469Z"
   },
   {
    "duration": 5,
    "start_time": "2021-06-10T19:32:58.151Z"
   },
   {
    "duration": 5,
    "start_time": "2021-06-10T19:32:58.529Z"
   },
   {
    "duration": 5,
    "start_time": "2021-06-10T19:33:08.495Z"
   },
   {
    "duration": 7,
    "start_time": "2021-06-10T19:33:08.872Z"
   },
   {
    "duration": 793,
    "start_time": "2021-06-10T19:33:24.770Z"
   },
   {
    "duration": 6,
    "start_time": "2021-06-10T19:33:38.888Z"
   },
   {
    "duration": 5,
    "start_time": "2021-06-10T19:33:48.734Z"
   },
   {
    "duration": 7,
    "start_time": "2021-06-10T19:33:49.557Z"
   },
   {
    "duration": 2021,
    "start_time": "2021-06-10T19:35:07.971Z"
   },
   {
    "duration": 86,
    "start_time": "2021-06-10T19:35:09.995Z"
   },
   {
    "duration": 10,
    "start_time": "2021-06-10T19:35:10.084Z"
   },
   {
    "duration": 9,
    "start_time": "2021-06-10T19:35:10.244Z"
   },
   {
    "duration": 5,
    "start_time": "2021-06-10T19:35:10.493Z"
   },
   {
    "duration": 12,
    "start_time": "2021-06-10T19:35:10.759Z"
   },
   {
    "duration": 27,
    "start_time": "2021-06-10T19:35:11.272Z"
   },
   {
    "duration": 426,
    "start_time": "2021-06-10T19:35:11.522Z"
   },
   {
    "duration": 635,
    "start_time": "2021-06-10T19:35:11.990Z"
   },
   {
    "duration": 18,
    "start_time": "2021-06-10T19:35:13.202Z"
   },
   {
    "duration": 15,
    "start_time": "2021-06-10T19:35:13.822Z"
   },
   {
    "duration": 244,
    "start_time": "2021-06-10T19:35:14.181Z"
   },
   {
    "duration": 14,
    "start_time": "2021-06-10T19:35:14.438Z"
   },
   {
    "duration": 10,
    "start_time": "2021-06-10T19:35:14.667Z"
   },
   {
    "duration": 40893,
    "start_time": "2021-06-10T19:35:15.147Z"
   },
   {
    "duration": 6,
    "start_time": "2021-06-10T19:35:56.043Z"
   },
   {
    "duration": 8,
    "start_time": "2021-06-10T19:35:56.051Z"
   },
   {
    "duration": 2464,
    "start_time": "2021-06-10T19:35:56.061Z"
   },
   {
    "duration": 81,
    "start_time": "2021-06-10T19:35:58.528Z"
   },
   {
    "duration": 30458,
    "start_time": "2021-06-10T19:35:58.627Z"
   },
   {
    "duration": 14,
    "start_time": "2021-06-10T19:36:29.088Z"
   },
   {
    "duration": 16,
    "start_time": "2021-06-10T19:36:29.105Z"
   },
   {
    "duration": 1771,
    "start_time": "2021-06-11T06:28:10.489Z"
   },
   {
    "duration": 69,
    "start_time": "2021-06-11T06:28:12.263Z"
   },
   {
    "duration": 9,
    "start_time": "2021-06-11T06:28:12.336Z"
   },
   {
    "duration": 12,
    "start_time": "2021-06-11T06:28:12.348Z"
   },
   {
    "duration": 5,
    "start_time": "2021-06-11T06:28:12.364Z"
   },
   {
    "duration": 16,
    "start_time": "2021-06-11T06:28:12.373Z"
   },
   {
    "duration": 26,
    "start_time": "2021-06-11T06:28:12.907Z"
   },
   {
    "duration": 487,
    "start_time": "2021-06-11T06:28:13.171Z"
   },
   {
    "duration": 575,
    "start_time": "2021-06-11T06:28:13.661Z"
   },
   {
    "duration": 19,
    "start_time": "2021-06-11T06:28:14.768Z"
   },
   {
    "duration": 15,
    "start_time": "2021-06-11T06:28:15.410Z"
   },
   {
    "duration": 242,
    "start_time": "2021-06-11T06:28:15.839Z"
   },
   {
    "duration": 14,
    "start_time": "2021-06-11T06:28:16.083Z"
   },
   {
    "duration": 11,
    "start_time": "2021-06-11T06:28:16.356Z"
   },
   {
    "duration": 41152,
    "start_time": "2021-06-11T06:28:16.780Z"
   },
   {
    "duration": 6,
    "start_time": "2021-06-11T06:28:57.934Z"
   },
   {
    "duration": 13,
    "start_time": "2021-06-11T06:28:57.943Z"
   },
   {
    "duration": 2498,
    "start_time": "2021-06-11T06:28:57.959Z"
   },
   {
    "duration": 81,
    "start_time": "2021-06-11T06:29:00.460Z"
   },
   {
    "duration": 22630,
    "start_time": "2021-06-11T06:29:00.543Z"
   },
   {
    "duration": 9,
    "start_time": "2021-06-11T06:29:23.176Z"
   },
   {
    "duration": 10,
    "start_time": "2021-06-11T06:29:23.189Z"
   },
   {
    "duration": 851702,
    "start_time": "2021-06-11T06:29:23.202Z"
   },
   {
    "duration": -1135,
    "start_time": "2021-06-11T06:43:36.043Z"
   },
   {
    "duration": -1136,
    "start_time": "2021-06-11T06:43:36.046Z"
   },
   {
    "duration": -1136,
    "start_time": "2021-06-11T06:43:36.049Z"
   },
   {
    "duration": 1668,
    "start_time": "2021-06-11T06:44:09.284Z"
   },
   {
    "duration": 71,
    "start_time": "2021-06-11T06:44:10.955Z"
   },
   {
    "duration": 10,
    "start_time": "2021-06-11T06:44:11.029Z"
   },
   {
    "duration": 5,
    "start_time": "2021-06-11T06:44:11.455Z"
   },
   {
    "duration": 5,
    "start_time": "2021-06-11T06:44:11.744Z"
   },
   {
    "duration": 12,
    "start_time": "2021-06-11T06:44:11.978Z"
   },
   {
    "duration": 26,
    "start_time": "2021-06-11T06:44:12.492Z"
   },
   {
    "duration": 462,
    "start_time": "2021-06-11T06:44:12.770Z"
   },
   {
    "duration": 562,
    "start_time": "2021-06-11T06:44:13.309Z"
   },
   {
    "duration": 19,
    "start_time": "2021-06-11T06:44:14.974Z"
   },
   {
    "duration": 16,
    "start_time": "2021-06-11T06:44:15.533Z"
   },
   {
    "duration": 241,
    "start_time": "2021-06-11T06:44:16.174Z"
   },
   {
    "duration": 15,
    "start_time": "2021-06-11T06:44:16.507Z"
   },
   {
    "duration": 11,
    "start_time": "2021-06-11T06:44:16.788Z"
   },
   {
    "duration": 40882,
    "start_time": "2021-06-11T06:44:17.392Z"
   },
   {
    "duration": 7,
    "start_time": "2021-06-11T06:44:58.276Z"
   },
   {
    "duration": 6,
    "start_time": "2021-06-11T06:44:58.286Z"
   },
   {
    "duration": 2567,
    "start_time": "2021-06-11T06:44:58.295Z"
   },
   {
    "duration": 80,
    "start_time": "2021-06-11T06:45:00.865Z"
   },
   {
    "duration": 22317,
    "start_time": "2021-06-11T06:45:00.947Z"
   },
   {
    "duration": 15,
    "start_time": "2021-06-11T06:45:23.266Z"
   },
   {
    "duration": 15,
    "start_time": "2021-06-11T06:45:23.285Z"
   },
   {
    "duration": 452,
    "start_time": "2021-06-11T07:45:01.486Z"
   },
   {
    "duration": 1615,
    "start_time": "2021-06-11T07:45:24.837Z"
   },
   {
    "duration": 64,
    "start_time": "2021-06-11T07:45:26.454Z"
   },
   {
    "duration": 9,
    "start_time": "2021-06-11T07:45:31.225Z"
   },
   {
    "duration": 5,
    "start_time": "2021-06-11T07:45:33.144Z"
   },
   {
    "duration": 5,
    "start_time": "2021-06-11T07:45:33.428Z"
   },
   {
    "duration": 11,
    "start_time": "2021-06-11T07:45:33.977Z"
   },
   {
    "duration": 25,
    "start_time": "2021-06-11T07:45:34.839Z"
   },
   {
    "duration": 415,
    "start_time": "2021-06-11T07:45:35.630Z"
   },
   {
    "duration": 552,
    "start_time": "2021-06-11T07:45:36.864Z"
   },
   {
    "duration": 18,
    "start_time": "2021-06-11T07:45:38.728Z"
   },
   {
    "duration": 16,
    "start_time": "2021-06-11T07:45:39.974Z"
   },
   {
    "duration": 246,
    "start_time": "2021-06-11T07:45:41.286Z"
   },
   {
    "duration": 15,
    "start_time": "2021-06-11T07:45:42.014Z"
   },
   {
    "duration": 12,
    "start_time": "2021-06-11T07:45:42.500Z"
   },
   {
    "duration": 40860,
    "start_time": "2021-06-11T07:45:43.476Z"
   },
   {
    "duration": 8,
    "start_time": "2021-06-11T07:46:24.338Z"
   },
   {
    "duration": 6,
    "start_time": "2021-06-11T07:46:24.349Z"
   },
   {
    "duration": 2188,
    "start_time": "2021-06-11T07:46:24.358Z"
   },
   {
    "duration": 78,
    "start_time": "2021-06-11T07:46:26.548Z"
   },
   {
    "duration": 24241,
    "start_time": "2021-06-11T07:46:26.628Z"
   },
   {
    "duration": 13,
    "start_time": "2021-06-11T07:46:50.872Z"
   },
   {
    "duration": 38,
    "start_time": "2021-06-11T07:46:50.890Z"
   },
   {
    "duration": 487599,
    "start_time": "2021-06-11T07:46:50.931Z"
   },
   {
    "duration": -2376,
    "start_time": "2021-06-11T07:55:00.909Z"
   },
   {
    "duration": -2469,
    "start_time": "2021-06-11T07:55:01.003Z"
   },
   {
    "duration": -2560,
    "start_time": "2021-06-11T07:55:01.096Z"
   },
   {
    "duration": 85602,
    "start_time": "2021-06-11T07:55:17.016Z"
   },
   {
    "duration": 39776,
    "start_time": "2021-06-11T07:57:30.397Z"
   },
   {
    "duration": 7,
    "start_time": "2021-06-11T07:58:10.176Z"
   },
   {
    "duration": 13,
    "start_time": "2021-06-11T07:58:10.185Z"
   },
   {
    "duration": 1770,
    "start_time": "2021-06-11T08:12:48.831Z"
   },
   {
    "duration": 68,
    "start_time": "2021-06-11T08:12:50.604Z"
   },
   {
    "duration": 9,
    "start_time": "2021-06-11T08:12:50.675Z"
   },
   {
    "duration": 6,
    "start_time": "2021-06-11T08:12:50.688Z"
   },
   {
    "duration": 33,
    "start_time": "2021-06-11T08:12:50.697Z"
   },
   {
    "duration": 21,
    "start_time": "2021-06-11T08:12:50.735Z"
   },
   {
    "duration": 24,
    "start_time": "2021-06-11T08:12:50.759Z"
   },
   {
    "duration": 479,
    "start_time": "2021-06-11T08:12:50.786Z"
   },
   {
    "duration": 580,
    "start_time": "2021-06-11T08:12:51.268Z"
   },
   {
    "duration": 19,
    "start_time": "2021-06-11T08:12:53.864Z"
   },
   {
    "duration": 16,
    "start_time": "2021-06-11T08:12:54.793Z"
   },
   {
    "duration": 257,
    "start_time": "2021-06-11T08:12:56.828Z"
   },
   {
    "duration": 13,
    "start_time": "2021-06-11T08:12:57.805Z"
   },
   {
    "duration": 10,
    "start_time": "2021-06-11T08:12:58.604Z"
   },
   {
    "duration": 5199,
    "start_time": "2021-06-11T08:13:02.563Z"
   },
   {
    "duration": -5249,
    "start_time": "2021-06-11T08:13:13.014Z"
   },
   {
    "duration": 5,
    "start_time": "2021-06-11T08:13:09.014Z"
   },
   {
    "duration": 2326,
    "start_time": "2021-06-11T08:13:09.682Z"
   },
   {
    "duration": 73,
    "start_time": "2021-06-11T08:13:12.011Z"
   },
   {
    "duration": 41075,
    "start_time": "2021-06-11T08:13:18.538Z"
   },
   {
    "duration": 9,
    "start_time": "2021-06-11T08:13:59.616Z"
   },
   {
    "duration": 5,
    "start_time": "2021-06-11T08:13:59.628Z"
   },
   {
    "duration": 2460,
    "start_time": "2021-06-11T08:13:59.635Z"
   },
   {
    "duration": 75,
    "start_time": "2021-06-11T08:14:02.098Z"
   },
   {
    "duration": 31717,
    "start_time": "2021-06-11T08:14:02.175Z"
   },
   {
    "duration": 10,
    "start_time": "2021-06-11T08:14:33.895Z"
   },
   {
    "duration": 32,
    "start_time": "2021-06-11T08:14:33.909Z"
   },
   {
    "duration": 462,
    "start_time": "2021-06-11T08:55:55.747Z"
   },
   {
    "duration": 1682,
    "start_time": "2021-06-11T08:56:01.685Z"
   },
   {
    "duration": 64,
    "start_time": "2021-06-11T08:56:03.370Z"
   },
   {
    "duration": 8,
    "start_time": "2021-06-11T08:56:03.438Z"
   },
   {
    "duration": 5,
    "start_time": "2021-06-11T08:56:03.449Z"
   },
   {
    "duration": 18,
    "start_time": "2021-06-11T08:56:03.456Z"
   },
   {
    "duration": 49,
    "start_time": "2021-06-11T08:56:03.476Z"
   },
   {
    "duration": 26,
    "start_time": "2021-06-11T08:56:03.831Z"
   },
   {
    "duration": 422,
    "start_time": "2021-06-11T08:56:04.013Z"
   },
   {
    "duration": 592,
    "start_time": "2021-06-11T08:56:04.599Z"
   },
   {
    "duration": 19,
    "start_time": "2021-06-11T08:56:05.570Z"
   },
   {
    "duration": 16,
    "start_time": "2021-06-11T08:56:06.138Z"
   },
   {
    "duration": 245,
    "start_time": "2021-06-11T08:56:06.508Z"
   },
   {
    "duration": 14,
    "start_time": "2021-06-11T08:56:06.756Z"
   },
   {
    "duration": 11,
    "start_time": "2021-06-11T08:56:06.858Z"
   },
   {
    "duration": 42468,
    "start_time": "2021-06-11T08:56:07.384Z"
   },
   {
    "duration": 7,
    "start_time": "2021-06-11T08:56:49.854Z"
   },
   {
    "duration": 6,
    "start_time": "2021-06-11T08:56:49.865Z"
   },
   {
    "duration": 2551,
    "start_time": "2021-06-11T08:56:49.875Z"
   },
   {
    "duration": 67,
    "start_time": "2021-06-11T08:56:52.429Z"
   },
   {
    "duration": 23963,
    "start_time": "2021-06-11T08:56:52.499Z"
   },
   {
    "duration": 10,
    "start_time": "2021-06-11T08:57:16.464Z"
   },
   {
    "duration": 18,
    "start_time": "2021-06-11T08:57:16.478Z"
   },
   {
    "duration": 21380,
    "start_time": "2021-06-11T08:57:16.499Z"
   },
   {
    "duration": 425,
    "start_time": "2021-06-11T08:57:37.881Z"
   },
   {
    "duration": -997,
    "start_time": "2021-06-11T08:57:39.306Z"
   },
   {
    "duration": -1002,
    "start_time": "2021-06-11T08:57:39.312Z"
   },
   {
    "duration": -1005,
    "start_time": "2021-06-11T08:57:39.316Z"
   },
   {
    "duration": -1007,
    "start_time": "2021-06-11T08:57:39.319Z"
   },
   {
    "duration": -1011,
    "start_time": "2021-06-11T08:57:39.325Z"
   },
   {
    "duration": -1012,
    "start_time": "2021-06-11T08:57:39.327Z"
   },
   {
    "duration": -1013,
    "start_time": "2021-06-11T08:57:39.330Z"
   },
   {
    "duration": -1013,
    "start_time": "2021-06-11T08:57:39.331Z"
   },
   {
    "duration": -1013,
    "start_time": "2021-06-11T08:57:39.333Z"
   },
   {
    "duration": 31387,
    "start_time": "2021-06-11T09:08:57.611Z"
   },
   {
    "duration": 6,
    "start_time": "2021-06-11T09:09:29.001Z"
   },
   {
    "duration": 26845,
    "start_time": "2021-06-11T09:10:14.332Z"
   },
   {
    "duration": 22,
    "start_time": "2021-06-11T09:16:16.068Z"
   },
   {
    "duration": 42128,
    "start_time": "2021-06-11T09:17:05.353Z"
   },
   {
    "duration": 44687,
    "start_time": "2021-06-11T09:17:47.483Z"
   },
   {
    "duration": 7,
    "start_time": "2021-06-11T09:18:32.173Z"
   },
   {
    "duration": 33,
    "start_time": "2021-06-11T09:18:32.182Z"
   },
   {
    "duration": 281796,
    "start_time": "2021-06-11T09:28:58.034Z"
   },
   {
    "duration": 333092,
    "start_time": "2021-06-11T09:33:39.833Z"
   },
   {
    "duration": 7,
    "start_time": "2021-06-11T09:39:12.928Z"
   },
   {
    "duration": 93,
    "start_time": "2021-06-11T09:39:12.937Z"
   },
   {
    "duration": 5,
    "start_time": "2021-06-11T09:40:55.466Z"
   },
   {
    "duration": 18,
    "start_time": "2021-06-11T09:40:56.262Z"
   },
   {
    "duration": 22,
    "start_time": "2021-06-11T09:40:57.062Z"
   },
   {
    "duration": 5,
    "start_time": "2021-06-11T09:40:57.611Z"
   },
   {
    "duration": 5,
    "start_time": "2021-06-11T09:41:02.061Z"
   },
   {
    "duration": 6,
    "start_time": "2021-06-11T09:41:03.269Z"
   },
   {
    "duration": 5,
    "start_time": "2021-06-11T09:41:05.578Z"
   },
   {
    "duration": 1613,
    "start_time": "2021-06-11T09:42:38.422Z"
   },
   {
    "duration": 66,
    "start_time": "2021-06-11T09:42:40.037Z"
   },
   {
    "duration": 8,
    "start_time": "2021-06-11T09:42:40.105Z"
   },
   {
    "duration": 5,
    "start_time": "2021-06-11T09:42:40.558Z"
   },
   {
    "duration": 5,
    "start_time": "2021-06-11T09:42:40.847Z"
   },
   {
    "duration": 11,
    "start_time": "2021-06-11T09:42:41.138Z"
   },
   {
    "duration": 26,
    "start_time": "2021-06-11T09:42:41.669Z"
   },
   {
    "duration": 436,
    "start_time": "2021-06-11T09:42:41.928Z"
   },
   {
    "duration": 596,
    "start_time": "2021-06-11T09:42:42.388Z"
   },
   {
    "duration": 19,
    "start_time": "2021-06-11T09:42:46.150Z"
   },
   {
    "duration": 15,
    "start_time": "2021-06-11T09:42:46.614Z"
   },
   {
    "duration": 240,
    "start_time": "2021-06-11T09:42:47.137Z"
   },
   {
    "duration": 13,
    "start_time": "2021-06-11T09:42:47.380Z"
   },
   {
    "duration": 10,
    "start_time": "2021-06-11T09:42:47.638Z"
   },
   {
    "duration": 44232,
    "start_time": "2021-06-11T09:42:48.159Z"
   },
   {
    "duration": 7,
    "start_time": "2021-06-11T09:43:32.394Z"
   },
   {
    "duration": 25,
    "start_time": "2021-06-11T09:43:32.405Z"
   },
   {
    "duration": 2322,
    "start_time": "2021-06-11T09:43:32.434Z"
   },
   {
    "duration": 77,
    "start_time": "2021-06-11T09:43:34.759Z"
   },
   {
    "duration": 25491,
    "start_time": "2021-06-11T09:43:34.839Z"
   },
   {
    "duration": 10,
    "start_time": "2021-06-11T09:44:00.332Z"
   },
   {
    "duration": 11,
    "start_time": "2021-06-11T09:44:00.345Z"
   },
   {
    "duration": 1567575,
    "start_time": "2021-06-11T09:44:00.359Z"
   },
   {
    "duration": 439,
    "start_time": "2021-06-11T10:15:08.317Z"
   },
   {
    "duration": 1609,
    "start_time": "2021-06-11T10:15:38.729Z"
   },
   {
    "duration": 63,
    "start_time": "2021-06-11T10:15:40.340Z"
   },
   {
    "duration": 19,
    "start_time": "2021-06-11T10:15:40.406Z"
   },
   {
    "duration": 5,
    "start_time": "2021-06-11T10:15:40.428Z"
   },
   {
    "duration": 4,
    "start_time": "2021-06-11T10:15:40.633Z"
   },
   {
    "duration": 11,
    "start_time": "2021-06-11T10:15:40.867Z"
   },
   {
    "duration": 24,
    "start_time": "2021-06-11T10:15:41.306Z"
   },
   {
    "duration": 430,
    "start_time": "2021-06-11T10:15:41.544Z"
   },
   {
    "duration": 588,
    "start_time": "2021-06-11T10:15:42.042Z"
   },
   {
    "duration": 19,
    "start_time": "2021-06-11T10:15:43.272Z"
   },
   {
    "duration": 15,
    "start_time": "2021-06-11T10:15:43.752Z"
   },
   {
    "duration": 245,
    "start_time": "2021-06-11T10:15:44.217Z"
   },
   {
    "duration": 16,
    "start_time": "2021-06-11T10:15:44.466Z"
   },
   {
    "duration": 12,
    "start_time": "2021-06-11T10:15:44.818Z"
   },
   {
    "duration": 45135,
    "start_time": "2021-06-11T10:15:45.605Z"
   },
   {
    "duration": 6,
    "start_time": "2021-06-11T10:16:30.743Z"
   },
   {
    "duration": 15,
    "start_time": "2021-06-11T10:16:30.752Z"
   },
   {
    "duration": 2393,
    "start_time": "2021-06-11T10:16:30.770Z"
   },
   {
    "duration": 79,
    "start_time": "2021-06-11T10:16:33.165Z"
   },
   {
    "duration": 31058,
    "start_time": "2021-06-11T10:16:33.246Z"
   },
   {
    "duration": 11,
    "start_time": "2021-06-11T10:17:04.306Z"
   },
   {
    "duration": 30,
    "start_time": "2021-06-11T10:17:04.321Z"
   },
   {
    "duration": 117675,
    "start_time": "2021-06-11T10:17:04.354Z"
   },
   {
    "duration": 76663,
    "start_time": "2021-06-11T10:19:02.032Z"
   },
   {
    "duration": 7,
    "start_time": "2021-06-11T10:20:18.697Z"
   },
   {
    "duration": 32,
    "start_time": "2021-06-11T10:20:18.706Z"
   },
   {
    "duration": 5,
    "start_time": "2021-06-11T10:20:18.740Z"
   },
   {
    "duration": 77,
    "start_time": "2021-06-11T10:20:18.748Z"
   },
   {
    "duration": 12,
    "start_time": "2021-06-11T10:20:18.828Z"
   },
   {
    "duration": 17,
    "start_time": "2021-06-11T10:20:18.842Z"
   },
   {
    "duration": 23,
    "start_time": "2021-06-11T10:20:18.861Z"
   },
   {
    "duration": 25,
    "start_time": "2021-06-11T10:20:18.887Z"
   },
   {
    "duration": 12,
    "start_time": "2021-06-11T10:20:18.925Z"
   },
   {
    "duration": 1560,
    "start_time": "2021-06-11T10:27:02.666Z"
   },
   {
    "duration": 63,
    "start_time": "2021-06-11T10:27:04.229Z"
   },
   {
    "duration": 9,
    "start_time": "2021-06-11T10:27:04.295Z"
   },
   {
    "duration": 22,
    "start_time": "2021-06-11T10:27:04.306Z"
   },
   {
    "duration": 12,
    "start_time": "2021-06-11T10:27:04.330Z"
   },
   {
    "duration": 15,
    "start_time": "2021-06-11T10:27:04.344Z"
   },
   {
    "duration": 26,
    "start_time": "2021-06-11T10:27:04.362Z"
   },
   {
    "duration": 457,
    "start_time": "2021-06-11T10:27:04.393Z"
   },
   {
    "duration": 682,
    "start_time": "2021-06-11T10:27:04.854Z"
   },
   {
    "duration": 21,
    "start_time": "2021-06-11T10:27:05.539Z"
   },
   {
    "duration": 18,
    "start_time": "2021-06-11T10:27:05.563Z"
   },
   {
    "duration": 278,
    "start_time": "2021-06-11T10:27:05.583Z"
   },
   {
    "duration": 15,
    "start_time": "2021-06-11T10:27:05.863Z"
   },
   {
    "duration": 12,
    "start_time": "2021-06-11T10:27:05.881Z"
   },
   {
    "duration": 43757,
    "start_time": "2021-06-11T10:27:05.896Z"
   },
   {
    "duration": 6,
    "start_time": "2021-06-11T10:27:49.656Z"
   },
   {
    "duration": 8,
    "start_time": "2021-06-11T10:27:49.665Z"
   },
   {
    "duration": 2380,
    "start_time": "2021-06-11T10:27:49.676Z"
   },
   {
    "duration": 77,
    "start_time": "2021-06-11T10:27:52.059Z"
   },
   {
    "duration": 23229,
    "start_time": "2021-06-11T10:27:52.138Z"
   },
   {
    "duration": 9,
    "start_time": "2021-06-11T10:28:15.369Z"
   },
   {
    "duration": 14,
    "start_time": "2021-06-11T10:28:15.380Z"
   },
   {
    "duration": 54029,
    "start_time": "2021-06-11T10:28:15.399Z"
   },
   {
    "duration": 67360,
    "start_time": "2021-06-11T10:29:09.431Z"
   },
   {
    "duration": 7,
    "start_time": "2021-06-11T10:30:16.793Z"
   },
   {
    "duration": 33,
    "start_time": "2021-06-11T10:30:16.803Z"
   },
   {
    "duration": 5,
    "start_time": "2021-06-11T10:30:16.839Z"
   },
   {
    "duration": 20,
    "start_time": "2021-06-11T10:30:16.847Z"
   },
   {
    "duration": 63,
    "start_time": "2021-06-11T10:30:16.869Z"
   },
   {
    "duration": 5,
    "start_time": "2021-06-11T10:30:16.935Z"
   },
   {
    "duration": 11,
    "start_time": "2021-06-11T10:30:16.943Z"
   },
   {
    "duration": 10,
    "start_time": "2021-06-11T10:30:16.956Z"
   },
   {
    "duration": 7,
    "start_time": "2021-06-11T10:30:16.969Z"
   },
   {
    "duration": 1649,
    "start_time": "2021-06-11T10:32:11.295Z"
   },
   {
    "duration": 64,
    "start_time": "2021-06-11T10:32:12.946Z"
   },
   {
    "duration": 12,
    "start_time": "2021-06-11T10:32:13.013Z"
   },
   {
    "duration": 4,
    "start_time": "2021-06-11T10:32:13.028Z"
   },
   {
    "duration": 7,
    "start_time": "2021-06-11T10:32:13.034Z"
   },
   {
    "duration": 15,
    "start_time": "2021-06-11T10:32:13.043Z"
   },
   {
    "duration": 25,
    "start_time": "2021-06-11T10:32:13.387Z"
   },
   {
    "duration": 447,
    "start_time": "2021-06-11T10:32:13.592Z"
   },
   {
    "duration": 577,
    "start_time": "2021-06-11T10:32:14.041Z"
   },
   {
    "duration": 18,
    "start_time": "2021-06-11T10:32:14.928Z"
   },
   {
    "duration": 15,
    "start_time": "2021-06-11T10:32:15.319Z"
   },
   {
    "duration": 242,
    "start_time": "2021-06-11T10:32:15.711Z"
   },
   {
    "duration": 14,
    "start_time": "2021-06-11T10:32:15.956Z"
   },
   {
    "duration": 10,
    "start_time": "2021-06-11T10:32:16.114Z"
   },
   {
    "duration": 43751,
    "start_time": "2021-06-11T10:32:16.709Z"
   },
   {
    "duration": 6,
    "start_time": "2021-06-11T10:33:00.462Z"
   },
   {
    "duration": 18,
    "start_time": "2021-06-11T10:33:00.470Z"
   },
   {
    "duration": 2567,
    "start_time": "2021-06-11T10:33:00.491Z"
   },
   {
    "duration": 81,
    "start_time": "2021-06-11T10:33:03.060Z"
   },
   {
    "duration": 21518,
    "start_time": "2021-06-11T10:33:03.143Z"
   },
   {
    "duration": 13,
    "start_time": "2021-06-11T10:33:24.664Z"
   },
   {
    "duration": 11,
    "start_time": "2021-06-11T10:33:24.680Z"
   },
   {
    "duration": 83134,
    "start_time": "2021-06-11T10:33:24.695Z"
   },
   {
    "duration": 101501,
    "start_time": "2021-06-11T10:34:47.832Z"
   },
   {
    "duration": 7,
    "start_time": "2021-06-11T10:36:29.335Z"
   },
   {
    "duration": 87,
    "start_time": "2021-06-11T10:36:29.344Z"
   },
   {
    "duration": 6,
    "start_time": "2021-06-11T10:36:29.434Z"
   },
   {
    "duration": 24,
    "start_time": "2021-06-11T10:36:29.442Z"
   },
   {
    "duration": 10,
    "start_time": "2021-06-11T10:36:29.469Z"
   },
   {
    "duration": 46,
    "start_time": "2021-06-11T10:36:29.482Z"
   },
   {
    "duration": 7,
    "start_time": "2021-06-11T10:36:29.530Z"
   },
   {
    "duration": 10,
    "start_time": "2021-06-11T10:36:29.539Z"
   },
   {
    "duration": 12,
    "start_time": "2021-06-11T10:36:29.551Z"
   },
   {
    "duration": 1956,
    "start_time": "2021-06-12T05:00:41.910Z"
   },
   {
    "duration": 96,
    "start_time": "2021-06-12T05:00:43.869Z"
   },
   {
    "duration": 12,
    "start_time": "2021-06-12T05:00:43.969Z"
   },
   {
    "duration": 5,
    "start_time": "2021-06-12T05:01:46.751Z"
   },
   {
    "duration": 6,
    "start_time": "2021-06-12T05:01:47.205Z"
   },
   {
    "duration": 11,
    "start_time": "2021-06-12T05:01:47.461Z"
   },
   {
    "duration": 35,
    "start_time": "2021-06-12T05:01:51.641Z"
   },
   {
    "duration": 452,
    "start_time": "2021-06-12T05:01:52.798Z"
   },
   {
    "duration": 579,
    "start_time": "2021-06-12T05:01:54.422Z"
   },
   {
    "duration": 6,
    "start_time": "2021-06-12T05:04:11.220Z"
   },
   {
    "duration": 18,
    "start_time": "2021-06-12T05:04:18.758Z"
   },
   {
    "duration": 16,
    "start_time": "2021-06-12T05:04:19.629Z"
   },
   {
    "duration": 306,
    "start_time": "2021-06-12T05:04:25.706Z"
   },
   {
    "duration": 20,
    "start_time": "2021-06-12T05:04:26.478Z"
   },
   {
    "duration": 14,
    "start_time": "2021-06-12T05:04:26.846Z"
   },
   {
    "duration": 51213,
    "start_time": "2021-06-12T05:04:27.242Z"
   },
   {
    "duration": 7,
    "start_time": "2021-06-12T05:05:18.458Z"
   },
   {
    "duration": 17,
    "start_time": "2021-06-12T05:05:18.468Z"
   },
   {
    "duration": 2677,
    "start_time": "2021-06-12T05:05:18.488Z"
   },
   {
    "duration": 87,
    "start_time": "2021-06-12T05:05:21.167Z"
   },
   {
    "duration": 29532,
    "start_time": "2021-06-12T05:05:21.257Z"
   },
   {
    "duration": 12,
    "start_time": "2021-06-12T05:05:50.791Z"
   },
   {
    "duration": 13,
    "start_time": "2021-06-12T05:05:50.808Z"
   },
   {
    "duration": 84311,
    "start_time": "2021-06-12T05:05:50.823Z"
   },
   {
    "duration": 102322,
    "start_time": "2021-06-12T05:07:15.137Z"
   },
   {
    "duration": 7,
    "start_time": "2021-06-12T05:08:57.461Z"
   },
   {
    "duration": 66,
    "start_time": "2021-06-12T05:08:57.470Z"
   },
   {
    "duration": 6,
    "start_time": "2021-06-12T05:08:57.541Z"
   },
   {
    "duration": 24,
    "start_time": "2021-06-12T05:08:57.550Z"
   },
   {
    "duration": 61,
    "start_time": "2021-06-12T05:08:57.577Z"
   },
   {
    "duration": 6,
    "start_time": "2021-06-12T05:08:57.640Z"
   },
   {
    "duration": 15,
    "start_time": "2021-06-12T05:08:57.649Z"
   },
   {
    "duration": 7,
    "start_time": "2021-06-12T05:08:57.666Z"
   },
   {
    "duration": 8,
    "start_time": "2021-06-12T05:08:57.675Z"
   },
   {
    "duration": 23,
    "start_time": "2021-06-12T05:12:19.639Z"
   },
   {
    "duration": 8,
    "start_time": "2021-06-12T05:16:33.206Z"
   },
   {
    "duration": 23,
    "start_time": "2021-06-12T05:24:20.145Z"
   },
   {
    "duration": 8,
    "start_time": "2021-06-12T05:25:15.304Z"
   },
   {
    "duration": 23,
    "start_time": "2021-06-12T05:26:27.039Z"
   },
   {
    "duration": 8,
    "start_time": "2021-06-12T05:26:35.889Z"
   },
   {
    "duration": 426,
    "start_time": "2021-06-12T05:30:30.795Z"
   },
   {
    "duration": 5,
    "start_time": "2021-06-12T05:30:47.188Z"
   },
   {
    "duration": 14,
    "start_time": "2021-06-12T05:30:53.586Z"
   },
   {
    "duration": 19,
    "start_time": "2021-06-12T05:31:58.627Z"
   },
   {
    "duration": 10,
    "start_time": "2021-06-12T05:31:59.317Z"
   },
   {
    "duration": 6,
    "start_time": "2021-06-12T05:31:59.929Z"
   },
   {
    "duration": 19,
    "start_time": "2021-06-12T05:32:10.714Z"
   },
   {
    "duration": 10,
    "start_time": "2021-06-12T05:32:11.195Z"
   },
   {
    "duration": 6,
    "start_time": "2021-06-12T05:32:11.610Z"
   },
   {
    "duration": 317,
    "start_time": "2021-06-12T17:50:41.963Z"
   },
   {
    "duration": 1475,
    "start_time": "2021-06-12T17:58:15.865Z"
   },
   {
    "duration": 62,
    "start_time": "2021-06-12T17:58:17.398Z"
   },
   {
    "duration": 8,
    "start_time": "2021-06-12T17:58:18.649Z"
   },
   {
    "duration": 5,
    "start_time": "2021-06-12T17:58:22.705Z"
   },
   {
    "duration": 4,
    "start_time": "2021-06-12T17:58:23.210Z"
   },
   {
    "duration": 10,
    "start_time": "2021-06-12T17:58:23.729Z"
   },
   {
    "duration": 21,
    "start_time": "2021-06-12T17:58:26.025Z"
   },
   {
    "duration": 349,
    "start_time": "2021-06-12T17:58:28.970Z"
   },
   {
    "duration": 358,
    "start_time": "2021-06-12T17:58:41.186Z"
   },
   {
    "duration": 12,
    "start_time": "2021-06-12T18:33:36.638Z"
   },
   {
    "duration": 263,
    "start_time": "2021-06-12T18:33:37.417Z"
   },
   {
    "duration": 10,
    "start_time": "2021-06-12T18:34:13.347Z"
   },
   {
    "duration": 370,
    "start_time": "2021-06-12T18:34:15.510Z"
   },
   {
    "duration": 1252,
    "start_time": "2021-06-12T18:35:06.922Z"
   },
   {
    "duration": 17,
    "start_time": "2021-06-12T18:38:03.337Z"
   },
   {
    "duration": 404,
    "start_time": "2021-06-12T18:38:06.001Z"
   },
   {
    "duration": 14,
    "start_time": "2021-06-12T18:38:15.841Z"
   },
   {
    "duration": 252,
    "start_time": "2021-06-12T18:38:24.787Z"
   },
   {
    "duration": 258,
    "start_time": "2021-06-12T18:38:44.253Z"
   },
   {
    "duration": 273,
    "start_time": "2021-06-12T18:38:53.015Z"
   },
   {
    "duration": 18,
    "start_time": "2021-06-12T18:38:59.271Z"
   },
   {
    "duration": 422,
    "start_time": "2021-06-12T18:39:00.584Z"
   },
   {
    "duration": 475,
    "start_time": "2021-06-12T18:39:02.928Z"
   },
   {
    "duration": 1436,
    "start_time": "2021-06-12T18:39:56.170Z"
   },
   {
    "duration": 64,
    "start_time": "2021-06-12T18:39:58.001Z"
   },
   {
    "duration": 10,
    "start_time": "2021-06-12T18:39:58.446Z"
   },
   {
    "duration": 4,
    "start_time": "2021-06-12T18:40:01.698Z"
   },
   {
    "duration": 5,
    "start_time": "2021-06-12T18:40:02.126Z"
   },
   {
    "duration": 11,
    "start_time": "2021-06-12T18:40:02.615Z"
   },
   {
    "duration": 17,
    "start_time": "2021-06-12T18:40:03.801Z"
   },
   {
    "duration": 429,
    "start_time": "2021-06-12T18:40:07.093Z"
   },
   {
    "duration": 409,
    "start_time": "2021-06-12T18:40:11.059Z"
   },
   {
    "duration": 20,
    "start_time": "2021-06-12T18:40:38.969Z"
   },
   {
    "duration": 744,
    "start_time": "2021-06-12T18:40:39.995Z"
   },
   {
    "duration": 13,
    "start_time": "2021-06-12T18:41:17.740Z"
   },
   {
    "duration": 257,
    "start_time": "2021-06-12T18:41:18.438Z"
   },
   {
    "duration": 13,
    "start_time": "2021-06-12T18:41:26.834Z"
   },
   {
    "duration": 249,
    "start_time": "2021-06-12T18:41:27.458Z"
   },
   {
    "duration": 13,
    "start_time": "2021-06-12T18:41:44.270Z"
   },
   {
    "duration": 569,
    "start_time": "2021-06-12T18:41:44.843Z"
   },
   {
    "duration": 13,
    "start_time": "2021-06-12T18:41:58.946Z"
   },
   {
    "duration": 276,
    "start_time": "2021-06-12T18:41:59.407Z"
   },
   {
    "duration": 245,
    "start_time": "2021-06-12T18:42:42.893Z"
   },
   {
    "duration": 239,
    "start_time": "2021-06-12T18:43:04.131Z"
   },
   {
    "duration": 11,
    "start_time": "2021-06-12T18:43:48.128Z"
   },
   {
    "duration": 536,
    "start_time": "2021-06-12T18:43:48.936Z"
   },
   {
    "duration": 12,
    "start_time": "2021-06-12T18:44:01.988Z"
   },
   {
    "duration": 275,
    "start_time": "2021-06-12T18:44:02.522Z"
   },
   {
    "duration": 11,
    "start_time": "2021-06-12T18:44:31.642Z"
   },
   {
    "duration": 248,
    "start_time": "2021-06-12T18:44:32.422Z"
   },
   {
    "duration": 12,
    "start_time": "2021-06-12T18:44:39.000Z"
   },
   {
    "duration": 459,
    "start_time": "2021-06-12T18:44:39.431Z"
   },
   {
    "duration": 522,
    "start_time": "2021-06-12T18:45:13.691Z"
   },
   {
    "duration": 12,
    "start_time": "2021-06-12T18:45:25.971Z"
   },
   {
    "duration": 267,
    "start_time": "2021-06-12T18:45:26.471Z"
   },
   {
    "duration": 274,
    "start_time": "2021-06-12T18:46:19.138Z"
   },
   {
    "duration": 272,
    "start_time": "2021-06-12T18:46:22.393Z"
   },
   {
    "duration": 11,
    "start_time": "2021-06-12T18:46:29.014Z"
   },
   {
    "duration": 462,
    "start_time": "2021-06-12T18:46:30.472Z"
   },
   {
    "duration": 9,
    "start_time": "2021-06-12T18:47:24.846Z"
   },
   {
    "duration": 448,
    "start_time": "2021-06-12T18:47:25.380Z"
   },
   {
    "duration": 12,
    "start_time": "2021-06-12T18:47:33.613Z"
   },
   {
    "duration": 904,
    "start_time": "2021-06-12T18:47:34.089Z"
   },
   {
    "duration": 10,
    "start_time": "2021-06-12T18:47:40.540Z"
   },
   {
    "duration": 257,
    "start_time": "2021-06-12T18:47:40.938Z"
   },
   {
    "duration": 11,
    "start_time": "2021-06-12T18:47:48.304Z"
   },
   {
    "duration": 249,
    "start_time": "2021-06-12T18:47:48.731Z"
   },
   {
    "duration": 9,
    "start_time": "2021-06-12T18:48:12.828Z"
   },
   {
    "duration": 267,
    "start_time": "2021-06-12T18:48:13.335Z"
   },
   {
    "duration": 255,
    "start_time": "2021-06-12T18:48:20.923Z"
   },
   {
    "duration": 9,
    "start_time": "2021-06-12T18:48:23.893Z"
   },
   {
    "duration": 252,
    "start_time": "2021-06-12T18:48:24.364Z"
   },
   {
    "duration": 5,
    "start_time": "2021-06-12T18:48:29.779Z"
   },
   {
    "duration": 57,
    "start_time": "2021-06-12T18:48:30.444Z"
   },
   {
    "duration": 9,
    "start_time": "2021-06-12T18:48:30.692Z"
   },
   {
    "duration": 5,
    "start_time": "2021-06-12T18:48:32.207Z"
   },
   {
    "duration": 5,
    "start_time": "2021-06-12T18:48:32.471Z"
   },
   {
    "duration": 10,
    "start_time": "2021-06-12T18:48:32.757Z"
   },
   {
    "duration": 16,
    "start_time": "2021-06-12T18:48:33.316Z"
   },
   {
    "duration": 374,
    "start_time": "2021-06-12T18:48:34.180Z"
   },
   {
    "duration": 10,
    "start_time": "2021-06-12T18:48:35.502Z"
   },
   {
    "duration": 565,
    "start_time": "2021-06-12T18:48:35.854Z"
   },
   {
    "duration": 1477,
    "start_time": "2021-06-12T18:49:30.825Z"
   },
   {
    "duration": 62,
    "start_time": "2021-06-12T18:49:32.304Z"
   },
   {
    "duration": 8,
    "start_time": "2021-06-12T18:49:32.369Z"
   },
   {
    "duration": 5,
    "start_time": "2021-06-12T18:49:34.072Z"
   },
   {
    "duration": 5,
    "start_time": "2021-06-12T18:49:34.416Z"
   },
   {
    "duration": 11,
    "start_time": "2021-06-12T18:49:34.789Z"
   },
   {
    "duration": 16,
    "start_time": "2021-06-12T18:49:35.657Z"
   },
   {
    "duration": 377,
    "start_time": "2021-06-12T18:49:36.825Z"
   },
   {
    "duration": 14,
    "start_time": "2021-06-12T18:49:38.315Z"
   },
   {
    "duration": 501,
    "start_time": "2021-06-12T18:49:38.794Z"
   },
   {
    "duration": 404,
    "start_time": "2021-06-12T18:49:42.146Z"
   },
   {
    "duration": 258,
    "start_time": "2021-06-12T18:49:56.237Z"
   },
   {
    "duration": 485,
    "start_time": "2021-06-12T18:50:14.600Z"
   },
   {
    "duration": 516,
    "start_time": "2021-06-12T18:50:29.902Z"
   },
   {
    "duration": 476,
    "start_time": "2021-06-12T18:50:43.011Z"
   },
   {
    "duration": 275,
    "start_time": "2021-06-12T18:51:41.007Z"
   },
   {
    "duration": 274,
    "start_time": "2021-06-12T18:51:54.852Z"
   },
   {
    "duration": 568,
    "start_time": "2021-06-12T18:52:00.318Z"
   },
   {
    "duration": 457,
    "start_time": "2021-06-12T18:52:13.399Z"
   },
   {
    "duration": 266,
    "start_time": "2021-06-12T18:52:42.831Z"
   },
   {
    "duration": 470,
    "start_time": "2021-06-12T18:52:57.625Z"
   },
   {
    "duration": 268,
    "start_time": "2021-06-12T18:52:59.929Z"
   },
   {
    "duration": 250,
    "start_time": "2021-06-12T18:53:08.436Z"
   },
   {
    "duration": 266,
    "start_time": "2021-06-12T18:53:20.188Z"
   },
   {
    "duration": 18,
    "start_time": "2021-06-12T18:55:06.457Z"
   },
   {
    "duration": 22,
    "start_time": "2021-06-12T18:55:08.130Z"
   },
   {
    "duration": 13,
    "start_time": "2021-06-12T18:55:09.055Z"
   },
   {
    "duration": 13,
    "start_time": "2021-06-12T18:55:09.863Z"
   },
   {
    "duration": 6,
    "start_time": "2021-06-12T18:55:11.567Z"
   },
   {
    "duration": 256,
    "start_time": "2021-06-12T18:55:13.055Z"
   },
   {
    "duration": 1439,
    "start_time": "2021-06-12T18:59:42.097Z"
   },
   {
    "duration": 62,
    "start_time": "2021-06-12T18:59:44.640Z"
   },
   {
    "duration": 9,
    "start_time": "2021-06-12T18:59:45.429Z"
   },
   {
    "duration": 4,
    "start_time": "2021-06-12T18:59:47.776Z"
   },
   {
    "duration": 5,
    "start_time": "2021-06-12T18:59:48.318Z"
   },
   {
    "duration": 10,
    "start_time": "2021-06-12T18:59:48.769Z"
   },
   {
    "duration": 17,
    "start_time": "2021-06-12T18:59:49.943Z"
   },
   {
    "duration": 365,
    "start_time": "2021-06-12T18:59:52.333Z"
   },
   {
    "duration": 14,
    "start_time": "2021-06-12T18:59:54.102Z"
   },
   {
    "duration": 500,
    "start_time": "2021-06-12T18:59:55.181Z"
   },
   {
    "duration": 446,
    "start_time": "2021-06-12T18:59:58.227Z"
   },
   {
    "duration": 1448,
    "start_time": "2021-06-12T19:00:41.545Z"
   },
   {
    "duration": 60,
    "start_time": "2021-06-12T19:00:44.340Z"
   },
   {
    "duration": 8,
    "start_time": "2021-06-12T19:00:45.359Z"
   },
   {
    "duration": 4,
    "start_time": "2021-06-12T19:00:48.203Z"
   },
   {
    "duration": 5,
    "start_time": "2021-06-12T19:00:49.297Z"
   },
   {
    "duration": 10,
    "start_time": "2021-06-12T19:00:50.403Z"
   },
   {
    "duration": 17,
    "start_time": "2021-06-12T19:00:51.955Z"
   },
   {
    "duration": 373,
    "start_time": "2021-06-12T19:00:54.410Z"
   },
   {
    "duration": 14,
    "start_time": "2021-06-12T19:00:56.777Z"
   },
   {
    "duration": 504,
    "start_time": "2021-06-12T19:00:58.580Z"
   },
   {
    "duration": 470,
    "start_time": "2021-06-12T19:01:01.202Z"
   },
   {
    "duration": 397,
    "start_time": "2021-06-12T19:01:04.869Z"
   },
   {
    "duration": 270,
    "start_time": "2021-06-12T19:01:14.594Z"
   },
   {
    "duration": 546,
    "start_time": "2021-06-12T19:01:34.163Z"
   },
   {
    "duration": 1473,
    "start_time": "2021-06-12T19:01:58.921Z"
   },
   {
    "duration": 62,
    "start_time": "2021-06-12T19:02:00.396Z"
   },
   {
    "duration": 8,
    "start_time": "2021-06-12T19:02:00.460Z"
   },
   {
    "duration": 4,
    "start_time": "2021-06-12T19:02:04.613Z"
   },
   {
    "duration": 4,
    "start_time": "2021-06-12T19:02:04.933Z"
   },
   {
    "duration": 11,
    "start_time": "2021-06-12T19:02:05.298Z"
   },
   {
    "duration": 17,
    "start_time": "2021-06-12T19:02:06.354Z"
   },
   {
    "duration": 351,
    "start_time": "2021-06-12T19:02:08.178Z"
   },
   {
    "duration": 14,
    "start_time": "2021-06-12T19:02:09.795Z"
   },
   {
    "duration": 483,
    "start_time": "2021-06-12T19:02:10.296Z"
   },
   {
    "duration": 523,
    "start_time": "2021-06-12T19:02:11.879Z"
   },
   {
    "duration": 433,
    "start_time": "2021-06-12T19:04:38.010Z"
   },
   {
    "duration": 552,
    "start_time": "2021-06-12T19:04:44.931Z"
   },
   {
    "duration": 439,
    "start_time": "2021-06-12T19:06:44.564Z"
   },
   {
    "duration": 476,
    "start_time": "2021-06-12T19:08:26.409Z"
   },
   {
    "duration": 18,
    "start_time": "2021-06-12T19:08:48.482Z"
   },
   {
    "duration": 21,
    "start_time": "2021-06-12T19:08:50.363Z"
   },
   {
    "duration": 14,
    "start_time": "2021-06-12T19:08:54.221Z"
   },
   {
    "duration": 20,
    "start_time": "2021-06-12T19:08:56.437Z"
   },
   {
    "duration": 7,
    "start_time": "2021-06-12T19:08:56.860Z"
   },
   {
    "duration": 28,
    "start_time": "2021-06-12T19:09:05.973Z"
   },
   {
    "duration": 10,
    "start_time": "2021-06-12T19:09:07.349Z"
   },
   {
    "duration": 9,
    "start_time": "2021-06-12T19:09:10.454Z"
   },
   {
    "duration": 5654,
    "start_time": "2021-06-12T19:09:17.879Z"
   },
   {
    "duration": 6,
    "start_time": "2021-06-12T19:09:23.535Z"
   },
   {
    "duration": 48112,
    "start_time": "2021-06-12T19:10:03.594Z"
   },
   {
    "duration": -74,
    "start_time": "2021-06-12T19:10:51.782Z"
   },
   {
    "duration": 1630,
    "start_time": "2021-06-12T19:11:22.988Z"
   },
   {
    "duration": 63,
    "start_time": "2021-06-12T19:11:24.621Z"
   },
   {
    "duration": 11,
    "start_time": "2021-06-12T19:11:24.904Z"
   },
   {
    "duration": 5,
    "start_time": "2021-06-12T19:11:27.442Z"
   },
   {
    "duration": 6,
    "start_time": "2021-06-12T19:11:27.811Z"
   },
   {
    "duration": 14,
    "start_time": "2021-06-12T19:11:28.366Z"
   },
   {
    "duration": 18,
    "start_time": "2021-06-12T19:11:29.349Z"
   },
   {
    "duration": 438,
    "start_time": "2021-06-12T19:11:31.395Z"
   },
   {
    "duration": 15,
    "start_time": "2021-06-12T19:11:33.187Z"
   },
   {
    "duration": 532,
    "start_time": "2021-06-12T19:11:34.596Z"
   },
   {
    "duration": 514,
    "start_time": "2021-06-12T19:11:36.493Z"
   },
   {
    "duration": 19,
    "start_time": "2021-06-12T19:11:40.720Z"
   },
   {
    "duration": 25,
    "start_time": "2021-06-12T19:11:42.255Z"
   },
   {
    "duration": 86,
    "start_time": "2021-06-12T19:11:44.846Z"
   },
   {
    "duration": 24,
    "start_time": "2021-06-12T19:11:46.320Z"
   },
   {
    "duration": 9,
    "start_time": "2021-06-12T19:11:47.115Z"
   },
   {
    "duration": 31,
    "start_time": "2021-06-12T19:11:59.427Z"
   },
   {
    "duration": 9,
    "start_time": "2021-06-12T19:12:02.505Z"
   },
   {
    "duration": 8,
    "start_time": "2021-06-12T19:12:09.631Z"
   },
   {
    "duration": 265067,
    "start_time": "2021-06-12T19:12:12.371Z"
   },
   {
    "duration": 17,
    "start_time": "2021-06-12T19:16:37.441Z"
   },
   {
    "duration": 320903,
    "start_time": "2021-06-12T19:24:24.010Z"
   },
   {
    "duration": 7,
    "start_time": "2021-06-12T19:29:45.277Z"
   },
   {
    "duration": 6,
    "start_time": "2021-06-12T19:29:45.287Z"
   },
   {
    "duration": 442,
    "start_time": "2021-06-12T19:29:45.296Z"
   },
   {
    "duration": 35,
    "start_time": "2021-06-12T19:29:45.741Z"
   },
   {
    "duration": 29096,
    "start_time": "2021-06-12T19:29:45.779Z"
   },
   {
    "duration": 13,
    "start_time": "2021-06-12T19:30:14.878Z"
   },
   {
    "duration": 16,
    "start_time": "2021-06-12T19:30:14.894Z"
   },
   {
    "duration": 61745,
    "start_time": "2021-06-12T19:30:14.914Z"
   },
   {
    "duration": -46,
    "start_time": "2021-06-12T19:31:16.708Z"
   },
   {
    "duration": -48,
    "start_time": "2021-06-12T19:31:16.712Z"
   },
   {
    "duration": -48,
    "start_time": "2021-06-12T19:31:16.714Z"
   },
   {
    "duration": -48,
    "start_time": "2021-06-12T19:31:16.716Z"
   },
   {
    "duration": -53,
    "start_time": "2021-06-12T19:31:16.722Z"
   },
   {
    "duration": -54,
    "start_time": "2021-06-12T19:31:16.725Z"
   },
   {
    "duration": 62545,
    "start_time": "2021-06-12T19:32:32.089Z"
   },
   {
    "duration": 7,
    "start_time": "2021-06-12T19:33:34.637Z"
   },
   {
    "duration": 1650,
    "start_time": "2021-06-13T07:16:57.231Z"
   },
   {
    "duration": 63,
    "start_time": "2021-06-13T07:16:58.884Z"
   },
   {
    "duration": 17,
    "start_time": "2021-06-13T07:16:58.950Z"
   },
   {
    "duration": 6,
    "start_time": "2021-06-13T07:17:00.176Z"
   },
   {
    "duration": 5,
    "start_time": "2021-06-13T07:17:00.416Z"
   },
   {
    "duration": 11,
    "start_time": "2021-06-13T07:17:00.648Z"
   },
   {
    "duration": 18,
    "start_time": "2021-06-13T07:17:01.394Z"
   },
   {
    "duration": 402,
    "start_time": "2021-06-13T07:17:02.456Z"
   },
   {
    "duration": 15,
    "start_time": "2021-06-13T07:17:03.480Z"
   },
   {
    "duration": 565,
    "start_time": "2021-06-13T07:17:03.799Z"
   },
   {
    "duration": 527,
    "start_time": "2021-06-13T07:17:04.592Z"
   },
   {
    "duration": 18,
    "start_time": "2021-06-13T07:17:11.759Z"
   },
   {
    "duration": 23,
    "start_time": "2021-06-13T07:17:13.632Z"
   },
   {
    "duration": 91,
    "start_time": "2021-06-13T07:17:14.273Z"
   },
   {
    "duration": 22,
    "start_time": "2021-06-13T07:17:16.055Z"
   },
   {
    "duration": 8,
    "start_time": "2021-06-13T07:17:16.792Z"
   },
   {
    "duration": 33,
    "start_time": "2021-06-13T07:17:23.427Z"
   },
   {
    "duration": 9,
    "start_time": "2021-06-13T07:17:24.588Z"
   },
   {
    "duration": 9,
    "start_time": "2021-06-13T07:17:33.293Z"
   },
   {
    "duration": 9,
    "start_time": "2021-06-13T07:17:34.708Z"
   },
   {
    "duration": 117,
    "start_time": "2021-06-13T07:17:37.933Z"
   },
   {
    "duration": 474,
    "start_time": "2021-06-13T07:17:47.349Z"
   },
   {
    "duration": 367,
    "start_time": "2021-06-13T07:18:00.112Z"
   },
   {
    "duration": 7435527,
    "start_time": "2021-06-13T07:18:17.641Z"
   },
   {
    "duration": 1528,
    "start_time": "2021-06-13T09:23:39.828Z"
   },
   {
    "duration": 63,
    "start_time": "2021-06-13T09:23:41.359Z"
   },
   {
    "duration": 9,
    "start_time": "2021-06-13T09:23:41.425Z"
   },
   {
    "duration": 5,
    "start_time": "2021-06-13T09:23:43.598Z"
   },
   {
    "duration": 6,
    "start_time": "2021-06-13T09:23:43.940Z"
   },
   {
    "duration": 15,
    "start_time": "2021-06-13T09:23:44.356Z"
   },
   {
    "duration": 24,
    "start_time": "2021-06-13T09:23:45.197Z"
   },
   {
    "duration": 536,
    "start_time": "2021-06-13T09:23:47.485Z"
   },
   {
    "duration": 21,
    "start_time": "2021-06-13T09:23:49.372Z"
   },
   {
    "duration": 809,
    "start_time": "2021-06-13T09:23:49.756Z"
   },
   {
    "duration": 749,
    "start_time": "2021-06-13T09:23:51.757Z"
   },
   {
    "duration": 25,
    "start_time": "2021-06-13T09:23:56.206Z"
   },
   {
    "duration": 24,
    "start_time": "2021-06-13T09:23:57.390Z"
   },
   {
    "duration": 90,
    "start_time": "2021-06-13T09:23:58.073Z"
   },
   {
    "duration": 22,
    "start_time": "2021-06-13T09:23:58.879Z"
   },
   {
    "duration": 8,
    "start_time": "2021-06-13T09:23:59.566Z"
   },
   {
    "duration": 31,
    "start_time": "2021-06-13T09:24:02.015Z"
   },
   {
    "duration": 3,
    "start_time": "2021-06-13T09:24:03.015Z"
   },
   {
    "duration": 9,
    "start_time": "2021-06-13T09:24:05.023Z"
   },
   {
    "duration": 9,
    "start_time": "2021-06-13T09:24:05.775Z"
   },
   {
    "duration": 13408524,
    "start_time": "2021-06-13T09:24:11.257Z"
   },
   {
    "duration": -138,
    "start_time": "2021-06-13T13:07:39.922Z"
   },
   {
    "duration": 1713,
    "start_time": "2021-06-13T13:10:43.441Z"
   },
   {
    "duration": 65,
    "start_time": "2021-06-13T13:10:45.157Z"
   },
   {
    "duration": 9,
    "start_time": "2021-06-13T13:10:45.225Z"
   },
   {
    "duration": 6,
    "start_time": "2021-06-13T13:10:46.473Z"
   },
   {
    "duration": 5,
    "start_time": "2021-06-13T13:10:46.921Z"
   },
   {
    "duration": 12,
    "start_time": "2021-06-13T13:10:47.571Z"
   },
   {
    "duration": 21,
    "start_time": "2021-06-13T13:10:48.658Z"
   },
   {
    "duration": 454,
    "start_time": "2021-06-13T13:10:50.369Z"
   },
   {
    "duration": 20,
    "start_time": "2021-06-13T13:10:52.451Z"
   },
   {
    "duration": 812,
    "start_time": "2021-06-13T13:10:53.324Z"
   },
   {
    "duration": 534,
    "start_time": "2021-06-13T13:10:55.418Z"
   },
   {
    "duration": 18,
    "start_time": "2021-06-13T13:10:59.437Z"
   },
   {
    "duration": 30,
    "start_time": "2021-06-13T13:11:00.539Z"
   },
   {
    "duration": 102,
    "start_time": "2021-06-13T13:11:01.324Z"
   },
   {
    "duration": 24,
    "start_time": "2021-06-13T13:11:03.076Z"
   },
   {
    "duration": 7,
    "start_time": "2021-06-13T13:11:04.187Z"
   },
   {
    "duration": 33,
    "start_time": "2021-06-13T13:11:06.269Z"
   },
   {
    "duration": 3,
    "start_time": "2021-06-13T13:11:09.044Z"
   },
   {
    "duration": 9,
    "start_time": "2021-06-13T13:11:11.292Z"
   },
   {
    "duration": 10,
    "start_time": "2021-06-13T13:11:13.333Z"
   },
   {
    "duration": 1703051,
    "start_time": "2021-06-13T13:12:08.056Z"
   },
   {
    "duration": 8,
    "start_time": "2021-06-13T13:41:35.958Z"
   },
   {
    "duration": 12457,
    "start_time": "2021-06-13T13:44:21.417Z"
   },
   {
    "duration": 5435,
    "start_time": "2021-06-13T13:45:06.686Z"
   },
   {
    "duration": 12916,
    "start_time": "2021-06-13T13:45:44.525Z"
   },
   {
    "duration": 5552938,
    "start_time": "2021-06-13T13:46:02.861Z"
   },
   {
    "duration": 1737,
    "start_time": "2021-06-13T15:19:35.525Z"
   },
   {
    "duration": 64,
    "start_time": "2021-06-13T15:19:37.264Z"
   },
   {
    "duration": 9,
    "start_time": "2021-06-13T15:19:37.330Z"
   },
   {
    "duration": 5,
    "start_time": "2021-06-13T15:19:37.691Z"
   },
   {
    "duration": 4,
    "start_time": "2021-06-13T15:19:38.036Z"
   },
   {
    "duration": 24,
    "start_time": "2021-06-13T15:19:38.330Z"
   },
   {
    "duration": 19,
    "start_time": "2021-06-13T15:19:39.180Z"
   },
   {
    "duration": 560,
    "start_time": "2021-06-13T15:19:40.181Z"
   },
   {
    "duration": 21,
    "start_time": "2021-06-13T15:19:41.278Z"
   },
   {
    "duration": 767,
    "start_time": "2021-06-13T15:19:41.619Z"
   },
   {
    "duration": 560,
    "start_time": "2021-06-13T15:19:42.708Z"
   },
   {
    "duration": 12,
    "start_time": "2021-06-13T15:19:58.256Z"
   },
   {
    "duration": 93,
    "start_time": "2021-06-13T15:19:59.079Z"
   },
   {
    "duration": 15,
    "start_time": "2021-06-13T15:19:59.432Z"
   },
   {
    "duration": 10,
    "start_time": "2021-06-13T15:20:00.464Z"
   },
   {
    "duration": 27,
    "start_time": "2021-06-13T15:20:01.919Z"
   },
   {
    "duration": 2,
    "start_time": "2021-06-13T15:20:02.598Z"
   },
   {
    "duration": 10,
    "start_time": "2021-06-13T15:20:04.303Z"
   },
   {
    "duration": 10,
    "start_time": "2021-06-13T15:20:05.135Z"
   },
   {
    "duration": 302487,
    "start_time": "2021-06-13T15:20:08.882Z"
   },
   {
    "duration": 548915,
    "start_time": "2021-06-13T15:25:31.367Z"
   },
   {
    "duration": 95466,
    "start_time": "2021-06-13T15:35:04.729Z"
   },
   {
    "duration": 24975,
    "start_time": "2021-06-13T15:39:33.650Z"
   },
   {
    "duration": 113,
    "start_time": "2021-06-13T15:55:32.205Z"
   },
   {
    "duration": 107,
    "start_time": "2021-06-13T15:56:29.049Z"
   },
   {
    "duration": 1532685,
    "start_time": "2021-06-13T15:56:39.971Z"
   },
   {
    "duration": 250808,
    "start_time": "2021-06-13T16:23:18.927Z"
   },
   {
    "duration": 2049,
    "start_time": "2021-06-13T16:27:38.705Z"
   },
   {
    "duration": 91,
    "start_time": "2021-06-13T16:27:40.757Z"
   },
   {
    "duration": 12,
    "start_time": "2021-06-13T16:27:41.481Z"
   },
   {
    "duration": 6,
    "start_time": "2021-06-13T16:27:44.189Z"
   },
   {
    "duration": 6,
    "start_time": "2021-06-13T16:27:44.817Z"
   },
   {
    "duration": 15,
    "start_time": "2021-06-13T16:27:45.393Z"
   },
   {
    "duration": 36,
    "start_time": "2021-06-13T16:27:46.434Z"
   },
   {
    "duration": 508,
    "start_time": "2021-06-13T16:27:49.130Z"
   },
   {
    "duration": 22,
    "start_time": "2021-06-13T16:27:54.228Z"
   },
   {
    "duration": 820,
    "start_time": "2021-06-13T16:27:55.011Z"
   },
   {
    "duration": 781,
    "start_time": "2021-06-13T16:27:56.981Z"
   },
   {
    "duration": 18,
    "start_time": "2021-06-13T16:28:04.894Z"
   },
   {
    "duration": 125,
    "start_time": "2021-06-13T16:28:05.661Z"
   },
   {
    "duration": 14,
    "start_time": "2021-06-13T16:28:07.069Z"
   },
   {
    "duration": 8,
    "start_time": "2021-06-13T16:28:07.764Z"
   },
   {
    "duration": 28,
    "start_time": "2021-06-13T16:28:11.613Z"
   },
   {
    "duration": 3,
    "start_time": "2021-06-13T16:28:12.891Z"
   },
   {
    "duration": 9,
    "start_time": "2021-06-13T16:28:15.493Z"
   },
   {
    "duration": 10,
    "start_time": "2021-06-13T16:28:19.173Z"
   },
   {
    "duration": 63263,
    "start_time": "2021-06-13T16:28:48.022Z"
   },
   {
    "duration": 5,
    "start_time": "2021-06-13T16:30:31.503Z"
   },
   {
    "duration": 60,
    "start_time": "2021-06-13T16:30:32.415Z"
   },
   {
    "duration": 9,
    "start_time": "2021-06-13T16:30:32.759Z"
   },
   {
    "duration": 5,
    "start_time": "2021-06-13T16:30:34.476Z"
   },
   {
    "duration": 6,
    "start_time": "2021-06-13T16:30:34.732Z"
   },
   {
    "duration": 15,
    "start_time": "2021-06-13T16:30:35.034Z"
   },
   {
    "duration": 34,
    "start_time": "2021-06-13T16:30:35.578Z"
   },
   {
    "duration": 367,
    "start_time": "2021-06-13T16:30:36.678Z"
   },
   {
    "duration": 13,
    "start_time": "2021-06-13T16:30:38.130Z"
   },
   {
    "duration": 564,
    "start_time": "2021-06-13T16:30:38.494Z"
   },
   {
    "duration": 532,
    "start_time": "2021-06-13T16:30:40.177Z"
   },
   {
    "duration": 13,
    "start_time": "2021-06-13T16:30:43.489Z"
   },
   {
    "duration": 22,
    "start_time": "2021-06-13T16:30:44.283Z"
   },
   {
    "duration": 13,
    "start_time": "2021-06-13T16:30:44.819Z"
   },
   {
    "duration": 8,
    "start_time": "2021-06-13T16:30:45.571Z"
   },
   {
    "duration": 29,
    "start_time": "2021-06-13T16:31:09.994Z"
   },
   {
    "duration": 3,
    "start_time": "2021-06-13T16:31:10.295Z"
   },
   {
    "duration": 12,
    "start_time": "2021-06-13T16:31:11.846Z"
   },
   {
    "duration": 13,
    "start_time": "2021-06-13T16:31:12.253Z"
   },
   {
    "duration": 118844,
    "start_time": "2021-06-13T16:31:13.568Z"
   },
   {
    "duration": 1542,
    "start_time": "2021-06-13T16:33:18.420Z"
   },
   {
    "duration": 1571,
    "start_time": "2021-06-13T16:34:21.780Z"
   },
   {
    "duration": 67,
    "start_time": "2021-06-13T16:34:24.488Z"
   },
   {
    "duration": 9,
    "start_time": "2021-06-13T16:34:25.214Z"
   },
   {
    "duration": 5,
    "start_time": "2021-06-13T16:34:28.567Z"
   },
   {
    "duration": 6,
    "start_time": "2021-06-13T16:34:28.944Z"
   },
   {
    "duration": 16,
    "start_time": "2021-06-13T16:34:29.474Z"
   },
   {
    "duration": 38,
    "start_time": "2021-06-13T16:34:31.561Z"
   },
   {
    "duration": 1628,
    "start_time": "2021-06-13T16:34:50.445Z"
   },
   {
    "duration": 65,
    "start_time": "2021-06-13T16:34:52.075Z"
   },
   {
    "duration": 9,
    "start_time": "2021-06-13T16:34:52.438Z"
   },
   {
    "duration": 5,
    "start_time": "2021-06-13T16:34:54.901Z"
   },
   {
    "duration": 5,
    "start_time": "2021-06-13T16:34:55.300Z"
   },
   {
    "duration": 12,
    "start_time": "2021-06-13T16:34:55.732Z"
   },
   {
    "duration": 23,
    "start_time": "2021-06-13T16:34:56.933Z"
   },
   {
    "duration": 398,
    "start_time": "2021-06-13T16:34:59.621Z"
   },
   {
    "duration": 4,
    "start_time": "2021-06-13T16:35:02.189Z"
   },
   {
    "duration": 4,
    "start_time": "2021-06-13T16:35:02.647Z"
   },
   {
    "duration": 4,
    "start_time": "2021-06-13T16:35:03.645Z"
   },
   {
    "duration": 23,
    "start_time": "2021-06-13T16:35:18.376Z"
   },
   {
    "duration": 1559,
    "start_time": "2021-06-13T16:36:14.403Z"
   },
   {
    "duration": 70,
    "start_time": "2021-06-13T16:36:15.965Z"
   },
   {
    "duration": 12,
    "start_time": "2021-06-13T16:36:16.204Z"
   },
   {
    "duration": 5,
    "start_time": "2021-06-13T16:36:18.984Z"
   },
   {
    "duration": 5,
    "start_time": "2021-06-13T16:36:19.361Z"
   },
   {
    "duration": 13,
    "start_time": "2021-06-13T16:36:19.777Z"
   },
   {
    "duration": 27,
    "start_time": "2021-06-13T16:36:20.896Z"
   },
   {
    "duration": 398,
    "start_time": "2021-06-13T16:36:23.021Z"
   },
   {
    "duration": 4,
    "start_time": "2021-06-13T16:36:24.845Z"
   },
   {
    "duration": 3,
    "start_time": "2021-06-13T16:36:25.191Z"
   },
   {
    "duration": 3,
    "start_time": "2021-06-13T16:36:26.119Z"
   },
   {
    "duration": 12,
    "start_time": "2021-06-13T16:36:29.701Z"
   },
   {
    "duration": 11,
    "start_time": "2021-06-13T16:37:03.031Z"
   },
   {
    "duration": 14,
    "start_time": "2021-06-13T16:37:04.006Z"
   },
   {
    "duration": 11,
    "start_time": "2021-06-13T16:37:05.414Z"
   },
   {
    "duration": 7,
    "start_time": "2021-06-13T16:37:06.543Z"
   },
   {
    "duration": 65,
    "start_time": "2021-06-13T16:37:10.960Z"
   },
   {
    "duration": 3,
    "start_time": "2021-06-13T16:37:12.209Z"
   },
   {
    "duration": 11,
    "start_time": "2021-06-13T16:37:14.484Z"
   },
   {
    "duration": 10,
    "start_time": "2021-06-13T16:37:15.296Z"
   },
   {
    "duration": 8548,
    "start_time": "2021-06-13T16:37:17.456Z"
   },
   {
    "duration": 9055,
    "start_time": "2021-06-13T16:37:56.081Z"
   },
   {
    "duration": 1565,
    "start_time": "2021-06-13T16:38:48.699Z"
   },
   {
    "duration": 65,
    "start_time": "2021-06-13T16:38:50.266Z"
   },
   {
    "duration": 8,
    "start_time": "2021-06-13T16:38:50.334Z"
   },
   {
    "duration": 5,
    "start_time": "2021-06-13T16:38:52.454Z"
   },
   {
    "duration": 6,
    "start_time": "2021-06-13T16:38:52.857Z"
   },
   {
    "duration": 11,
    "start_time": "2021-06-13T16:38:53.522Z"
   },
   {
    "duration": 22,
    "start_time": "2021-06-13T16:38:54.642Z"
   },
   {
    "duration": 412,
    "start_time": "2021-06-13T16:38:56.707Z"
   },
   {
    "duration": 4,
    "start_time": "2021-06-13T16:38:58.562Z"
   },
   {
    "duration": 3,
    "start_time": "2021-06-13T16:38:58.862Z"
   },
   {
    "duration": 3,
    "start_time": "2021-06-13T16:38:59.659Z"
   },
   {
    "duration": 12,
    "start_time": "2021-06-13T16:39:03.492Z"
   },
   {
    "duration": 462,
    "start_time": "2021-06-13T16:39:11.489Z"
   },
   {
    "duration": 8569,
    "start_time": "2021-06-13T16:39:28.403Z"
   },
   {
    "duration": -62,
    "start_time": "2021-06-13T16:39:37.037Z"
   },
   {
    "duration": -63,
    "start_time": "2021-06-13T16:39:37.040Z"
   },
   {
    "duration": 18,
    "start_time": "2021-06-13T16:40:05.405Z"
   },
   {
    "duration": 13,
    "start_time": "2021-06-13T16:40:06.796Z"
   },
   {
    "duration": 7,
    "start_time": "2021-06-13T16:40:12.621Z"
   },
   {
    "duration": 87,
    "start_time": "2021-06-13T16:40:18.048Z"
   },
   {
    "duration": 4,
    "start_time": "2021-06-13T16:40:19.253Z"
   },
   {
    "duration": 14,
    "start_time": "2021-06-13T16:40:21.442Z"
   },
   {
    "duration": 13,
    "start_time": "2021-06-13T16:40:22.367Z"
   },
   {
    "duration": 332411,
    "start_time": "2021-06-13T16:40:39.760Z"
   },
   {
    "duration": 203064,
    "start_time": "2021-06-13T16:46:50.060Z"
   },
   {
    "duration": 6,
    "start_time": "2021-06-13T16:56:09.008Z"
   },
   {
    "duration": 5,
    "start_time": "2021-06-13T16:56:15.629Z"
   },
   {
    "duration": 164,
    "start_time": "2021-06-13T16:56:17.505Z"
   },
   {
    "duration": 337,
    "start_time": "2021-06-13T16:56:24.168Z"
   },
   {
    "duration": 319,
    "start_time": "2021-06-13T16:56:36.149Z"
   },
   {
    "duration": 11,
    "start_time": "2021-06-13T16:56:52.413Z"
   },
   {
    "duration": 11,
    "start_time": "2021-06-13T16:56:59.117Z"
   },
   {
    "duration": 19230,
    "start_time": "2021-06-13T16:57:00.924Z"
   },
   {
    "duration": 17,
    "start_time": "2021-06-13T16:57:24.264Z"
   },
   {
    "duration": 327,
    "start_time": "2021-06-13T17:00:57.899Z"
   },
   {
    "duration": 17304,
    "start_time": "2021-06-13T17:01:12.279Z"
   },
   {
    "duration": 395,
    "start_time": "2021-06-13T17:18:23.791Z"
   },
   {
    "duration": 396,
    "start_time": "2021-06-13T17:18:34.727Z"
   },
   {
    "duration": 1643,
    "start_time": "2021-06-13T17:18:40.643Z"
   },
   {
    "duration": 67,
    "start_time": "2021-06-13T17:18:42.289Z"
   },
   {
    "duration": 9,
    "start_time": "2021-06-13T17:18:42.364Z"
   },
   {
    "duration": 4,
    "start_time": "2021-06-13T17:18:42.778Z"
   },
   {
    "duration": 5,
    "start_time": "2021-06-13T17:18:43.115Z"
   },
   {
    "duration": 11,
    "start_time": "2021-06-13T17:18:43.372Z"
   },
   {
    "duration": 22,
    "start_time": "2021-06-13T17:18:43.915Z"
   },
   {
    "duration": 404,
    "start_time": "2021-06-13T17:18:44.704Z"
   },
   {
    "duration": 3,
    "start_time": "2021-06-13T17:18:45.410Z"
   },
   {
    "duration": 3,
    "start_time": "2021-06-13T17:18:45.657Z"
   },
   {
    "duration": 3,
    "start_time": "2021-06-13T17:18:46.139Z"
   },
   {
    "duration": 12,
    "start_time": "2021-06-13T17:18:48.203Z"
   },
   {
    "duration": 17,
    "start_time": "2021-06-13T17:18:48.467Z"
   },
   {
    "duration": 11,
    "start_time": "2021-06-13T17:18:49.019Z"
   },
   {
    "duration": 8,
    "start_time": "2021-06-13T17:18:49.371Z"
   },
   {
    "duration": 85,
    "start_time": "2021-06-13T17:18:50.435Z"
   },
   {
    "duration": 3,
    "start_time": "2021-06-13T17:18:50.707Z"
   },
   {
    "duration": 12,
    "start_time": "2021-06-13T17:18:51.861Z"
   },
   {
    "duration": 10,
    "start_time": "2021-06-13T17:18:52.102Z"
   },
   {
    "duration": 192794,
    "start_time": "2021-06-13T17:18:54.187Z"
   },
   {
    "duration": 7,
    "start_time": "2021-06-13T17:22:46.598Z"
   },
   {
    "duration": 7,
    "start_time": "2021-06-13T17:22:49.816Z"
   },
   {
    "duration": 184,
    "start_time": "2021-06-13T17:22:50.811Z"
   },
   {
    "duration": 14,
    "start_time": "2021-06-13T17:22:52.816Z"
   },
   {
    "duration": 18080,
    "start_time": "2021-06-13T17:22:58.042Z"
   },
   {
    "duration": 9,
    "start_time": "2021-06-13T17:23:16.125Z"
   },
   {
    "duration": 2106,
    "start_time": "2021-06-13T17:38:55.712Z"
   },
   {
    "duration": 89,
    "start_time": "2021-06-13T17:38:57.822Z"
   },
   {
    "duration": 11,
    "start_time": "2021-06-13T17:38:57.915Z"
   },
   {
    "duration": 6,
    "start_time": "2021-06-13T17:39:00.815Z"
   },
   {
    "duration": 5,
    "start_time": "2021-06-13T17:39:01.231Z"
   },
   {
    "duration": 11,
    "start_time": "2021-06-13T17:39:01.810Z"
   },
   {
    "duration": 23,
    "start_time": "2021-06-13T17:39:03.886Z"
   },
   {
    "duration": 392,
    "start_time": "2021-06-13T17:39:07.069Z"
   },
   {
    "duration": 1892,
    "start_time": "2021-06-13T17:39:15.025Z"
   },
   {
    "duration": 1789,
    "start_time": "2021-06-13T17:39:30.615Z"
   },
   {
    "duration": 1612,
    "start_time": "2021-06-13T17:39:53.722Z"
   },
   {
    "duration": 479,
    "start_time": "2021-06-13T17:40:12.092Z"
   },
   {
    "duration": 1431,
    "start_time": "2021-06-13T17:40:21.109Z"
   },
   {
    "duration": 12,
    "start_time": "2021-06-13T17:40:34.408Z"
   },
   {
    "duration": 128,
    "start_time": "2021-06-13T17:40:35.744Z"
   },
   {
    "duration": 13,
    "start_time": "2021-06-13T17:40:36.905Z"
   },
   {
    "duration": 7,
    "start_time": "2021-06-13T17:40:37.971Z"
   },
   {
    "duration": 83,
    "start_time": "2021-06-13T17:40:39.563Z"
   },
   {
    "duration": 3,
    "start_time": "2021-06-13T17:40:40.699Z"
   },
   {
    "duration": 13,
    "start_time": "2021-06-13T17:40:43.619Z"
   },
   {
    "duration": 13,
    "start_time": "2021-06-13T17:40:44.547Z"
   },
   {
    "duration": 189999,
    "start_time": "2021-06-13T17:40:46.467Z"
   },
   {
    "duration": 7,
    "start_time": "2021-06-13T17:43:56.469Z"
   },
   {
    "duration": 6,
    "start_time": "2021-06-13T17:43:56.479Z"
   },
   {
    "duration": 176,
    "start_time": "2021-06-13T17:43:56.487Z"
   },
   {
    "duration": 10,
    "start_time": "2021-06-13T17:43:56.666Z"
   },
   {
    "duration": 16877,
    "start_time": "2021-06-13T17:43:56.679Z"
   },
   {
    "duration": 10,
    "start_time": "2021-06-13T17:44:13.558Z"
   },
   {
    "duration": 9,
    "start_time": "2021-06-13T17:44:13.571Z"
   },
   {
    "duration": 18126,
    "start_time": "2021-06-13T17:44:13.583Z"
   },
   {
    "duration": 7,
    "start_time": "2021-06-13T17:44:31.712Z"
   },
   {
    "duration": 362,
    "start_time": "2021-06-13T17:44:31.722Z"
   },
   {
    "duration": 8,
    "start_time": "2021-06-13T17:45:07.526Z"
   },
   {
    "duration": 505583,
    "start_time": "2021-06-13T17:45:22.379Z"
   },
   {
    "duration": 18510,
    "start_time": "2021-06-13T17:53:47.964Z"
   },
   {
    "duration": 6,
    "start_time": "2021-06-13T17:54:06.477Z"
   },
   {
    "duration": 14,
    "start_time": "2021-06-13T17:54:06.485Z"
   },
   {
    "duration": 1579,
    "start_time": "2021-06-13T18:03:55.688Z"
   },
   {
    "duration": 64,
    "start_time": "2021-06-13T18:03:57.270Z"
   },
   {
    "duration": 8,
    "start_time": "2021-06-13T18:03:57.336Z"
   },
   {
    "duration": 5,
    "start_time": "2021-06-13T18:03:58.977Z"
   },
   {
    "duration": 5,
    "start_time": "2021-06-13T18:03:59.241Z"
   },
   {
    "duration": 11,
    "start_time": "2021-06-13T18:03:59.549Z"
   },
   {
    "duration": 33,
    "start_time": "2021-06-13T18:04:00.241Z"
   },
   {
    "duration": 527,
    "start_time": "2021-06-13T18:04:01.471Z"
   },
   {
    "duration": 2745,
    "start_time": "2021-06-13T18:04:02.461Z"
   },
   {
    "duration": 2393,
    "start_time": "2021-06-13T18:04:05.210Z"
   },
   {
    "duration": 2159,
    "start_time": "2021-06-13T18:04:07.607Z"
   },
   {
    "duration": 17,
    "start_time": "2021-06-13T18:04:11.334Z"
   },
   {
    "duration": 24,
    "start_time": "2021-06-13T18:04:11.978Z"
   },
   {
    "duration": 17,
    "start_time": "2021-06-13T18:04:13.087Z"
   },
   {
    "duration": 11,
    "start_time": "2021-06-13T18:04:15.464Z"
   },
   {
    "duration": 84,
    "start_time": "2021-06-13T18:04:17.824Z"
   },
   {
    "duration": 3,
    "start_time": "2021-06-13T18:04:18.626Z"
   },
   {
    "duration": 11,
    "start_time": "2021-06-13T18:04:20.880Z"
   },
   {
    "duration": 10,
    "start_time": "2021-06-13T18:04:22.226Z"
   },
   {
    "duration": 63411,
    "start_time": "2021-06-13T18:04:24.602Z"
   },
   {
    "duration": 6,
    "start_time": "2021-06-13T18:05:28.016Z"
   },
   {
    "duration": 7,
    "start_time": "2021-06-13T18:06:50.041Z"
   },
   {
    "duration": 6,
    "start_time": "2021-06-13T18:07:08.825Z"
   },
   {
    "duration": 1598,
    "start_time": "2021-06-13T18:09:05.180Z"
   },
   {
    "duration": 63,
    "start_time": "2021-06-13T18:09:06.781Z"
   },
   {
    "duration": 17,
    "start_time": "2021-06-13T18:09:06.847Z"
   },
   {
    "duration": 6,
    "start_time": "2021-06-13T18:09:08.325Z"
   },
   {
    "duration": 5,
    "start_time": "2021-06-13T18:09:08.745Z"
   },
   {
    "duration": 12,
    "start_time": "2021-06-13T18:09:09.131Z"
   },
   {
    "duration": 22,
    "start_time": "2021-06-13T18:09:09.972Z"
   },
   {
    "duration": 404,
    "start_time": "2021-06-13T18:09:11.404Z"
   },
   {
    "duration": 1832,
    "start_time": "2021-06-13T18:09:12.539Z"
   },
   {
    "duration": 1604,
    "start_time": "2021-06-13T18:09:14.374Z"
   },
   {
    "duration": 2097,
    "start_time": "2021-06-13T18:09:15.982Z"
   },
   {
    "duration": 16,
    "start_time": "2021-06-13T18:09:33.094Z"
   },
   {
    "duration": 18,
    "start_time": "2021-06-13T18:09:34.165Z"
   },
   {
    "duration": 12,
    "start_time": "2021-06-13T18:09:35.549Z"
   },
   {
    "duration": 8,
    "start_time": "2021-06-13T18:09:36.550Z"
   },
   {
    "duration": 88,
    "start_time": "2021-06-13T18:09:40.407Z"
   },
   {
    "duration": 4,
    "start_time": "2021-06-13T18:09:42.942Z"
   },
   {
    "duration": 11,
    "start_time": "2021-06-13T18:09:44.568Z"
   },
   {
    "duration": 10,
    "start_time": "2021-06-13T18:09:45.618Z"
   },
   {
    "duration": 85208,
    "start_time": "2021-06-13T18:09:48.088Z"
   },
   {
    "duration": 7,
    "start_time": "2021-06-13T18:11:13.298Z"
   },
   {
    "duration": 5,
    "start_time": "2021-06-13T18:11:23.727Z"
   },
   {
    "duration": 168,
    "start_time": "2021-06-13T18:11:25.525Z"
   },
   {
    "duration": 16957,
    "start_time": "2021-06-13T18:11:30.438Z"
   },
   {
    "duration": 8,
    "start_time": "2021-06-13T18:11:47.398Z"
   },
   {
    "duration": 431931,
    "start_time": "2021-06-13T18:11:47.409Z"
   },
   {
    "duration": 7,
    "start_time": "2021-06-13T18:18:59.343Z"
   },
   {
    "duration": 109870,
    "start_time": "2021-06-13T18:19:27.204Z"
   },
   {
    "duration": 407627,
    "start_time": "2021-06-13T18:21:33.038Z"
   },
   {
    "duration": -12,
    "start_time": "2021-06-13T18:28:20.680Z"
   },
   {
    "duration": 1641,
    "start_time": "2021-06-13T18:28:45.632Z"
   },
   {
    "duration": 66,
    "start_time": "2021-06-13T18:28:47.275Z"
   },
   {
    "duration": 19,
    "start_time": "2021-06-13T18:28:47.345Z"
   },
   {
    "duration": 5,
    "start_time": "2021-06-13T18:28:48.538Z"
   },
   {
    "duration": 5,
    "start_time": "2021-06-13T18:28:48.781Z"
   },
   {
    "duration": 14,
    "start_time": "2021-06-13T18:28:49.048Z"
   },
   {
    "duration": 24,
    "start_time": "2021-06-13T18:28:50.082Z"
   },
   {
    "duration": 400,
    "start_time": "2021-06-13T18:28:52.329Z"
   },
   {
    "duration": 1837,
    "start_time": "2021-06-13T18:28:58.327Z"
   },
   {
    "duration": 1530,
    "start_time": "2021-06-13T18:29:02.220Z"
   },
   {
    "duration": 1397,
    "start_time": "2021-06-13T18:29:25.214Z"
   },
   {
    "duration": 502,
    "start_time": "2021-06-13T18:30:21.654Z"
   },
   {
    "duration": 326,
    "start_time": "2021-06-13T18:31:34.098Z"
   },
   {
    "duration": 370,
    "start_time": "2021-06-13T18:31:40.274Z"
   },
   {
    "duration": 1389,
    "start_time": "2021-06-13T18:32:18.325Z"
   },
   {
    "duration": 12,
    "start_time": "2021-06-13T18:32:36.767Z"
   },
   {
    "duration": 17,
    "start_time": "2021-06-13T18:32:37.747Z"
   },
   {
    "duration": 12,
    "start_time": "2021-06-13T18:32:38.711Z"
   },
   {
    "duration": 8,
    "start_time": "2021-06-13T18:32:39.779Z"
   },
   {
    "duration": 84,
    "start_time": "2021-06-13T18:32:41.727Z"
   },
   {
    "duration": 4,
    "start_time": "2021-06-13T18:32:42.690Z"
   },
   {
    "duration": 15,
    "start_time": "2021-06-13T18:32:45.259Z"
   },
   {
    "duration": 13,
    "start_time": "2021-06-13T18:32:46.153Z"
   },
   {
    "duration": 92856,
    "start_time": "2021-06-13T18:32:48.486Z"
   },
   {
    "duration": 6,
    "start_time": "2021-06-13T18:37:18.959Z"
   },
   {
    "duration": 6,
    "start_time": "2021-06-13T18:37:29.537Z"
   },
   {
    "duration": 193,
    "start_time": "2021-06-13T18:37:30.904Z"
   },
   {
    "duration": 17032,
    "start_time": "2021-06-13T18:37:33.640Z"
   },
   {
    "duration": 15,
    "start_time": "2021-06-13T18:37:50.676Z"
   },
   {
    "duration": 374,
    "start_time": "2021-06-13T18:51:32.832Z"
   },
   {
    "duration": 1601,
    "start_time": "2021-06-13T18:51:45.482Z"
   },
   {
    "duration": 63,
    "start_time": "2021-06-13T18:51:47.086Z"
   },
   {
    "duration": 13,
    "start_time": "2021-06-13T18:51:47.152Z"
   },
   {
    "duration": 5,
    "start_time": "2021-06-13T18:51:47.879Z"
   },
   {
    "duration": 5,
    "start_time": "2021-06-13T18:51:48.112Z"
   },
   {
    "duration": 11,
    "start_time": "2021-06-13T18:51:48.355Z"
   },
   {
    "duration": 22,
    "start_time": "2021-06-13T18:51:48.829Z"
   },
   {
    "duration": 408,
    "start_time": "2021-06-13T18:51:49.809Z"
   },
   {
    "duration": 1857,
    "start_time": "2021-06-13T18:51:51.081Z"
   },
   {
    "duration": 1728,
    "start_time": "2021-06-13T18:51:52.941Z"
   },
   {
    "duration": 12,
    "start_time": "2021-06-13T18:52:16.707Z"
   },
   {
    "duration": 17,
    "start_time": "2021-06-13T18:52:17.041Z"
   },
   {
    "duration": 12,
    "start_time": "2021-06-13T18:52:17.523Z"
   },
   {
    "duration": 8,
    "start_time": "2021-06-13T18:52:17.883Z"
   },
   {
    "duration": 84,
    "start_time": "2021-06-13T18:52:18.896Z"
   },
   {
    "duration": 4,
    "start_time": "2021-06-13T18:52:19.178Z"
   },
   {
    "duration": 12,
    "start_time": "2021-06-13T18:52:20.801Z"
   },
   {
    "duration": 10,
    "start_time": "2021-06-13T18:52:21.188Z"
   },
   {
    "duration": 87868,
    "start_time": "2021-06-13T18:52:23.231Z"
   },
   {
    "duration": 9,
    "start_time": "2021-06-13T18:54:08.354Z"
   },
   {
    "duration": 1806,
    "start_time": "2021-06-13T18:54:37.861Z"
   },
   {
    "duration": 65,
    "start_time": "2021-06-13T18:54:39.669Z"
   },
   {
    "duration": 9,
    "start_time": "2021-06-13T18:54:39.736Z"
   },
   {
    "duration": 5,
    "start_time": "2021-06-13T18:54:42.288Z"
   },
   {
    "duration": 4,
    "start_time": "2021-06-13T18:54:42.567Z"
   },
   {
    "duration": 11,
    "start_time": "2021-06-13T18:54:42.852Z"
   },
   {
    "duration": 22,
    "start_time": "2021-06-13T18:54:43.608Z"
   },
   {
    "duration": 398,
    "start_time": "2021-06-13T18:54:44.896Z"
   },
   {
    "duration": 1842,
    "start_time": "2021-06-13T18:54:46.046Z"
   },
   {
    "duration": 1679,
    "start_time": "2021-06-13T18:54:55.766Z"
   },
   {
    "duration": 11,
    "start_time": "2021-06-13T18:55:05.025Z"
   },
   {
    "duration": 16,
    "start_time": "2021-06-13T18:55:05.664Z"
   },
   {
    "duration": 11,
    "start_time": "2021-06-13T18:55:06.064Z"
   },
   {
    "duration": 8,
    "start_time": "2021-06-13T18:55:06.463Z"
   },
   {
    "duration": 75,
    "start_time": "2021-06-13T18:55:08.235Z"
   },
   {
    "duration": 3,
    "start_time": "2021-06-13T18:55:08.715Z"
   },
   {
    "duration": 11,
    "start_time": "2021-06-13T18:55:10.475Z"
   },
   {
    "duration": 10,
    "start_time": "2021-06-13T18:55:10.859Z"
   },
   {
    "duration": 72506,
    "start_time": "2021-06-13T18:55:12.712Z"
   },
   {
    "duration": 8,
    "start_time": "2021-06-13T18:56:46.648Z"
   },
   {
    "duration": 6,
    "start_time": "2021-06-13T18:56:52.183Z"
   },
   {
    "duration": 186,
    "start_time": "2021-06-13T18:56:53.129Z"
   },
   {
    "duration": 16445,
    "start_time": "2021-06-13T18:56:56.076Z"
   },
   {
    "duration": 9,
    "start_time": "2021-06-13T18:57:12.524Z"
   },
   {
    "duration": 7,
    "start_time": "2021-06-14T10:26:01.888Z"
   },
   {
    "duration": 58,
    "start_time": "2021-06-14T10:26:03.339Z"
   },
   {
    "duration": 9,
    "start_time": "2021-06-14T10:26:03.994Z"
   },
   {
    "duration": 5,
    "start_time": "2021-06-14T10:26:06.003Z"
   },
   {
    "duration": 4,
    "start_time": "2021-06-14T10:26:06.349Z"
   },
   {
    "duration": 12,
    "start_time": "2021-06-14T10:26:06.917Z"
   },
   {
    "duration": 18,
    "start_time": "2021-06-14T10:26:09.374Z"
   },
   {
    "duration": 365,
    "start_time": "2021-06-14T10:26:11.270Z"
   },
   {
    "duration": 1488,
    "start_time": "2021-06-14T10:26:28.471Z"
   },
   {
    "duration": 65,
    "start_time": "2021-06-14T10:26:29.962Z"
   },
   {
    "duration": 8,
    "start_time": "2021-06-14T10:26:30.029Z"
   },
   {
    "duration": 6,
    "start_time": "2021-06-14T10:26:32.050Z"
   },
   {
    "duration": 5,
    "start_time": "2021-06-14T10:26:32.344Z"
   },
   {
    "duration": 11,
    "start_time": "2021-06-14T10:26:32.748Z"
   },
   {
    "duration": 20,
    "start_time": "2021-06-14T10:26:33.486Z"
   },
   {
    "duration": 375,
    "start_time": "2021-06-14T10:26:34.721Z"
   },
   {
    "duration": 1684,
    "start_time": "2021-06-14T10:26:35.933Z"
   },
   {
    "duration": 1314,
    "start_time": "2021-06-14T10:26:39.174Z"
   },
   {
    "duration": 10,
    "start_time": "2021-06-14T10:26:43.959Z"
   },
   {
    "duration": 16,
    "start_time": "2021-06-14T10:26:44.424Z"
   },
   {
    "duration": 12,
    "start_time": "2021-06-14T10:26:46.464Z"
   },
   {
    "duration": 8,
    "start_time": "2021-06-14T10:26:46.848Z"
   },
   {
    "duration": 69,
    "start_time": "2021-06-14T10:26:48.120Z"
   },
   {
    "duration": 3,
    "start_time": "2021-06-14T10:26:49.561Z"
   },
   {
    "duration": 11,
    "start_time": "2021-06-14T10:26:50.772Z"
   },
   {
    "duration": 4,
    "start_time": "2021-06-14T10:26:54.266Z"
   },
   {
    "duration": 3,
    "start_time": "2021-06-14T10:26:55.121Z"
   },
   {
    "duration": 4,
    "start_time": "2021-06-14T10:26:55.841Z"
   },
   {
    "duration": 5,
    "start_time": "2021-06-14T10:26:59.011Z"
   },
   {
    "duration": 139,
    "start_time": "2021-06-14T10:27:00.372Z"
   },
   {
    "duration": 18672,
    "start_time": "2021-06-14T10:27:06.794Z"
   },
   {
    "duration": 10,
    "start_time": "2021-06-14T10:27:25.469Z"
   },
   {
    "duration": 23996,
    "start_time": "2021-06-14T10:27:34.792Z"
   },
   {
    "duration": 14,
    "start_time": "2021-06-14T10:28:02.161Z"
   },
   {
    "duration": 5,
    "start_time": "2021-06-14T10:28:03.001Z"
   },
   {
    "duration": 4,
    "start_time": "2021-06-14T10:28:08.770Z"
   },
   {
    "duration": 5,
    "start_time": "2021-06-14T10:28:09.194Z"
   },
   {
    "duration": 6,
    "start_time": "2021-06-14T10:28:09.620Z"
   },
   {
    "duration": 893,
    "start_time": "2021-06-14T10:28:13.595Z"
   },
   {
    "duration": 1456,
    "start_time": "2021-06-14T10:30:52.582Z"
   },
   {
    "duration": 62,
    "start_time": "2021-06-14T10:30:56.436Z"
   },
   {
    "duration": 9,
    "start_time": "2021-06-14T10:30:56.977Z"
   },
   {
    "duration": 4,
    "start_time": "2021-06-14T10:30:58.713Z"
   },
   {
    "duration": 5,
    "start_time": "2021-06-14T10:30:59.098Z"
   },
   {
    "duration": 12,
    "start_time": "2021-06-14T10:30:59.434Z"
   },
   {
    "duration": 21,
    "start_time": "2021-06-14T10:31:00.330Z"
   },
   {
    "duration": 378,
    "start_time": "2021-06-14T10:31:01.470Z"
   },
   {
    "duration": 1773,
    "start_time": "2021-06-14T10:31:02.627Z"
   },
   {
    "duration": 1426,
    "start_time": "2021-06-14T10:31:11.262Z"
   },
   {
    "duration": 18,
    "start_time": "2021-06-14T10:31:16.538Z"
   },
   {
    "duration": 11,
    "start_time": "2021-06-14T10:31:17.791Z"
   },
   {
    "duration": 70,
    "start_time": "2021-06-14T10:31:30.459Z"
   },
   {
    "duration": 4,
    "start_time": "2021-06-14T10:31:31.752Z"
   },
   {
    "duration": 12,
    "start_time": "2021-06-14T10:31:34.129Z"
   },
   {
    "duration": 3,
    "start_time": "2021-06-14T10:31:37.371Z"
   },
   {
    "duration": 3,
    "start_time": "2021-06-14T10:31:38.832Z"
   },
   {
    "duration": 7,
    "start_time": "2021-06-14T10:31:38.839Z"
   },
   {
    "duration": 4,
    "start_time": "2021-06-14T10:31:57.876Z"
   },
   {
    "duration": 140,
    "start_time": "2021-06-14T10:32:07.227Z"
   },
   {
    "duration": 16453,
    "start_time": "2021-06-14T10:32:08.990Z"
   },
   {
    "duration": 8,
    "start_time": "2021-06-14T10:32:25.446Z"
   },
   {
    "duration": 4,
    "start_time": "2021-06-14T10:32:25.457Z"
   },
   {
    "duration": 9,
    "start_time": "2021-06-14T10:32:25.463Z"
   },
   {
    "duration": 23693,
    "start_time": "2021-06-14T10:32:25.475Z"
   },
   {
    "duration": 1502,
    "start_time": "2021-06-14T10:34:28.168Z"
   },
   {
    "duration": 63,
    "start_time": "2021-06-14T10:34:29.673Z"
   },
   {
    "duration": 9,
    "start_time": "2021-06-14T10:34:30.057Z"
   },
   {
    "duration": 5,
    "start_time": "2021-06-14T10:34:32.170Z"
   },
   {
    "duration": 6,
    "start_time": "2021-06-14T10:34:32.609Z"
   },
   {
    "duration": 12,
    "start_time": "2021-06-14T10:34:33.057Z"
   },
   {
    "duration": 22,
    "start_time": "2021-06-14T10:34:34.010Z"
   },
   {
    "duration": 427,
    "start_time": "2021-06-14T10:34:35.233Z"
   },
   {
    "duration": 1696,
    "start_time": "2021-06-14T10:34:36.556Z"
   },
   {
    "duration": 1349,
    "start_time": "2021-06-14T10:34:38.256Z"
   },
   {
    "duration": 18,
    "start_time": "2021-06-14T10:34:39.812Z"
   },
   {
    "duration": 70,
    "start_time": "2021-06-14T10:34:43.184Z"
   },
   {
    "duration": 4,
    "start_time": "2021-06-14T10:34:44.021Z"
   },
   {
    "duration": 10,
    "start_time": "2021-06-14T10:34:46.429Z"
   },
   {
    "duration": 11,
    "start_time": "2021-06-14T10:34:47.141Z"
   },
   {
    "duration": 4,
    "start_time": "2021-06-14T10:34:52.327Z"
   },
   {
    "duration": 3,
    "start_time": "2021-06-14T10:34:52.916Z"
   },
   {
    "duration": 4,
    "start_time": "2021-06-14T10:34:54.589Z"
   },
   {
    "duration": 140,
    "start_time": "2021-06-14T10:35:12.167Z"
   },
   {
    "duration": 16586,
    "start_time": "2021-06-14T10:35:13.257Z"
   },
   {
    "duration": 9,
    "start_time": "2021-06-14T10:35:29.845Z"
   },
   {
    "duration": 403,
    "start_time": "2021-06-14T10:35:56.153Z"
   },
   {
    "duration": 16,
    "start_time": "2021-06-14T10:36:03.036Z"
   },
   {
    "duration": 1416,
    "start_time": "2021-06-14T10:36:51.221Z"
   },
   {
    "duration": 62,
    "start_time": "2021-06-14T10:36:52.923Z"
   },
   {
    "duration": 9,
    "start_time": "2021-06-14T10:36:53.549Z"
   },
   {
    "duration": 6,
    "start_time": "2021-06-14T10:36:55.221Z"
   },
   {
    "duration": 6,
    "start_time": "2021-06-14T10:36:55.733Z"
   },
   {
    "duration": 11,
    "start_time": "2021-06-14T10:36:56.286Z"
   },
   {
    "duration": 21,
    "start_time": "2021-06-14T10:36:57.111Z"
   },
   {
    "duration": 347,
    "start_time": "2021-06-14T10:36:57.990Z"
   },
   {
    "duration": 1653,
    "start_time": "2021-06-14T10:36:58.951Z"
   },
   {
    "duration": 1314,
    "start_time": "2021-06-14T10:37:00.607Z"
   },
   {
    "duration": 15,
    "start_time": "2021-06-14T10:37:03.392Z"
   },
   {
    "duration": 41,
    "start_time": "2021-06-14T10:37:05.159Z"
   },
   {
    "duration": 4,
    "start_time": "2021-06-14T10:37:06.366Z"
   },
   {
    "duration": 12,
    "start_time": "2021-06-14T10:37:07.726Z"
   },
   {
    "duration": 11,
    "start_time": "2021-06-14T10:37:08.353Z"
   },
   {
    "duration": 4,
    "start_time": "2021-06-14T10:37:11.088Z"
   },
   {
    "duration": 4,
    "start_time": "2021-06-14T10:37:11.678Z"
   },
   {
    "duration": 3,
    "start_time": "2021-06-14T10:37:12.128Z"
   },
   {
    "duration": 77,
    "start_time": "2021-06-14T10:37:14.127Z"
   },
   {
    "duration": 18808,
    "start_time": "2021-06-14T10:37:15.568Z"
   },
   {
    "duration": 19,
    "start_time": "2021-06-14T10:37:34.379Z"
   },
   {
    "duration": 8,
    "start_time": "2021-06-14T10:37:34.401Z"
   },
   {
    "duration": 5,
    "start_time": "2021-06-14T10:37:34.412Z"
   },
   {
    "duration": 7,
    "start_time": "2021-06-14T10:37:34.420Z"
   },
   {
    "duration": 32954,
    "start_time": "2021-06-14T10:37:34.429Z"
   },
   {
    "duration": 3,
    "start_time": "2021-06-14T10:38:44.245Z"
   },
   {
    "duration": 3,
    "start_time": "2021-06-14T10:38:44.716Z"
   },
   {
    "duration": 18292,
    "start_time": "2021-06-14T10:38:45.996Z"
   },
   {
    "duration": 13,
    "start_time": "2021-06-14T10:39:04.291Z"
   },
   {
    "duration": 7,
    "start_time": "2021-06-14T10:39:04.308Z"
   },
   {
    "duration": 13,
    "start_time": "2021-06-14T10:39:04.318Z"
   },
   {
    "duration": 8,
    "start_time": "2021-06-14T10:39:04.333Z"
   },
   {
    "duration": 42,
    "start_time": "2021-06-14T10:39:04.344Z"
   },
   {
    "duration": 885,
    "start_time": "2021-06-14T10:39:16.603Z"
   },
   {
    "duration": 1476,
    "start_time": "2021-06-14T10:40:00.200Z"
   },
   {
    "duration": 66,
    "start_time": "2021-06-14T10:40:01.683Z"
   },
   {
    "duration": 9,
    "start_time": "2021-06-14T10:40:01.752Z"
   },
   {
    "duration": 18,
    "start_time": "2021-06-14T10:40:01.766Z"
   },
   {
    "duration": 31,
    "start_time": "2021-06-14T10:40:01.786Z"
   },
   {
    "duration": 28,
    "start_time": "2021-06-14T10:40:01.820Z"
   },
   {
    "duration": 64,
    "start_time": "2021-06-14T10:40:01.851Z"
   },
   {
    "duration": 439,
    "start_time": "2021-06-14T10:40:01.921Z"
   },
   {
    "duration": 1779,
    "start_time": "2021-06-14T10:40:02.366Z"
   },
   {
    "duration": 1454,
    "start_time": "2021-06-14T10:40:04.149Z"
   },
   {
    "duration": 17,
    "start_time": "2021-06-14T10:40:05.607Z"
   },
   {
    "duration": 71,
    "start_time": "2021-06-14T10:40:05.628Z"
   },
   {
    "duration": 3,
    "start_time": "2021-06-14T10:40:05.703Z"
   },
   {
    "duration": 11,
    "start_time": "2021-06-14T10:40:06.563Z"
   },
   {
    "duration": 10,
    "start_time": "2021-06-14T10:40:06.915Z"
   },
   {
    "duration": 3,
    "start_time": "2021-06-14T10:40:07.660Z"
   },
   {
    "duration": 3,
    "start_time": "2021-06-14T10:40:08.443Z"
   },
   {
    "duration": 4,
    "start_time": "2021-06-14T10:40:08.882Z"
   },
   {
    "duration": 72,
    "start_time": "2021-06-14T10:40:10.460Z"
   },
   {
    "duration": 12664,
    "start_time": "2021-06-14T10:40:11.099Z"
   },
   {
    "duration": 11,
    "start_time": "2021-06-14T10:40:23.765Z"
   },
   {
    "duration": 7,
    "start_time": "2021-06-14T10:40:23.780Z"
   },
   {
    "duration": 6,
    "start_time": "2021-06-14T10:40:23.790Z"
   },
   {
    "duration": 6,
    "start_time": "2021-06-14T10:40:23.798Z"
   },
   {
    "duration": 18173,
    "start_time": "2021-06-14T10:40:23.807Z"
   },
   {
    "duration": 13,
    "start_time": "2021-06-14T10:40:41.982Z"
   },
   {
    "duration": 7,
    "start_time": "2021-06-14T10:40:41.998Z"
   },
   {
    "duration": 7,
    "start_time": "2021-06-14T10:40:42.008Z"
   },
   {
    "duration": 7,
    "start_time": "2021-06-14T10:40:42.017Z"
   },
   {
    "duration": 8,
    "start_time": "2021-06-14T10:40:42.026Z"
   },
   {
    "duration": 974,
    "start_time": "2021-06-14T10:40:42.036Z"
   },
   {
    "duration": 902,
    "start_time": "2021-06-14T10:40:56.467Z"
   },
   {
    "duration": 903,
    "start_time": "2021-06-14T10:41:11.483Z"
   },
   {
    "duration": 924,
    "start_time": "2021-06-14T10:41:48.619Z"
   },
   {
    "duration": 978,
    "start_time": "2021-06-14T10:42:11.605Z"
   },
   {
    "duration": 974,
    "start_time": "2021-06-14T10:42:40.715Z"
   },
   {
    "duration": 936,
    "start_time": "2021-06-14T10:43:07.647Z"
   },
   {
    "duration": 1049,
    "start_time": "2021-06-14T10:43:40.113Z"
   },
   {
    "duration": 833,
    "start_time": "2021-06-14T10:44:20.399Z"
   },
   {
    "duration": 836,
    "start_time": "2021-06-14T10:44:41.660Z"
   },
   {
    "duration": 858,
    "start_time": "2021-06-14T10:44:53.533Z"
   },
   {
    "duration": 823,
    "start_time": "2021-06-14T10:45:08.591Z"
   },
   {
    "duration": 1504,
    "start_time": "2021-06-14T10:45:24.965Z"
   },
   {
    "duration": 62,
    "start_time": "2021-06-14T10:45:26.472Z"
   },
   {
    "duration": 8,
    "start_time": "2021-06-14T10:45:26.537Z"
   },
   {
    "duration": 5,
    "start_time": "2021-06-14T10:45:27.630Z"
   },
   {
    "duration": 5,
    "start_time": "2021-06-14T10:45:27.832Z"
   },
   {
    "duration": 11,
    "start_time": "2021-06-14T10:45:28.070Z"
   },
   {
    "duration": 23,
    "start_time": "2021-06-14T10:45:28.541Z"
   },
   {
    "duration": 439,
    "start_time": "2021-06-14T10:45:29.246Z"
   },
   {
    "duration": 1800,
    "start_time": "2021-06-14T10:45:31.736Z"
   },
   {
    "duration": 1386,
    "start_time": "2021-06-14T10:45:33.539Z"
   },
   {
    "duration": 16,
    "start_time": "2021-06-14T10:45:34.928Z"
   },
   {
    "duration": 61,
    "start_time": "2021-06-14T10:45:34.946Z"
   },
   {
    "duration": 3,
    "start_time": "2021-06-14T10:45:35.010Z"
   },
   {
    "duration": 10,
    "start_time": "2021-06-14T10:45:35.525Z"
   },
   {
    "duration": 9,
    "start_time": "2021-06-14T10:45:35.735Z"
   },
   {
    "duration": 3,
    "start_time": "2021-06-14T10:45:36.345Z"
   },
   {
    "duration": 4,
    "start_time": "2021-06-14T10:45:36.569Z"
   },
   {
    "duration": 4,
    "start_time": "2021-06-14T10:45:36.806Z"
   },
   {
    "duration": 72,
    "start_time": "2021-06-14T10:45:38.691Z"
   },
   {
    "duration": 13097,
    "start_time": "2021-06-14T10:45:38.766Z"
   },
   {
    "duration": 9,
    "start_time": "2021-06-14T10:45:51.867Z"
   },
   {
    "duration": 10,
    "start_time": "2021-06-14T10:45:51.879Z"
   },
   {
    "duration": 4,
    "start_time": "2021-06-14T10:45:51.892Z"
   },
   {
    "duration": 14,
    "start_time": "2021-06-14T10:45:51.899Z"
   },
   {
    "duration": 1519,
    "start_time": "2021-06-14T10:50:47.741Z"
   },
   {
    "duration": 69,
    "start_time": "2021-06-14T10:50:49.263Z"
   },
   {
    "duration": 10,
    "start_time": "2021-06-14T10:50:49.335Z"
   },
   {
    "duration": 5,
    "start_time": "2021-06-14T10:50:50.662Z"
   },
   {
    "duration": 5,
    "start_time": "2021-06-14T10:50:50.915Z"
   },
   {
    "duration": 11,
    "start_time": "2021-06-14T10:50:51.173Z"
   },
   {
    "duration": 23,
    "start_time": "2021-06-14T10:50:51.852Z"
   },
   {
    "duration": 390,
    "start_time": "2021-06-14T10:50:52.838Z"
   },
   {
    "duration": 1810,
    "start_time": "2021-06-14T10:50:53.901Z"
   },
   {
    "duration": 1495,
    "start_time": "2021-06-14T10:50:55.714Z"
   },
   {
    "duration": 15,
    "start_time": "2021-06-14T10:50:57.457Z"
   },
   {
    "duration": 59,
    "start_time": "2021-06-14T10:50:59.006Z"
   },
   {
    "duration": 3,
    "start_time": "2021-06-14T10:51:00.407Z"
   },
   {
    "duration": 11,
    "start_time": "2021-06-14T10:51:02.063Z"
   },
   {
    "duration": 10,
    "start_time": "2021-06-14T10:51:02.671Z"
   },
   {
    "duration": 4,
    "start_time": "2021-06-14T10:51:03.924Z"
   },
   {
    "duration": 4,
    "start_time": "2021-06-14T10:51:04.267Z"
   },
   {
    "duration": 4,
    "start_time": "2021-06-14T10:51:04.767Z"
   },
   {
    "duration": 73,
    "start_time": "2021-06-14T10:51:07.280Z"
   },
   {
    "duration": 12301,
    "start_time": "2021-06-14T10:51:11.006Z"
   },
   {
    "duration": 10,
    "start_time": "2021-06-14T10:51:23.309Z"
   },
   {
    "duration": 9,
    "start_time": "2021-06-14T10:51:23.322Z"
   },
   {
    "duration": 5,
    "start_time": "2021-06-14T10:51:29.876Z"
   },
   {
    "duration": 3,
    "start_time": "2021-06-14T10:51:30.275Z"
   },
   {
    "duration": 26092,
    "start_time": "2021-06-14T10:51:30.979Z"
   },
   {
    "duration": 12,
    "start_time": "2021-06-14T10:52:00.747Z"
   },
   {
    "duration": 7,
    "start_time": "2021-06-14T10:52:01.681Z"
   },
   {
    "duration": 4,
    "start_time": "2021-06-14T10:52:07.116Z"
   },
   {
    "duration": 5,
    "start_time": "2021-06-14T10:52:07.746Z"
   },
   {
    "duration": 6,
    "start_time": "2021-06-14T10:52:08.435Z"
   },
   {
    "duration": 835,
    "start_time": "2021-06-14T10:52:10.019Z"
   },
   {
    "duration": 846,
    "start_time": "2021-06-14T10:52:42.225Z"
   },
   {
    "duration": 914,
    "start_time": "2021-06-14T10:53:05.484Z"
   },
   {
    "duration": 886,
    "start_time": "2021-06-14T10:53:23.618Z"
   },
   {
    "duration": 929,
    "start_time": "2021-06-14T10:53:53.039Z"
   },
   {
    "duration": 885,
    "start_time": "2021-06-14T10:54:08.134Z"
   },
   {
    "duration": 901,
    "start_time": "2021-06-14T10:54:21.044Z"
   },
   {
    "duration": 998,
    "start_time": "2021-06-14T10:54:51.767Z"
   },
   {
    "duration": 1313,
    "start_time": "2021-06-14T10:56:24.940Z"
   },
   {
    "duration": 373,
    "start_time": "2021-06-14T10:56:45.143Z"
   },
   {
    "duration": 918,
    "start_time": "2021-06-14T10:57:07.291Z"
   }
  ],
  "kernelspec": {
   "display_name": "Python 3",
   "language": "python",
   "name": "python3"
  },
  "language_info": {
   "codemirror_mode": {
    "name": "ipython",
    "version": 3
   },
   "file_extension": ".py",
   "mimetype": "text/x-python",
   "name": "python",
   "nbconvert_exporter": "python",
   "pygments_lexer": "ipython3",
   "version": "3.8.5"
  },
  "toc": {
   "base_numbering": 1,
   "nav_menu": {},
   "number_sections": true,
   "sideBar": true,
   "skip_h1_title": true,
   "title_cell": "Содержание",
   "title_sidebar": "Contents",
   "toc_cell": true,
   "toc_position": {},
   "toc_section_display": true,
   "toc_window_display": false
  }
 },
 "nbformat": 4,
 "nbformat_minor": 2
}
