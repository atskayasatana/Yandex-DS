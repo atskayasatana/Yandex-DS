{
 "cells": [
  {
   "cell_type": "markdown",
   "metadata": {},
   "source": [
    "# Самостоятельный проект: \"Выбор локации для скважины\"\n"
   ]
  },
  {
   "cell_type": "markdown",
   "metadata": {},
   "source": [
    "### Содержание:\n",
    "\n",
    "1. [Цель работы](#target)\n",
    "\n",
    "2. [Загрузка и подготовка данных](#data_load)\n",
    "\n",
    "3. [Обучение и проверка модели](#regression)\n",
    "\n",
    "4. [Подготовка к расчету прибыли](#revenue_calculation)\n",
    "\n",
    "5. [Расчет прибыли и рисков(Bootstrap)](#bootstrap)\n"
   ]
  },
  {
   "cell_type": "markdown",
   "metadata": {},
   "source": [
    "### Цель работы:<a id=target> </a>\n",
    "Нам предоставлены пробы нефти в трёх регионах: в каждом 10 000 месторождений, где измерили качество нефти и объём её запасов. Необходимо построить модель машинного обучения, которая поможет определить регион, где добыча принесёт наибольшую прибыль. Возможную прибыль и риски нужно просчитать техникой *Bootstrap.*\n",
    "\n",
    "Шаги для выбора локации:\n",
    "\n",
    "- В избранном регионе ищут месторождения, для каждого определяют значения признаков;\n",
    "- Строят модель и оценивают объём запасов;\n",
    "- Выбирают месторождения с самым высокими оценками значений. Количество месторождений зависит от бюджета компании и стоимости разработки одной скважины;\n",
    "- Прибыль равна суммарной прибыли отобранных месторождений."
   ]
  },
  {
   "cell_type": "code",
   "execution_count": 1,
   "metadata": {},
   "outputs": [],
   "source": [
    "# основные библиотеки и функции\n",
    "import pandas as pd\n",
    "import numpy as np\n",
    "import seaborn as sns\n",
    "import matplotlib.pyplot as plt\n",
    "from statistics import mean\n",
    "\n",
    "from sklearn.linear_model import LinearRegression\n",
    "from sklearn.metrics import mean_squared_error\n",
    "from sklearn.preprocessing import StandardScaler\n",
    "from sklearn.model_selection import train_test_split\n",
    "from sklearn.preprocessing import PolynomialFeatures\n",
    "\n",
    "state = np.random.RandomState(12345)\n",
    "\n",
    "def display_info(data,label):\n",
    "    print(label)\n",
    "    display(data.describe())\n",
    "    print('Первые 5 строк:')\n",
    "    display(data.head())       \n",
    "    print('Матрица корреляции:')\n",
    "    matrix = np.triu(data.corr())\n",
    "    display(sns.heatmap(data.corr(), annot = True, vmin=-1, vmax=1, fmt='.2g', mask=matrix, cmap='coolwarm'))\n",
    "    \n",
    "\n",
    "def linear_regression_train(features_train, target_train, features_test, target_test, label):\n",
    "    \n",
    "    Region_Model=LinearRegression()\n",
    "    \n",
    "    Region_Model.fit(features_train,target_train)\n",
    "    \n",
    "    prediction_train=Region_Model.predict(features_train)\n",
    "    \n",
    "    prediction=pd.Series(data=Region_Model.predict(features_test),index=target_test.index)\n",
    "      \n",
    "    mse = mean_squared_error(target_test, prediction) \n",
    "    mse_train=mean_squared_error(target_train, prediction_train) \n",
    "    \n",
    "    rmse=mse**0.5\n",
    "    \n",
    "    rmse_train=mse_train**0.5\n",
    "    \n",
    "    pred_mean=prediction.mean()\n",
    "    \n",
    "    return pred_mean, rmse_train, rmse , prediction\n",
    "\n",
    "\n",
    "def draw_hist(forecast,hist_label):   \n",
    "    fcst=np.array(forecast)/10**9\n",
    "    mean=fcst.mean()\n",
    "    plt.hist(fcst,label=hist_label, bins=100, color='grey')\n",
    "    plt.legend(loc='upper right')   \n",
    "    plt.grid(True)\n",
    "    plt.xlabel=('Прибыль, млрд. руб.')\n",
    "    plt.ylabel=('Число скважин')\n",
    "    plt.axvline(x=mean, color='black')\n",
    "    plt.show()\n",
    "       \n",
    "\n",
    "def draw_hist_comparision(fact,forecast,hist_label): \n",
    "    \n",
    "    fcst=np.array(forecast)\n",
    "    fct=np.array(fact)\n",
    "    plt.hist(fcst, bins=100,alpha=0.5, label='Прогноз')\n",
    "    plt.xlabel=('Объемы добычи')\n",
    "    plt.ylabel=('Число скважин')\n",
    "    plt.hist(fct, bins=100,alpha=0.6, label='Факт')\n",
    "    plt.legend(loc='upper right')   \n",
    "    plt.grid(True)\n",
    "    plt.xlabel=('Объемы добычи')\n",
    "    plt.ylabel=('Число скважин')\n",
    "    plt.show()\n",
    "    \n",
    "    \n",
    "          \n",
    "    \n",
    "def target_revenue(prediction,target, points_count,bgt,barrel_price):\n",
    "    \n",
    "    reg_top=prediction.sort_values(ascending=False)\n",
    "    reg_top_target=target[reg_top.index][:200]\n",
    "    volume=reg_top_target.sum()\n",
    "    revenue_target=(volume*barrel_price*10**3)-bgt  \n",
    "    \n",
    "    return revenue_target,volume\n",
    "\n",
    "\n",
    "\n",
    "\n",
    "    \n",
    "def bootstrap_by_region(target, prediction,points_count,best_points_count,bgt,barrel_price): \n",
    "    \n",
    "    revenue=[]     \n",
    "    for i in range(1000):           \n",
    "        target_subsample = target.sample(n=points_count, random_state=state, replace=True)\n",
    "        pred_subsample = prediction[target_subsample.index]\n",
    "        res, vol=target_revenue(pred_subsample,target_subsample,best_points_count,bgt,barrel_price)\n",
    "        revenue.append(res)                        \n",
    "    return revenue\n",
    "\n",
    "\n",
    "def interval(revenue,percentage):\n",
    "    p=percentage/100\n",
    "    lower=(1-p)/2\n",
    "    upper=1-lower\n",
    "    lower_quantile=np.quantile(revenue,lower)\n",
    "    upper_quantile=np.quantile(revenue,upper)\n",
    "    return lower_quantile, upper_quantile\n",
    "\n",
    "\n"
   ]
  },
  {
   "cell_type": "markdown",
   "metadata": {},
   "source": [
    "##  Загрузка и подготовка данных<a name=data_load> </a>"
   ]
  },
  {
   "cell_type": "markdown",
   "metadata": {},
   "source": [
    "Загрузим данные о нефтянных месторождениях в трех регионах."
   ]
  },
  {
   "cell_type": "code",
   "execution_count": 2,
   "metadata": {},
   "outputs": [],
   "source": [
    "region_0=pd.read_csv('/datasets/geo_data_0.csv')\n",
    "region_1=pd.read_csv('/datasets/geo_data_1.csv')\n",
    "region_2=pd.read_csv('/datasets/geo_data_2.csv')"
   ]
  },
  {
   "cell_type": "markdown",
   "metadata": {},
   "source": [
    "Выведем информацию о данных:"
   ]
  },
  {
   "cell_type": "code",
   "execution_count": 3,
   "metadata": {},
   "outputs": [
    {
     "name": "stdout",
     "output_type": "stream",
     "text": [
      "Регион 0\n"
     ]
    },
    {
     "data": {
      "text/html": [
       "<div>\n",
       "<style scoped>\n",
       "    .dataframe tbody tr th:only-of-type {\n",
       "        vertical-align: middle;\n",
       "    }\n",
       "\n",
       "    .dataframe tbody tr th {\n",
       "        vertical-align: top;\n",
       "    }\n",
       "\n",
       "    .dataframe thead th {\n",
       "        text-align: right;\n",
       "    }\n",
       "</style>\n",
       "<table border=\"1\" class=\"dataframe\">\n",
       "  <thead>\n",
       "    <tr style=\"text-align: right;\">\n",
       "      <th></th>\n",
       "      <th>f0</th>\n",
       "      <th>f1</th>\n",
       "      <th>f2</th>\n",
       "      <th>product</th>\n",
       "    </tr>\n",
       "  </thead>\n",
       "  <tbody>\n",
       "    <tr>\n",
       "      <td>count</td>\n",
       "      <td>100000.000000</td>\n",
       "      <td>100000.000000</td>\n",
       "      <td>100000.000000</td>\n",
       "      <td>100000.000000</td>\n",
       "    </tr>\n",
       "    <tr>\n",
       "      <td>mean</td>\n",
       "      <td>0.500419</td>\n",
       "      <td>0.250143</td>\n",
       "      <td>2.502647</td>\n",
       "      <td>92.500000</td>\n",
       "    </tr>\n",
       "    <tr>\n",
       "      <td>std</td>\n",
       "      <td>0.871832</td>\n",
       "      <td>0.504433</td>\n",
       "      <td>3.248248</td>\n",
       "      <td>44.288691</td>\n",
       "    </tr>\n",
       "    <tr>\n",
       "      <td>min</td>\n",
       "      <td>-1.408605</td>\n",
       "      <td>-0.848218</td>\n",
       "      <td>-12.088328</td>\n",
       "      <td>0.000000</td>\n",
       "    </tr>\n",
       "    <tr>\n",
       "      <td>25%</td>\n",
       "      <td>-0.072580</td>\n",
       "      <td>-0.200881</td>\n",
       "      <td>0.287748</td>\n",
       "      <td>56.497507</td>\n",
       "    </tr>\n",
       "    <tr>\n",
       "      <td>50%</td>\n",
       "      <td>0.502360</td>\n",
       "      <td>0.250252</td>\n",
       "      <td>2.515969</td>\n",
       "      <td>91.849972</td>\n",
       "    </tr>\n",
       "    <tr>\n",
       "      <td>75%</td>\n",
       "      <td>1.073581</td>\n",
       "      <td>0.700646</td>\n",
       "      <td>4.715088</td>\n",
       "      <td>128.564089</td>\n",
       "    </tr>\n",
       "    <tr>\n",
       "      <td>max</td>\n",
       "      <td>2.362331</td>\n",
       "      <td>1.343769</td>\n",
       "      <td>16.003790</td>\n",
       "      <td>185.364347</td>\n",
       "    </tr>\n",
       "  </tbody>\n",
       "</table>\n",
       "</div>"
      ],
      "text/plain": [
       "                  f0             f1             f2        product\n",
       "count  100000.000000  100000.000000  100000.000000  100000.000000\n",
       "mean        0.500419       0.250143       2.502647      92.500000\n",
       "std         0.871832       0.504433       3.248248      44.288691\n",
       "min        -1.408605      -0.848218     -12.088328       0.000000\n",
       "25%        -0.072580      -0.200881       0.287748      56.497507\n",
       "50%         0.502360       0.250252       2.515969      91.849972\n",
       "75%         1.073581       0.700646       4.715088     128.564089\n",
       "max         2.362331       1.343769      16.003790     185.364347"
      ]
     },
     "metadata": {},
     "output_type": "display_data"
    },
    {
     "name": "stdout",
     "output_type": "stream",
     "text": [
      "Первые 5 строк:\n"
     ]
    },
    {
     "data": {
      "text/html": [
       "<div>\n",
       "<style scoped>\n",
       "    .dataframe tbody tr th:only-of-type {\n",
       "        vertical-align: middle;\n",
       "    }\n",
       "\n",
       "    .dataframe tbody tr th {\n",
       "        vertical-align: top;\n",
       "    }\n",
       "\n",
       "    .dataframe thead th {\n",
       "        text-align: right;\n",
       "    }\n",
       "</style>\n",
       "<table border=\"1\" class=\"dataframe\">\n",
       "  <thead>\n",
       "    <tr style=\"text-align: right;\">\n",
       "      <th></th>\n",
       "      <th>id</th>\n",
       "      <th>f0</th>\n",
       "      <th>f1</th>\n",
       "      <th>f2</th>\n",
       "      <th>product</th>\n",
       "    </tr>\n",
       "  </thead>\n",
       "  <tbody>\n",
       "    <tr>\n",
       "      <td>0</td>\n",
       "      <td>txEyH</td>\n",
       "      <td>0.705745</td>\n",
       "      <td>-0.497823</td>\n",
       "      <td>1.221170</td>\n",
       "      <td>105.280062</td>\n",
       "    </tr>\n",
       "    <tr>\n",
       "      <td>1</td>\n",
       "      <td>2acmU</td>\n",
       "      <td>1.334711</td>\n",
       "      <td>-0.340164</td>\n",
       "      <td>4.365080</td>\n",
       "      <td>73.037750</td>\n",
       "    </tr>\n",
       "    <tr>\n",
       "      <td>2</td>\n",
       "      <td>409Wp</td>\n",
       "      <td>1.022732</td>\n",
       "      <td>0.151990</td>\n",
       "      <td>1.419926</td>\n",
       "      <td>85.265647</td>\n",
       "    </tr>\n",
       "    <tr>\n",
       "      <td>3</td>\n",
       "      <td>iJLyR</td>\n",
       "      <td>-0.032172</td>\n",
       "      <td>0.139033</td>\n",
       "      <td>2.978566</td>\n",
       "      <td>168.620776</td>\n",
       "    </tr>\n",
       "    <tr>\n",
       "      <td>4</td>\n",
       "      <td>Xdl7t</td>\n",
       "      <td>1.988431</td>\n",
       "      <td>0.155413</td>\n",
       "      <td>4.751769</td>\n",
       "      <td>154.036647</td>\n",
       "    </tr>\n",
       "  </tbody>\n",
       "</table>\n",
       "</div>"
      ],
      "text/plain": [
       "      id        f0        f1        f2     product\n",
       "0  txEyH  0.705745 -0.497823  1.221170  105.280062\n",
       "1  2acmU  1.334711 -0.340164  4.365080   73.037750\n",
       "2  409Wp  1.022732  0.151990  1.419926   85.265647\n",
       "3  iJLyR -0.032172  0.139033  2.978566  168.620776\n",
       "4  Xdl7t  1.988431  0.155413  4.751769  154.036647"
      ]
     },
     "metadata": {},
     "output_type": "display_data"
    },
    {
     "name": "stdout",
     "output_type": "stream",
     "text": [
      "Матрица корреляции:\n"
     ]
    },
    {
     "data": {
      "text/plain": [
       "<matplotlib.axes._subplots.AxesSubplot at 0x7fa1d470b790>"
      ]
     },
     "metadata": {},
     "output_type": "display_data"
    },
    {
     "data": {
      "image/png": "[encoded data removed]",
      "text/plain": [
       "<Figure size 432x288 with 2 Axes>"
      ]
     },
     "metadata": {
      "needs_background": "light"
     },
     "output_type": "display_data"
    }
   ],
   "source": [
    "display_info(region_0,'Регион 0')\n"
   ]
  },
  {
   "cell_type": "code",
   "execution_count": 4,
   "metadata": {},
   "outputs": [
    {
     "name": "stdout",
     "output_type": "stream",
     "text": [
      "Регион 1\n"
     ]
    },
    {
     "data": {
      "text/html": [
       "<div>\n",
       "<style scoped>\n",
       "    .dataframe tbody tr th:only-of-type {\n",
       "        vertical-align: middle;\n",
       "    }\n",
       "\n",
       "    .dataframe tbody tr th {\n",
       "        vertical-align: top;\n",
       "    }\n",
       "\n",
       "    .dataframe thead th {\n",
       "        text-align: right;\n",
       "    }\n",
       "</style>\n",
       "<table border=\"1\" class=\"dataframe\">\n",
       "  <thead>\n",
       "    <tr style=\"text-align: right;\">\n",
       "      <th></th>\n",
       "      <th>f0</th>\n",
       "      <th>f1</th>\n",
       "      <th>f2</th>\n",
       "      <th>product</th>\n",
       "    </tr>\n",
       "  </thead>\n",
       "  <tbody>\n",
       "    <tr>\n",
       "      <td>count</td>\n",
       "      <td>100000.000000</td>\n",
       "      <td>100000.000000</td>\n",
       "      <td>100000.000000</td>\n",
       "      <td>100000.000000</td>\n",
       "    </tr>\n",
       "    <tr>\n",
       "      <td>mean</td>\n",
       "      <td>1.141296</td>\n",
       "      <td>-4.796579</td>\n",
       "      <td>2.494541</td>\n",
       "      <td>68.825000</td>\n",
       "    </tr>\n",
       "    <tr>\n",
       "      <td>std</td>\n",
       "      <td>8.965932</td>\n",
       "      <td>5.119872</td>\n",
       "      <td>1.703572</td>\n",
       "      <td>45.944423</td>\n",
       "    </tr>\n",
       "    <tr>\n",
       "      <td>min</td>\n",
       "      <td>-31.609576</td>\n",
       "      <td>-26.358598</td>\n",
       "      <td>-0.018144</td>\n",
       "      <td>0.000000</td>\n",
       "    </tr>\n",
       "    <tr>\n",
       "      <td>25%</td>\n",
       "      <td>-6.298551</td>\n",
       "      <td>-8.267985</td>\n",
       "      <td>1.000021</td>\n",
       "      <td>26.953261</td>\n",
       "    </tr>\n",
       "    <tr>\n",
       "      <td>50%</td>\n",
       "      <td>1.153055</td>\n",
       "      <td>-4.813172</td>\n",
       "      <td>2.011479</td>\n",
       "      <td>57.085625</td>\n",
       "    </tr>\n",
       "    <tr>\n",
       "      <td>75%</td>\n",
       "      <td>8.621015</td>\n",
       "      <td>-1.332816</td>\n",
       "      <td>3.999904</td>\n",
       "      <td>107.813044</td>\n",
       "    </tr>\n",
       "    <tr>\n",
       "      <td>max</td>\n",
       "      <td>29.421755</td>\n",
       "      <td>18.734063</td>\n",
       "      <td>5.019721</td>\n",
       "      <td>137.945408</td>\n",
       "    </tr>\n",
       "  </tbody>\n",
       "</table>\n",
       "</div>"
      ],
      "text/plain": [
       "                  f0             f1             f2        product\n",
       "count  100000.000000  100000.000000  100000.000000  100000.000000\n",
       "mean        1.141296      -4.796579       2.494541      68.825000\n",
       "std         8.965932       5.119872       1.703572      45.944423\n",
       "min       -31.609576     -26.358598      -0.018144       0.000000\n",
       "25%        -6.298551      -8.267985       1.000021      26.953261\n",
       "50%         1.153055      -4.813172       2.011479      57.085625\n",
       "75%         8.621015      -1.332816       3.999904     107.813044\n",
       "max        29.421755      18.734063       5.019721     137.945408"
      ]
     },
     "metadata": {},
     "output_type": "display_data"
    },
    {
     "name": "stdout",
     "output_type": "stream",
     "text": [
      "Первые 5 строк:\n"
     ]
    },
    {
     "data": {
      "text/html": [
       "<div>\n",
       "<style scoped>\n",
       "    .dataframe tbody tr th:only-of-type {\n",
       "        vertical-align: middle;\n",
       "    }\n",
       "\n",
       "    .dataframe tbody tr th {\n",
       "        vertical-align: top;\n",
       "    }\n",
       "\n",
       "    .dataframe thead th {\n",
       "        text-align: right;\n",
       "    }\n",
       "</style>\n",
       "<table border=\"1\" class=\"dataframe\">\n",
       "  <thead>\n",
       "    <tr style=\"text-align: right;\">\n",
       "      <th></th>\n",
       "      <th>id</th>\n",
       "      <th>f0</th>\n",
       "      <th>f1</th>\n",
       "      <th>f2</th>\n",
       "      <th>product</th>\n",
       "    </tr>\n",
       "  </thead>\n",
       "  <tbody>\n",
       "    <tr>\n",
       "      <td>0</td>\n",
       "      <td>kBEdx</td>\n",
       "      <td>-15.001348</td>\n",
       "      <td>-8.276000</td>\n",
       "      <td>-0.005876</td>\n",
       "      <td>3.179103</td>\n",
       "    </tr>\n",
       "    <tr>\n",
       "      <td>1</td>\n",
       "      <td>62mP7</td>\n",
       "      <td>14.272088</td>\n",
       "      <td>-3.475083</td>\n",
       "      <td>0.999183</td>\n",
       "      <td>26.953261</td>\n",
       "    </tr>\n",
       "    <tr>\n",
       "      <td>2</td>\n",
       "      <td>vyE1P</td>\n",
       "      <td>6.263187</td>\n",
       "      <td>-5.948386</td>\n",
       "      <td>5.001160</td>\n",
       "      <td>134.766305</td>\n",
       "    </tr>\n",
       "    <tr>\n",
       "      <td>3</td>\n",
       "      <td>KcrkZ</td>\n",
       "      <td>-13.081196</td>\n",
       "      <td>-11.506057</td>\n",
       "      <td>4.999415</td>\n",
       "      <td>137.945408</td>\n",
       "    </tr>\n",
       "    <tr>\n",
       "      <td>4</td>\n",
       "      <td>AHL4O</td>\n",
       "      <td>12.702195</td>\n",
       "      <td>-8.147433</td>\n",
       "      <td>5.004363</td>\n",
       "      <td>134.766305</td>\n",
       "    </tr>\n",
       "  </tbody>\n",
       "</table>\n",
       "</div>"
      ],
      "text/plain": [
       "      id         f0         f1        f2     product\n",
       "0  kBEdx -15.001348  -8.276000 -0.005876    3.179103\n",
       "1  62mP7  14.272088  -3.475083  0.999183   26.953261\n",
       "2  vyE1P   6.263187  -5.948386  5.001160  134.766305\n",
       "3  KcrkZ -13.081196 -11.506057  4.999415  137.945408\n",
       "4  AHL4O  12.702195  -8.147433  5.004363  134.766305"
      ]
     },
     "metadata": {},
     "output_type": "display_data"
    },
    {
     "name": "stdout",
     "output_type": "stream",
     "text": [
      "Матрица корреляции:\n"
     ]
    },
    {
     "data": {
      "text/plain": [
       "<matplotlib.axes._subplots.AxesSubplot at 0x7fa1d4660b50>"
      ]
     },
     "metadata": {},
     "output_type": "display_data"
    },
    {
     "data": {
      "image/png": "[encoded data removed]",
      "text/plain": [
       "<Figure size 432x288 with 2 Axes>"
      ]
     },
     "metadata": {
      "needs_background": "light"
     },
     "output_type": "display_data"
    }
   ],
   "source": [
    "display_info(region_1,'Регион 1')"
   ]
  },
  {
   "cell_type": "code",
   "execution_count": 5,
   "metadata": {},
   "outputs": [
    {
     "name": "stdout",
     "output_type": "stream",
     "text": [
      "Регион 2\n"
     ]
    },
    {
     "data": {
      "text/html": [
       "<div>\n",
       "<style scoped>\n",
       "    .dataframe tbody tr th:only-of-type {\n",
       "        vertical-align: middle;\n",
       "    }\n",
       "\n",
       "    .dataframe tbody tr th {\n",
       "        vertical-align: top;\n",
       "    }\n",
       "\n",
       "    .dataframe thead th {\n",
       "        text-align: right;\n",
       "    }\n",
       "</style>\n",
       "<table border=\"1\" class=\"dataframe\">\n",
       "  <thead>\n",
       "    <tr style=\"text-align: right;\">\n",
       "      <th></th>\n",
       "      <th>f0</th>\n",
       "      <th>f1</th>\n",
       "      <th>f2</th>\n",
       "      <th>product</th>\n",
       "    </tr>\n",
       "  </thead>\n",
       "  <tbody>\n",
       "    <tr>\n",
       "      <td>count</td>\n",
       "      <td>100000.000000</td>\n",
       "      <td>100000.000000</td>\n",
       "      <td>100000.000000</td>\n",
       "      <td>100000.000000</td>\n",
       "    </tr>\n",
       "    <tr>\n",
       "      <td>mean</td>\n",
       "      <td>0.002023</td>\n",
       "      <td>-0.002081</td>\n",
       "      <td>2.495128</td>\n",
       "      <td>95.000000</td>\n",
       "    </tr>\n",
       "    <tr>\n",
       "      <td>std</td>\n",
       "      <td>1.732045</td>\n",
       "      <td>1.730417</td>\n",
       "      <td>3.473445</td>\n",
       "      <td>44.749921</td>\n",
       "    </tr>\n",
       "    <tr>\n",
       "      <td>min</td>\n",
       "      <td>-8.760004</td>\n",
       "      <td>-7.084020</td>\n",
       "      <td>-11.970335</td>\n",
       "      <td>0.000000</td>\n",
       "    </tr>\n",
       "    <tr>\n",
       "      <td>25%</td>\n",
       "      <td>-1.162288</td>\n",
       "      <td>-1.174820</td>\n",
       "      <td>0.130359</td>\n",
       "      <td>59.450441</td>\n",
       "    </tr>\n",
       "    <tr>\n",
       "      <td>50%</td>\n",
       "      <td>0.009424</td>\n",
       "      <td>-0.009482</td>\n",
       "      <td>2.484236</td>\n",
       "      <td>94.925613</td>\n",
       "    </tr>\n",
       "    <tr>\n",
       "      <td>75%</td>\n",
       "      <td>1.158535</td>\n",
       "      <td>1.163678</td>\n",
       "      <td>4.858794</td>\n",
       "      <td>130.595027</td>\n",
       "    </tr>\n",
       "    <tr>\n",
       "      <td>max</td>\n",
       "      <td>7.238262</td>\n",
       "      <td>7.844801</td>\n",
       "      <td>16.739402</td>\n",
       "      <td>190.029838</td>\n",
       "    </tr>\n",
       "  </tbody>\n",
       "</table>\n",
       "</div>"
      ],
      "text/plain": [
       "                  f0             f1             f2        product\n",
       "count  100000.000000  100000.000000  100000.000000  100000.000000\n",
       "mean        0.002023      -0.002081       2.495128      95.000000\n",
       "std         1.732045       1.730417       3.473445      44.749921\n",
       "min        -8.760004      -7.084020     -11.970335       0.000000\n",
       "25%        -1.162288      -1.174820       0.130359      59.450441\n",
       "50%         0.009424      -0.009482       2.484236      94.925613\n",
       "75%         1.158535       1.163678       4.858794     130.595027\n",
       "max         7.238262       7.844801      16.739402     190.029838"
      ]
     },
     "metadata": {},
     "output_type": "display_data"
    },
    {
     "name": "stdout",
     "output_type": "stream",
     "text": [
      "Первые 5 строк:\n"
     ]
    },
    {
     "data": {
      "text/html": [
       "<div>\n",
       "<style scoped>\n",
       "    .dataframe tbody tr th:only-of-type {\n",
       "        vertical-align: middle;\n",
       "    }\n",
       "\n",
       "    .dataframe tbody tr th {\n",
       "        vertical-align: top;\n",
       "    }\n",
       "\n",
       "    .dataframe thead th {\n",
       "        text-align: right;\n",
       "    }\n",
       "</style>\n",
       "<table border=\"1\" class=\"dataframe\">\n",
       "  <thead>\n",
       "    <tr style=\"text-align: right;\">\n",
       "      <th></th>\n",
       "      <th>id</th>\n",
       "      <th>f0</th>\n",
       "      <th>f1</th>\n",
       "      <th>f2</th>\n",
       "      <th>product</th>\n",
       "    </tr>\n",
       "  </thead>\n",
       "  <tbody>\n",
       "    <tr>\n",
       "      <td>0</td>\n",
       "      <td>fwXo0</td>\n",
       "      <td>-1.146987</td>\n",
       "      <td>0.963328</td>\n",
       "      <td>-0.828965</td>\n",
       "      <td>27.758673</td>\n",
       "    </tr>\n",
       "    <tr>\n",
       "      <td>1</td>\n",
       "      <td>WJtFt</td>\n",
       "      <td>0.262778</td>\n",
       "      <td>0.269839</td>\n",
       "      <td>-2.530187</td>\n",
       "      <td>56.069697</td>\n",
       "    </tr>\n",
       "    <tr>\n",
       "      <td>2</td>\n",
       "      <td>ovLUW</td>\n",
       "      <td>0.194587</td>\n",
       "      <td>0.289035</td>\n",
       "      <td>-5.586433</td>\n",
       "      <td>62.871910</td>\n",
       "    </tr>\n",
       "    <tr>\n",
       "      <td>3</td>\n",
       "      <td>q6cA6</td>\n",
       "      <td>2.236060</td>\n",
       "      <td>-0.553760</td>\n",
       "      <td>0.930038</td>\n",
       "      <td>114.572842</td>\n",
       "    </tr>\n",
       "    <tr>\n",
       "      <td>4</td>\n",
       "      <td>WPMUX</td>\n",
       "      <td>-0.515993</td>\n",
       "      <td>1.716266</td>\n",
       "      <td>5.899011</td>\n",
       "      <td>149.600746</td>\n",
       "    </tr>\n",
       "  </tbody>\n",
       "</table>\n",
       "</div>"
      ],
      "text/plain": [
       "      id        f0        f1        f2     product\n",
       "0  fwXo0 -1.146987  0.963328 -0.828965   27.758673\n",
       "1  WJtFt  0.262778  0.269839 -2.530187   56.069697\n",
       "2  ovLUW  0.194587  0.289035 -5.586433   62.871910\n",
       "3  q6cA6  2.236060 -0.553760  0.930038  114.572842\n",
       "4  WPMUX -0.515993  1.716266  5.899011  149.600746"
      ]
     },
     "metadata": {},
     "output_type": "display_data"
    },
    {
     "name": "stdout",
     "output_type": "stream",
     "text": [
      "Матрица корреляции:\n"
     ]
    },
    {
     "data": {
      "text/plain": [
       "<matplotlib.axes._subplots.AxesSubplot at 0x7fa1d456ea90>"
      ]
     },
     "metadata": {},
     "output_type": "display_data"
    },
    {
     "data": {
      "image/png": "[encoded data removed]",
      "text/plain": [
       "<Figure size 432x288 with 2 Axes>"
      ]
     },
     "metadata": {
      "needs_background": "light"
     },
     "output_type": "display_data"
    }
   ],
   "source": [
    "display_info(region_2, 'Регион 2')"
   ]
  },
  {
   "cell_type": "markdown",
   "metadata": {},
   "source": [
    "В каждой таблице содержится 10000 строк с данными о скважинах:\n",
    "\n",
    "id — уникальный идентификатор скважины\n",
    "\n",
    "f0, f1, f2 — три признака точек\n",
    "\n",
    "product — объём запасов в скважине (тыс. баррелей).\n",
    "\n",
    "\n",
    "Пропусков в данных нет, есть скважины с 0 запасом. По матрицам корреляции заметно, что сильной зависимости между данными нет, кроме случая в Регионе 1, где коэффициент корреляции между f2 и product составляет 1.\n",
    "\n",
    "Разделим наши выборки на обучающую и валидационную(75:25). Поле id не является признаком , влияющим на объемы добычи, поэтому его в features не включаем."
   ]
  },
  {
   "cell_type": "code",
   "execution_count": 6,
   "metadata": {},
   "outputs": [],
   "source": [
    "# признаки\n",
    "reg0_features=region_0.drop(['id','product'], axis=1)\n",
    "reg1_features=region_1.drop(['id','product'], axis=1)\n",
    "reg2_features=region_2.drop(['id','product'], axis=1)\n",
    "\n",
    "#целевой признак\n",
    "reg0_target=region_0['product']\n",
    "reg1_target=region_1['product']\n",
    "reg2_target=region_2['product']\n",
    "\n"
   ]
  },
  {
   "cell_type": "markdown",
   "metadata": {},
   "source": [
    "Разделим данные на обучающую и тестовые выборки:"
   ]
  },
  {
   "cell_type": "code",
   "execution_count": 7,
   "metadata": {},
   "outputs": [],
   "source": [
    "reg0_features_train,reg0_features_valid,reg0_target_train,reg0_target_valid=train_test_split(reg0_features, reg0_target, \n",
    "                                                                                           test_size=.25,\n",
    "                                                                                           random_state=54321)\n",
    "\n",
    "reg1_features_train,reg1_features_valid,reg1_target_train,reg1_target_valid=train_test_split(reg1_features, reg1_target, \n",
    "                                                                                           test_size=.25,\n",
    "                                                                                           random_state=54321)\n",
    "\n",
    "reg2_features_train,reg2_features_valid,reg2_target_train,reg2_target_valid=train_test_split(reg2_features, reg2_target, \n",
    "                                                                                           test_size=.25,\n",
    "                                                                                           random_state=54321)\n",
    "\n"
   ]
  },
  {
   "cell_type": "markdown",
   "metadata": {},
   "source": [
    "### Вывод: \n",
    "Нам предоставлены 3 файла с данными о нефтянных местровождениях в 3 разных регионах. Каждый из файлов содержит 10000 строк c id скважины, некими оценками и объемом запасов. Данные для 3х регионов разделены на обучающую и тестовые выборки(в соотношении 75:25)."
   ]
  },
  {
   "cell_type": "markdown",
   "metadata": {},
   "source": [
    "## Обучение и проверка модели<a id=regression> </a>"
   ]
  },
  {
   "cell_type": "markdown",
   "metadata": {},
   "source": [
    "Создадим и обучим модель для Региона 0:"
   ]
  },
  {
   "cell_type": "code",
   "execution_count": 8,
   "metadata": {},
   "outputs": [
    {
     "name": "stdout",
     "output_type": "stream",
     "text": [
      "Средний запас предсказанного сырья:92.16\n",
      "RMSE на обучающей выборке:37.69\n",
      "RMSE на валидационной выборке:37.68\n"
     ]
    }
   ],
   "source": [
    "prediction_0, rmse_train_0, rmse_0, prediction0= linear_regression_train(reg0_features_train, reg0_target_train, \n",
    "                                                        reg0_features_valid, reg0_target_valid, 'Регион 0')\n",
    "print(\"Средний запас предсказанного сырья:{:.2f}\".format(prediction_0))\n",
    "print(\"RMSE на обучающей выборке:{:.2f}\".format(rmse_train_0))\n",
    "print(\"RMSE на валидационной выборке:{:.2f}\".format(rmse_0))\n"
   ]
  },
  {
   "cell_type": "markdown",
   "metadata": {},
   "source": [
    "Построим распределение прогнозных значений и фактических:"
   ]
  },
  {
   "cell_type": "code",
   "execution_count": 9,
   "metadata": {},
   "outputs": [
    {
     "data": {
      "image/png": "[encoded data removed]",
      "text/plain": [
       "<Figure size 432x288 with 1 Axes>"
      ]
     },
     "metadata": {
      "needs_background": "light"
     },
     "output_type": "display_data"
    }
   ],
   "source": [
    "draw_hist_comparision(reg0_target_valid,prediction0,\"Регион 0 План/Факт\")"
   ]
  },
  {
   "cell_type": "markdown",
   "metadata": {},
   "source": [
    "У данной модели высокий показатель ошибки, треть от среднего значения."
   ]
  },
  {
   "cell_type": "markdown",
   "metadata": {},
   "source": [
    "Создадим и обучим модель для Региона 1:"
   ]
  },
  {
   "cell_type": "code",
   "execution_count": 10,
   "metadata": {},
   "outputs": [
    {
     "name": "stdout",
     "output_type": "stream",
     "text": [
      "Средний запас предсказанного сырья:68.45\n",
      "RMSE на обучающей выборке:0.89\n",
      "RMSE на валидационной выборке:0.89\n"
     ]
    }
   ],
   "source": [
    "prediction_1, rmse_train_1, rmse_1, prediction1= linear_regression_train(reg1_features_train, reg1_target_train, \n",
    "                                                        reg1_features_valid, reg1_target_valid, 'Регион 0')\n",
    "\n",
    "\n",
    "print(\"Средний запас предсказанного сырья:{:.2f}\".format(prediction_1))\n",
    "print(\"RMSE на обучающей выборке:{:.2f}\".format(rmse_train_1))\n",
    "print(\"RMSE на валидационной выборке:{:.2f}\".format(rmse_1))"
   ]
  },
  {
   "cell_type": "markdown",
   "metadata": {},
   "source": [
    "Проверим как распределены прогнозняе и фактические значения:"
   ]
  },
  {
   "cell_type": "code",
   "execution_count": 11,
   "metadata": {},
   "outputs": [
    {
     "data": {
      "image/png": "[encoded data removed]",
      "text/plain": [
       "<Figure size 432x288 with 1 Axes>"
      ]
     },
     "metadata": {
      "needs_background": "light"
     },
     "output_type": "display_data"
    }
   ],
   "source": [
    "draw_hist_comparision(reg1_target_valid,prediction1,\"Регион 1 План/Факт\")"
   ]
  },
  {
   "cell_type": "markdown",
   "metadata": {},
   "source": [
    "Данная модель показала неплохой результат, ошибка меньше тысячи бареллей"
   ]
  },
  {
   "cell_type": "markdown",
   "metadata": {},
   "source": [
    "Создадим и обучим модель для Региона 2:"
   ]
  },
  {
   "cell_type": "code",
   "execution_count": 12,
   "metadata": {},
   "outputs": [
    {
     "name": "stdout",
     "output_type": "stream",
     "text": [
      "Средний запас предсказанного сырья:94.92\n",
      "RMSE на обучающей выборке:40.02\n",
      "RMSE на валидационной выборке:40.15\n"
     ]
    }
   ],
   "source": [
    "prediction_2, rmse_train_2, rmse_2, prediction2= linear_regression_train(reg2_features_train, reg2_target_train, \n",
    "                                                        reg2_features_valid, reg2_target_valid, 'Регион 0')\n",
    "\n",
    "print(\"Средний запас предсказанного сырья:{:.2f}\".format(prediction_2))\n",
    "print(\"RMSE на обучающей выборке:{:.2f}\".format(rmse_train_2))\n",
    "print(\"RMSE на валидационной выборке:{:.2f}\".format(rmse_2))"
   ]
  },
  {
   "cell_type": "markdown",
   "metadata": {},
   "source": [
    "Построим распределение прогнозных и фактичесикх значений:"
   ]
  },
  {
   "cell_type": "code",
   "execution_count": 13,
   "metadata": {},
   "outputs": [
    {
     "data": {
      "image/png": "[encoded data removed]",
      "text/plain": [
       "<Figure size 432x288 with 1 Axes>"
      ]
     },
     "metadata": {
      "needs_background": "light"
     },
     "output_type": "display_data"
    }
   ],
   "source": [
    "draw_hist_comparision(reg2_target_valid,prediction2,\"Регион 1 План/Факт\")"
   ]
  },
  {
   "cell_type": "markdown",
   "metadata": {},
   "source": [
    "У данной модели также слишком высокий показатель среднеквадратичной ошибки, почти половина от среднего запаса по региону."
   ]
  },
  {
   "cell_type": "markdown",
   "metadata": {},
   "source": [
    "### Вывод:\n",
    "На данном этапе были подготовлены 3 модели линейной регрессии для каждого региона. Лучший результат(самая низкая RMSE) показала модель для 1го региона, модели Региона 0 и Региона 1 имеют высокий показатель RMSE( почти половина среднего предсказанного значения). На диаграммах заметно, что теряются потенциально убыточные и потенциально прибыльные скважины."
   ]
  },
  {
   "cell_type": "markdown",
   "metadata": {},
   "source": [
    "## Подготовка к расчёту прибыли<a id=revenue_calculation> </a>"
   ]
  },
  {
   "cell_type": "markdown",
   "metadata": {},
   "source": [
    "По условиям задачи:\n",
    "\n",
    "•\tПри разведке региона исследуют 500 точек, из которых с помощью машинного обучения выбирают 200 лучших для разработки.\n",
    "\n",
    "•\tБюджет на разработку скважин в регионе — 10 млрд рублей.\n",
    "\n",
    "•\tПри нынешних ценах один баррель сырья приносит 450 рублей дохода. Доход с каждой единицы продукта составляет 450 тыс. рублей, поскольку объём указан в тысячах баррелей.\n",
    "\n",
    "\n",
    "Создадим переменные с параметрами выше:"
   ]
  },
  {
   "cell_type": "code",
   "execution_count": 14,
   "metadata": {},
   "outputs": [],
   "source": [
    "FIELDS_TOTAL=500\n",
    "FIELDS_BEST=200\n",
    "PRICE_PER_BARREL=450\n",
    "BUDGET=10**10"
   ]
  },
  {
   "cell_type": "markdown",
   "metadata": {},
   "source": [
    "Найдем точку безубыточности:"
   ]
  },
  {
   "cell_type": "code",
   "execution_count": 15,
   "metadata": {},
   "outputs": [
    {
     "name": "stdout",
     "output_type": "stream",
     "text": [
      "Достаточный объём сырья для безубыточной разработки новой скважины: 111.11 тыс. баррелей\n"
     ]
    }
   ],
   "source": [
    "be_point=BUDGET/(FIELDS_BEST*PRICE_PER_BARREL*(10**3))\n",
    "print(\"Достаточный объём сырья для безубыточной разработки новой скважины: {:.2f} тыс. баррелей\".format(be_point))"
   ]
  },
  {
   "cell_type": "markdown",
   "metadata": {},
   "source": [
    "Выведем данные о средних предсказанных объемах на скважину по регионам  и сравним с целевым показателем:"
   ]
  },
  {
   "cell_type": "code",
   "execution_count": 16,
   "metadata": {},
   "outputs": [
    {
     "name": "stdout",
     "output_type": "stream",
     "text": [
      "Регион 0: Средний запас сырья: 92.16 тыс. баррелей, это 83% от целевого объема\n",
      "Регион 1: Средний запас сырья: 68.45 тыс. баррелей, это 62% от целевого объема\n",
      "Регион 2: Средний запас сырья: 94.92 тыс. баррелей, это 85% от целевого объема\n"
     ]
    }
   ],
   "source": [
    "print(\"Регион 0: Средний запас сырья: {:.2f} тыс. баррелей, это {:.0%} от целевого объема\".format(prediction_0,prediction_0/be_point))\n",
    "print(\"Регион 1: Средний запас сырья: {:.2f} тыс. баррелей, это {:.0%} от целевого объема\".format(prediction_1,prediction_1/be_point))\n",
    "print(\"Регион 2: Средний запас сырья: {:.2f} тыс. баррелей, это {:.0%} от целевого объема\".format(prediction_2,prediction_2/be_point))"
   ]
  },
  {
   "cell_type": "markdown",
   "metadata": {},
   "source": [
    "Пока средний предсказанный объем по всем регионам ниже, чем точка безубыточности. Посмотрим сколько точек могут дать нужный объем нефти."
   ]
  },
  {
   "cell_type": "code",
   "execution_count": 17,
   "metadata": {},
   "outputs": [
    {
     "name": "stdout",
     "output_type": "stream",
     "text": [
      "Число потенциально выгодных скважин по регионам:\n",
      "Регион 0: 5222 скважин с объемом не менее 111 тыс. бареллей\n",
      "Регион 1: 4457 скважин с объемом не менее 111 тыс. бареллей\n",
      "Регион 2: 5237 скважин с объемом не менее 111 тыс. бареллей\n"
     ]
    }
   ],
   "source": [
    "region0_potential=np.sum(prediction0>=be_point)\n",
    "region1_potential=np.sum(prediction1>=be_point)\n",
    "region2_potential=np.sum(prediction2>=be_point)\n",
    "print('Число потенциально выгодных скважин по регионам:')\n",
    "print(\"Регион 0: {} скважин с объемом не менее {:.0f} тыс. бареллей\".format(region0_potential,be_point))\n",
    "print(\"Регион 1: {} скважин с объемом не менее {:.0f} тыс. бареллей\".format(region1_potential,be_point))\n",
    "print(\"Регион 2: {} скважин с объемом не менее {:.0f} тыс. бареллей\".format(region2_potential,be_point))"
   ]
  },
  {
   "cell_type": "markdown",
   "metadata": {},
   "source": [
    "Выберем в каждом регионе по 200 месторождений с максимальными значениями предсказанных объемов запасов и вычислим для них целевую валовую прибыль:"
   ]
  },
  {
   "cell_type": "code",
   "execution_count": 18,
   "metadata": {},
   "outputs": [],
   "source": [
    "region0_revenue_target,volume0=target_revenue(prediction0,reg0_target_valid,FIELDS_BEST,BUDGET,PRICE_PER_BARREL)\n",
    "region1_revenue_target,volume1=target_revenue(prediction1,reg1_target_valid,FIELDS_BEST,BUDGET,PRICE_PER_BARREL)\n",
    "region2_revenue_target,volume2=target_revenue(prediction2,reg2_target_valid,FIELDS_BEST,BUDGET,PRICE_PER_BARREL)\n"
   ]
  },
  {
   "cell_type": "markdown",
   "metadata": {},
   "source": [
    "Найдем валовую прибыль для полученного объема сырья:"
   ]
  },
  {
   "cell_type": "code",
   "execution_count": 19,
   "metadata": {},
   "outputs": [
    {
     "name": "stdout",
     "output_type": "stream",
     "text": [
      "Ожидаемая прибыль по лучшим скважинам:\n",
      "Регион 0 ТОП 200: Прибыль: 3.18 млрд. руб., объем 29286 тыс. баррелей\n",
      "Регион 1 ТОП 200: Прибыль: 2.42 млрд. руб., объем 27589 тыс. баррелей\n",
      "Регион 2 ТОП 200: Прибыль: 2.41 млрд. руб., объем 27586 тыс. баррелей\n"
     ]
    }
   ],
   "source": [
    "print('Ожидаемая прибыль по лучшим скважинам:')\n",
    "print(\"Регион 0 ТОП 200: Прибыль: {:.2f} млрд. руб., объем {:.0f} тыс. баррелей\".format(region0_revenue_target/10**9,volume0))\n",
    "print(\"Регион 1 ТОП 200: Прибыль: {:.2f} млрд. руб., объем {:.0f} тыс. баррелей\".format(region1_revenue_target/10**9,volume1))\n",
    "print(\"Регион 2 ТОП 200: Прибыль: {:.2f} млрд. руб., объем {:.0f} тыс. баррелей\".format(region2_revenue_target/10**9,volume2))"
   ]
  },
  {
   "cell_type": "markdown",
   "metadata": {},
   "source": [
    "### Вывод: \n",
    "На данном этапе были созданы модели для расчета объемов добычи по каждому региону. Модели для Региона 0 и Региона 2 показали высокие значения среднеквадратичной ошибки, треть и почти половина от среднего предсказанного значения и такие ошибки могут дорого стоить при разработке нового месторождения. точка безубыточности при текущих затратах составляет 111 тысяч баррелей, это выше ччем средние значения по всем регионам. Однако, в каждом регионе есть не менее 5000 скважин, которые удовлетворяют данному требованию, выбрать из них 200 мест для разработки труда не составит. Целевая прибыль для трех регионов лежит в диапазоне от 2,4 до 3,1 млрд рублей при суммарной добыче 27-29 тыс. баррелей."
   ]
  },
  {
   "cell_type": "markdown",
   "metadata": {},
   "source": [
    "## Расчёт прибыли и рисков <a id=bootstrap> </a>"
   ]
  },
  {
   "cell_type": "markdown",
   "metadata": {},
   "source": [
    "Найдем распределение прибыли по каждому региону"
   ]
  },
  {
   "cell_type": "code",
   "execution_count": 20,
   "metadata": {},
   "outputs": [],
   "source": [
    "reg0=bootstrap_by_region(reg0_target_valid, prediction0,FIELDS_TOTAL,FIELDS_BEST,BUDGET,PRICE_PER_BARREL)\n",
    "reg1=bootstrap_by_region(reg1_target_valid, prediction1,FIELDS_TOTAL,FIELDS_BEST,BUDGET,PRICE_PER_BARREL)\n",
    "reg2=bootstrap_by_region(reg2_target_valid, prediction2,FIELDS_TOTAL,FIELDS_BEST,BUDGET,PRICE_PER_BARREL)\n"
   ]
  },
  {
   "cell_type": "markdown",
   "metadata": {},
   "source": [
    "Время от времени длина целевого массива больше, чем длина предсказаний. В массиве предсказаний могут появится дубли, после этого из массива taget подтягиваются все подходящие значения(т.к. непонятно, как их сопоставлять). Изменим алгоритм в функции, чтобы топ200 отбирался не по массиву предсказаний, а по массиву target(что и было указано в условии задачи)"
   ]
  },
  {
   "cell_type": "code",
   "execution_count": 22,
   "metadata": {},
   "outputs": [
    {
     "data": {
      "image/png": "[encoded data removed]",
      "text/plain": [
       "<Figure size 432x288 with 1 Axes>"
      ]
     },
     "metadata": {
      "needs_background": "light"
     },
     "output_type": "display_data"
    }
   ],
   "source": [
    "draw_hist(reg0,\"Распределение для Региона0\")"
   ]
  },
  {
   "cell_type": "code",
   "execution_count": 23,
   "metadata": {},
   "outputs": [
    {
     "name": "stdout",
     "output_type": "stream",
     "text": [
      "Среднее значение прибыли:0.399 млрд. руб.\n"
     ]
    }
   ],
   "source": [
    "print('Среднее значение прибыли:{:.3f} млрд. руб.'.format(mean(reg0)/10**9))"
   ]
  },
  {
   "cell_type": "code",
   "execution_count": 24,
   "metadata": {},
   "outputs": [
    {
     "data": {
      "image/png": "[encoded data removed]",
      "text/plain": [
       "<Figure size 432x288 with 1 Axes>"
      ]
     },
     "metadata": {
      "needs_background": "light"
     },
     "output_type": "display_data"
    }
   ],
   "source": [
    "draw_hist(reg1,\"Распределение для Региона1\")"
   ]
  },
  {
   "cell_type": "code",
   "execution_count": 25,
   "metadata": {},
   "outputs": [
    {
     "name": "stdout",
     "output_type": "stream",
     "text": [
      "Среднее значение прибыли:0.478 млрд. руб.\n"
     ]
    }
   ],
   "source": [
    "print('Среднее значение прибыли:{:.3f} млрд. руб.'.format(mean(reg1)/10**9))"
   ]
  },
  {
   "cell_type": "code",
   "execution_count": 26,
   "metadata": {},
   "outputs": [
    {
     "data": {
      "image/png": "[encoded data removed]",
      "text/plain": [
       "<Figure size 432x288 with 1 Axes>"
      ]
     },
     "metadata": {
      "needs_background": "light"
     },
     "output_type": "display_data"
    }
   ],
   "source": [
    "draw_hist(reg2,\"Распределение для Региона2\")"
   ]
  },
  {
   "cell_type": "code",
   "execution_count": 27,
   "metadata": {},
   "outputs": [
    {
     "name": "stdout",
     "output_type": "stream",
     "text": [
      "Среднее значение прибыли:0.423 млрд. руб.\n"
     ]
    }
   ],
   "source": [
    "print('Среднее значение прибыли:{:.3f} млрд. руб.'.format(mean(reg2)/10**9))"
   ]
  },
  {
   "cell_type": "markdown",
   "metadata": {},
   "source": [
    "Найдем 95% доверительный интевал по каждому региону:"
   ]
  },
  {
   "cell_type": "code",
   "execution_count": 28,
   "metadata": {},
   "outputs": [
    {
     "name": "stdout",
     "output_type": "stream",
     "text": [
      "95% доверительный интервал прибыль Регион0: -0.150 - 0.949 млрд. руб.\n",
      "Риск убытков:7%\n"
     ]
    }
   ],
   "source": [
    "reg0_l, reg0_u=interval(reg0, 95)\n",
    "print('95% доверительный интервал прибыль Регион0: {:.3f} - {:.3f} млрд. руб.'.format(reg0_l/10**9,reg0_u/10**9))\n",
    "\n",
    "print('Риск убытков:{:.0%}'.format(np.sum(np.array(reg0)<0)/len(np.array(reg0))))"
   ]
  },
  {
   "cell_type": "code",
   "execution_count": 29,
   "metadata": {},
   "outputs": [
    {
     "name": "stdout",
     "output_type": "stream",
     "text": [
      "95% доверительный интервал прибыль Регион1: 0.109 - 0.876 млрд. руб.\n",
      "Риск убытков:1%\n"
     ]
    }
   ],
   "source": [
    "reg1_l, reg1_u=interval(reg1, 95)\n",
    "print('95% доверительный интервал прибыль Регион1: {:.3f} - {:.3f} млрд. руб.'.format(reg1_l/10**9,reg1_u/10**9))\n",
    "print('Риск убытков:{:.0%}'.format(np.sum(np.array(reg1)<0)/len(np.array(reg1))))"
   ]
  },
  {
   "cell_type": "code",
   "execution_count": 30,
   "metadata": {},
   "outputs": [
    {
     "name": "stdout",
     "output_type": "stream",
     "text": [
      "95% доверительный интервал прибыль Регион2: -0.131 - 0.934 млрд. руб.\n",
      "Риск убытков:6%\n"
     ]
    }
   ],
   "source": [
    "reg2_l, reg2_u=interval(reg2, 95)\n",
    "print('95% доверительный интервал прибыль Регион2: {:.3f} - {:.3f} млрд. руб.'.format(reg2_l/10**9,reg2_u/10**9))\n",
    "print('Риск убытков:{:.0%}'.format(np.sum(np.array(reg2)<0)/len(np.array(reg2))))"
   ]
  },
  {
   "cell_type": "markdown",
   "metadata": {},
   "source": [
    "### Вывод: \n",
    "\n",
    "После исправления ошибки в функции прибыли получились следующие результаты:\n",
    "- Регион 0 и Регион 2 имеют риск убытков 7% и 6% соответсвтенно, что не подходит по условиям задачи.\n",
    "-У Региона 1 риск убытков 1%, что соответвует условиям задачи и границы доверительного интервала положительные, т.е. в 95% случаев компания не понесет убытки при новой разработке. Пока Регион 1 является единственным подходящим для дальнейшей разработки."
   ]
  }
 ],
 "metadata": {
  "kernelspec": {
   "display_name": "Python 3",
   "language": "python",
   "name": "python3"
  },
  "language_info": {
   "codemirror_mode": {
    "name": "ipython",
    "version": 3
   },
   "file_extension": ".py",
   "mimetype": "text/x-python",
   "name": "python",
   "nbconvert_exporter": "python",
   "pygments_lexer": "ipython3",
   "version": "3.8.5"
  },
  "toc": {
   "base_numbering": 1,
   "nav_menu": {},
   "number_sections": false,
   "sideBar": true,
   "skip_h1_title": true,
   "title_cell": "Table of Contents",
   "title_sidebar": "Contents",
   "toc_cell": false,
   "toc_position": {
    "height": "calc(100% - 180px)",
    "left": "10px",
    "top": "150px",
    "width": "462.5px"
   },
   "toc_section_display": true,
   "toc_window_display": false
  }
 },
 "nbformat": 4,
 "nbformat_minor": 2
}
