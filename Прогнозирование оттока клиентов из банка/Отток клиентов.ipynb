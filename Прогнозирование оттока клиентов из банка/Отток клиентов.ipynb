{
 "cells": [
  {
   "cell_type": "markdown",
   "metadata": {},
   "source": [
    "# Проектная работа  \"Отток клиентов\""
   ]
  },
  {
   "cell_type": "markdown",
   "metadata": {
    "toc": true
   },
   "source": [
    "<h1>Содержание<span class=\"tocSkip\"></span></h1>\n",
    "<div class=\"toc\"><ul class=\"toc-item\"><li><span><a href=\"#Цель-работы\" data-toc-modified-id=\"Цель-работы-1\">Цель работы</a></span></li><li><span><a href=\"#Подготовка-данных\" data-toc-modified-id=\"Подготовка-данных-2\">Подготовка данных</a></span><ul class=\"toc-item\"><li><span><a href=\"#Вывод:\" data-toc-modified-id=\"Вывод:-2.1\">Вывод:</a></span></li></ul></li><li><span><a href=\"#Исследование-задачи\" data-toc-modified-id=\"Исследование-задачи-3\">Исследование задачи</a></span><ul class=\"toc-item\"><li><ul class=\"toc-item\"><li><span><a href=\"#Дерево-решений-DecisionTreeClassifier\" data-toc-modified-id=\"Дерево-решений-DecisionTreeClassifier-3.0.1\">Дерево решений DecisionTreeClassifier</a></span></li><li><span><a href=\"#Логистическая-регрессия\" data-toc-modified-id=\"Логистическая-регрессия-3.0.2\">Логистическая регрессия</a></span></li><li><span><a href=\"#Случайный-лес-RandomForestClassifier\" data-toc-modified-id=\"Случайный-лес-RandomForestClassifier-3.0.3\">Случайный лес RandomForestClassifier</a></span></li></ul></li><li><span><a href=\"#Вывод:\" data-toc-modified-id=\"Вывод:-3.1\">Вывод:</a></span></li></ul></li><li><span><a href=\"#Борьба-с-дисбалансом\" data-toc-modified-id=\"Борьба-с-дисбалансом-4\">Борьба с дисбалансом</a></span><ul class=\"toc-item\"><li><span><a href=\"#Дерево-решений-DecisionTreeClassifier\" data-toc-modified-id=\"Дерево-решений-DecisionTreeClassifier-4.1\">Дерево решений DecisionTreeClassifier</a></span></li><li><span><a href=\"#Логистическая-регрессия\" data-toc-modified-id=\"Логистическая-регрессия-4.2\">Логистическая регрессия</a></span></li><li><span><a href=\"#Случайный-лес-RandomForestClassifier\" data-toc-modified-id=\"Случайный-лес-RandomForestClassifier-4.3\">Случайный лес RandomForestClassifier</a></span></li><li><span><a href=\"#Устранение-дисбаланса-с-помощью-уменьшения-выборки\" data-toc-modified-id=\"Устранение-дисбаланса-с-помощью-уменьшения-выборки-4.4\">Устранение дисбаланса с помощью уменьшения выборки</a></span><ul class=\"toc-item\"><li><span><a href=\"#Дерево-решений-DecisionTreeClassifier\" data-toc-modified-id=\"Дерево-решений-DecisionTreeClassifier-4.4.1\">Дерево решений DecisionTreeClassifier</a></span></li><li><span><a href=\"#Логистическая-регрессия\" data-toc-modified-id=\"Логистическая-регрессия-4.4.2\">Логистическая регрессия</a></span></li><li><span><a href=\"#Случайный-лес\" data-toc-modified-id=\"Случайный-лес-4.4.3\">Случайный лес</a></span></li></ul></li><li><span><a href=\"#Вывод:\" data-toc-modified-id=\"Вывод:-4.5\">Вывод:</a></span></li></ul></li><li><span><a href=\"#Тестирование-модели\" data-toc-modified-id=\"Тестирование-модели-5\">Тестирование модели</a></span></li><li><span><a href=\"#Вывод:\" data-toc-modified-id=\"Вывод:-6\">Вывод:</a></span></li><li><span><a href=\"#Чек-лист-готовности-проекта\" data-toc-modified-id=\"Чек-лист-готовности-проекта-7\">Чек-лист готовности проекта</a></span></li></ul></div>"
   ]
  },
  {
   "cell_type": "markdown",
   "metadata": {},
   "source": [
    "## Цель работы"
   ]
  },
  {
   "cell_type": "markdown",
   "metadata": {},
   "source": [
    "Нужно спрогнозировать, уйдёт клиент из банка в ближайшее время или нет на основании исторических данных.\n",
    "F1 нужно довести  до 0.59.\n",
    "\n",
    "Источник данных: [https://www.kaggle.com/barelydedicated/bank-customer-churn-modeling](https://www.kaggle.com/barelydedicated/bank-customer-churn-modeling)"
   ]
  },
  {
   "cell_type": "markdown",
   "metadata": {},
   "source": [
    "## Подготовка данных"
   ]
  },
  {
   "cell_type": "code",
   "execution_count": 2,
   "metadata": {},
   "outputs": [
    {
     "name": "stdout",
     "output_type": "stream",
     "text": [
      "Defaulting to user installation because normal site-packages is not writeable\n",
      "Collecting PrettyTable\n",
      "  Downloading prettytable-2.1.0-py3-none-any.whl (22 kB)\n",
      "Requirement already satisfied: importlib-metadata; python_version < \"3.8\" in /opt/conda/lib/python3.7/site-packages (from PrettyTable) (1.7.0)\n",
      "Requirement already satisfied: wcwidth in /opt/conda/lib/python3.7/site-packages (from PrettyTable) (0.2.5)\n",
      "Requirement already satisfied: zipp>=0.5 in /opt/conda/lib/python3.7/site-packages (from importlib-metadata; python_version < \"3.8\"->PrettyTable) (3.1.0)\n",
      "Installing collected packages: PrettyTable\n",
      "Successfully installed PrettyTable-2.1.0\n"
     ]
    }
   ],
   "source": [
    "!pip install PrettyTable\n",
    "# импорт основных библиотек\n",
    "import pandas as pd\n",
    "from sklearn.model_selection import train_test_split\n",
    "from sklearn.tree import DecisionTreeClassifier\n",
    "from sklearn.linear_model import LogisticRegression\n",
    "from sklearn.ensemble import RandomForestClassifier\n",
    "from sklearn.preprocessing import OrdinalEncoder\n",
    "from sklearn.metrics import accuracy_score\n",
    "from sklearn.metrics import confusion_matrix\n",
    "from sklearn.metrics import precision_score\n",
    "from sklearn.metrics import recall_score\n",
    "from sklearn.metrics import f1_score\n",
    "from sklearn.metrics import roc_curve \n",
    "import matplotlib.pyplot as plt\n",
    "from sklearn.metrics import roc_auc_score\n",
    "from sklearn.preprocessing import StandardScaler \n",
    "from sklearn.utils import shuffle\n",
    "import warnings\n",
    "warnings.filterwarnings(\"ignore\")\n",
    "import pickle\n",
    "from sklearn.externals.joblib import dump\n",
    "from sklearn.externals.joblib import load\n",
    "from pandas import Series\n",
    "from prettytable import PrettyTable\n",
    "\n",
    "#функции\n",
    "'''\n",
    "устранение дисбаланса с помощью техники upsampling\n",
    "'''\n",
    "def upsample(features, target, repeat):    \n",
    "    features_zeros = features[target == 0]\n",
    "    features_ones = features[target == 1]\n",
    "    target_zeros = target[target == 0]\n",
    "    target_ones = target[target == 1]\n",
    "    features_upsampled = pd.concat([features_zeros] + [features_ones] * repeat)\n",
    "    target_upsampled = pd.concat([target_zeros] + [target_ones] * repeat)\n",
    "    features_upsampled, target_upsampled=shuffle(features_upsampled, target_upsampled, random_state=12345)\n",
    "    return features_upsampled, target_upsampled\n",
    "\n",
    "'''\n",
    "устранение дисбаланса с помощью техники downsampling\n",
    "'''\n",
    "\n",
    "def downsample(features, target, fraction):\n",
    "    features_zeros = features[target == 0]\n",
    "    features_ones = features[target == 1]\n",
    "    target_zeros = target[target == 0]\n",
    "    target_ones = target[target == 1]\n",
    "\n",
    "    features_downsampled = pd.concat(\n",
    "        [features_zeros.sample(frac=fraction, random_state=12345)] + [features_ones])\n",
    "    target_downsampled = pd.concat(\n",
    "        [target_zeros.sample(frac=fraction, random_state=12345)] + [target_ones])\n",
    "    \n",
    "    features_downsampled, target_downsampled = shuffle(\n",
    "        features_downsampled, target_downsampled, random_state=12345)    \n",
    "    return features_downsampled, target_downsampled\n",
    "\n",
    "# построение ROC-кривых\n",
    "'''\n",
    "рисует 2 кривые: 1я - для модели до подбора гиперпараметров\n",
    "                 2я- для модели после подбора гиперпараметров\n",
    "'''\n",
    "\n",
    "\n",
    "def ROCCURVE_paint_Comp(model, ideal_model, features, target):\n",
    "    \n",
    "    probabilities_valid = ideal_model.predict_proba(features)\n",
    "    probabilities_one_valid = probabilities_valid[:, 1]\n",
    "    fpr, tpr, thresholds = roc_curve(target, probabilities_one_valid)\n",
    "    \n",
    "    probabilities_valid0 = model.predict_proba(features)\n",
    "    probabilities_one_valid0 = probabilities_valid0[:, 1]\n",
    "    fpr0, tpr0, thresholds0 = roc_curve(target, probabilities_one_valid0)\n",
    "    \n",
    "    plt.figure()\n",
    "  \n",
    "    plt.plot(fpr, tpr, label='Улучшенная модель')\n",
    "    \n",
    "    plt.plot(fpr0, tpr0,linestyle=':',label='Обычная модель')\n",
    "   \n",
    "    plt.legend()\n",
    "    \n",
    "    plt.plot([0, 1], [0, 1], linestyle='--')\n",
    "    plt.xlim([0.0,1.0])\n",
    "    plt.ylim([0.0,1.0])\n",
    "    plt.xlabel(\"False Positive Rate\")\n",
    "    plt.ylabel(\"True Positive Rate\")\n",
    "    plt.title(\"ROC-кривая\")\n",
    "    plt.show()\n",
    "#-----------------------------------------------------------------------------------------------------------------------------\n",
    "'''\n",
    "рисует ROC кривую для заданной модели\n",
    "'''\n",
    "\n",
    "def ROCCURVE_paint_Standart(model, features, target):\n",
    "    \n",
    "    probabilities_valid = model.predict_proba(features)\n",
    "    probabilities_one_valid = probabilities_valid[:, 1]\n",
    "    fpr, tpr, thresholds = roc_curve(target, probabilities_one_valid)     \n",
    "    \n",
    "    plt.figure()\n",
    "    \n",
    "    plt.plot(fpr, tpr)\n",
    "    \n",
    "    plt.plot([0, 1], [0, 1], linestyle='--')\n",
    "    plt.xlim([0.0,1.0])\n",
    "    plt.ylim([0.0,1.0])\n",
    "    plt.xlabel(\"False Positive Rate\")\n",
    "    plt.ylabel(\"True Positive Rate\")\n",
    "    plt.title(\"ROC-кривая\")\n",
    "    plt.show()\n",
    "    \n",
    "#-----------------------------------------------------------------------------------------------------------------------------\n",
    "'''\n",
    "функции подбора гиперпараметров\n",
    "\n",
    "для экономии времени работы начальные параметры задавались на основе результатов прошлых экспериментов\n",
    "\n",
    "'''\n",
    "\n",
    "def FindIdealRandomForest(model0, f1_0, features_train, target_train,features_valid, target_valid,weight):\n",
    "    \n",
    "    ideal_model=model0\n",
    "    f1=f1_0\n",
    "\n",
    "    for ideal_depth in range(5,30,1):\n",
    "        for ideal_est in range(110,130,1):\n",
    "            model=RandomForestClassifier(random_state=12345, max_depth=ideal_depth, n_estimators=ideal_est,class_weight=weight)\n",
    "            model.fit(features_train, target_train)\n",
    "            f1=f1_score(target_valid,model.predict(features_valid))\n",
    "            if (f1>f1_0):\n",
    "                ideal_model=model\n",
    "                f1_0=f1\n",
    "    return ideal_model\n",
    "\n",
    "#------------------------------------------------------------------------------------------------------------------------------\n",
    "def FindIdealDecisionTree(model0, f1_0,features_train, target_train,features_valid, target_valid, weight):\n",
    "    \n",
    "    ideal_model=model0\n",
    "    f1=f1_0\n",
    "\n",
    "    for ideal_depth in range(5,25,1):\n",
    "        for ideal_msl in range(10,40,1):\n",
    "            model=DecisionTreeClassifier(random_state=12345, max_depth=ideal_depth,min_samples_leaf=ideal_msl, class_weight=weight)\n",
    "            model.fit(features_train, target_train)\n",
    "            f1=f1_score(target_valid,model.predict(features_valid))\n",
    "            if (f1>f1_0):\n",
    "                ideal_model=model\n",
    "                f1_0=f1\n",
    "    return ideal_model"
   ]
  },
  {
   "cell_type": "markdown",
   "metadata": {},
   "source": [
    "Создадим DataFrame  churn  и загрузим в него данные из файла Churn_Modelling.csv."
   ]
  },
  {
   "cell_type": "code",
   "execution_count": 3,
   "metadata": {},
   "outputs": [
    {
     "name": "stdout",
     "output_type": "stream",
     "text": [
      "Размеры таблицы: (10000, 14)\n"
     ]
    }
   ],
   "source": [
    "churn=pd.read_csv('/datasets/Churn.csv', sep=',')\n",
    "print('Размеры таблицы:', churn.shape)"
   ]
  },
  {
   "cell_type": "markdown",
   "metadata": {},
   "source": [
    "Выведем первые 10 строк таблицы:"
   ]
  },
  {
   "cell_type": "code",
   "execution_count": 4,
   "metadata": {},
   "outputs": [
    {
     "data": {
      "text/html": [
       "<div>\n",
       "<style scoped>\n",
       "    .dataframe tbody tr th:only-of-type {\n",
       "        vertical-align: middle;\n",
       "    }\n",
       "\n",
       "    .dataframe tbody tr th {\n",
       "        vertical-align: top;\n",
       "    }\n",
       "\n",
       "    .dataframe thead th {\n",
       "        text-align: right;\n",
       "    }\n",
       "</style>\n",
       "<table border=\"1\" class=\"dataframe\">\n",
       "  <thead>\n",
       "    <tr style=\"text-align: right;\">\n",
       "      <th></th>\n",
       "      <th>RowNumber</th>\n",
       "      <th>CustomerId</th>\n",
       "      <th>Surname</th>\n",
       "      <th>CreditScore</th>\n",
       "      <th>Geography</th>\n",
       "      <th>Gender</th>\n",
       "      <th>Age</th>\n",
       "      <th>Tenure</th>\n",
       "      <th>Balance</th>\n",
       "      <th>NumOfProducts</th>\n",
       "      <th>HasCrCard</th>\n",
       "      <th>IsActiveMember</th>\n",
       "      <th>EstimatedSalary</th>\n",
       "      <th>Exited</th>\n",
       "    </tr>\n",
       "  </thead>\n",
       "  <tbody>\n",
       "    <tr>\n",
       "      <td>0</td>\n",
       "      <td>1</td>\n",
       "      <td>15634602</td>\n",
       "      <td>Hargrave</td>\n",
       "      <td>619</td>\n",
       "      <td>France</td>\n",
       "      <td>Female</td>\n",
       "      <td>42</td>\n",
       "      <td>2.0</td>\n",
       "      <td>0.00</td>\n",
       "      <td>1</td>\n",
       "      <td>1</td>\n",
       "      <td>1</td>\n",
       "      <td>101348.88</td>\n",
       "      <td>1</td>\n",
       "    </tr>\n",
       "    <tr>\n",
       "      <td>1</td>\n",
       "      <td>2</td>\n",
       "      <td>15647311</td>\n",
       "      <td>Hill</td>\n",
       "      <td>608</td>\n",
       "      <td>Spain</td>\n",
       "      <td>Female</td>\n",
       "      <td>41</td>\n",
       "      <td>1.0</td>\n",
       "      <td>83807.86</td>\n",
       "      <td>1</td>\n",
       "      <td>0</td>\n",
       "      <td>1</td>\n",
       "      <td>112542.58</td>\n",
       "      <td>0</td>\n",
       "    </tr>\n",
       "    <tr>\n",
       "      <td>2</td>\n",
       "      <td>3</td>\n",
       "      <td>15619304</td>\n",
       "      <td>Onio</td>\n",
       "      <td>502</td>\n",
       "      <td>France</td>\n",
       "      <td>Female</td>\n",
       "      <td>42</td>\n",
       "      <td>8.0</td>\n",
       "      <td>159660.80</td>\n",
       "      <td>3</td>\n",
       "      <td>1</td>\n",
       "      <td>0</td>\n",
       "      <td>113931.57</td>\n",
       "      <td>1</td>\n",
       "    </tr>\n",
       "    <tr>\n",
       "      <td>3</td>\n",
       "      <td>4</td>\n",
       "      <td>15701354</td>\n",
       "      <td>Boni</td>\n",
       "      <td>699</td>\n",
       "      <td>France</td>\n",
       "      <td>Female</td>\n",
       "      <td>39</td>\n",
       "      <td>1.0</td>\n",
       "      <td>0.00</td>\n",
       "      <td>2</td>\n",
       "      <td>0</td>\n",
       "      <td>0</td>\n",
       "      <td>93826.63</td>\n",
       "      <td>0</td>\n",
       "    </tr>\n",
       "    <tr>\n",
       "      <td>4</td>\n",
       "      <td>5</td>\n",
       "      <td>15737888</td>\n",
       "      <td>Mitchell</td>\n",
       "      <td>850</td>\n",
       "      <td>Spain</td>\n",
       "      <td>Female</td>\n",
       "      <td>43</td>\n",
       "      <td>2.0</td>\n",
       "      <td>125510.82</td>\n",
       "      <td>1</td>\n",
       "      <td>1</td>\n",
       "      <td>1</td>\n",
       "      <td>79084.10</td>\n",
       "      <td>0</td>\n",
       "    </tr>\n",
       "    <tr>\n",
       "      <td>5</td>\n",
       "      <td>6</td>\n",
       "      <td>15574012</td>\n",
       "      <td>Chu</td>\n",
       "      <td>645</td>\n",
       "      <td>Spain</td>\n",
       "      <td>Male</td>\n",
       "      <td>44</td>\n",
       "      <td>8.0</td>\n",
       "      <td>113755.78</td>\n",
       "      <td>2</td>\n",
       "      <td>1</td>\n",
       "      <td>0</td>\n",
       "      <td>149756.71</td>\n",
       "      <td>1</td>\n",
       "    </tr>\n",
       "    <tr>\n",
       "      <td>6</td>\n",
       "      <td>7</td>\n",
       "      <td>15592531</td>\n",
       "      <td>Bartlett</td>\n",
       "      <td>822</td>\n",
       "      <td>France</td>\n",
       "      <td>Male</td>\n",
       "      <td>50</td>\n",
       "      <td>7.0</td>\n",
       "      <td>0.00</td>\n",
       "      <td>2</td>\n",
       "      <td>1</td>\n",
       "      <td>1</td>\n",
       "      <td>10062.80</td>\n",
       "      <td>0</td>\n",
       "    </tr>\n",
       "    <tr>\n",
       "      <td>7</td>\n",
       "      <td>8</td>\n",
       "      <td>15656148</td>\n",
       "      <td>Obinna</td>\n",
       "      <td>376</td>\n",
       "      <td>Germany</td>\n",
       "      <td>Female</td>\n",
       "      <td>29</td>\n",
       "      <td>4.0</td>\n",
       "      <td>115046.74</td>\n",
       "      <td>4</td>\n",
       "      <td>1</td>\n",
       "      <td>0</td>\n",
       "      <td>119346.88</td>\n",
       "      <td>1</td>\n",
       "    </tr>\n",
       "    <tr>\n",
       "      <td>8</td>\n",
       "      <td>9</td>\n",
       "      <td>15792365</td>\n",
       "      <td>He</td>\n",
       "      <td>501</td>\n",
       "      <td>France</td>\n",
       "      <td>Male</td>\n",
       "      <td>44</td>\n",
       "      <td>4.0</td>\n",
       "      <td>142051.07</td>\n",
       "      <td>2</td>\n",
       "      <td>0</td>\n",
       "      <td>1</td>\n",
       "      <td>74940.50</td>\n",
       "      <td>0</td>\n",
       "    </tr>\n",
       "    <tr>\n",
       "      <td>9</td>\n",
       "      <td>10</td>\n",
       "      <td>15592389</td>\n",
       "      <td>H?</td>\n",
       "      <td>684</td>\n",
       "      <td>France</td>\n",
       "      <td>Male</td>\n",
       "      <td>27</td>\n",
       "      <td>2.0</td>\n",
       "      <td>134603.88</td>\n",
       "      <td>1</td>\n",
       "      <td>1</td>\n",
       "      <td>1</td>\n",
       "      <td>71725.73</td>\n",
       "      <td>0</td>\n",
       "    </tr>\n",
       "  </tbody>\n",
       "</table>\n",
       "</div>"
      ],
      "text/plain": [
       "   RowNumber  CustomerId   Surname  CreditScore Geography  Gender  Age  \\\n",
       "0          1    15634602  Hargrave          619    France  Female   42   \n",
       "1          2    15647311      Hill          608     Spain  Female   41   \n",
       "2          3    15619304      Onio          502    France  Female   42   \n",
       "3          4    15701354      Boni          699    France  Female   39   \n",
       "4          5    15737888  Mitchell          850     Spain  Female   43   \n",
       "5          6    15574012       Chu          645     Spain    Male   44   \n",
       "6          7    15592531  Bartlett          822    France    Male   50   \n",
       "7          8    15656148    Obinna          376   Germany  Female   29   \n",
       "8          9    15792365        He          501    France    Male   44   \n",
       "9         10    15592389        H?          684    France    Male   27   \n",
       "\n",
       "   Tenure    Balance  NumOfProducts  HasCrCard  IsActiveMember  \\\n",
       "0     2.0       0.00              1          1               1   \n",
       "1     1.0   83807.86              1          0               1   \n",
       "2     8.0  159660.80              3          1               0   \n",
       "3     1.0       0.00              2          0               0   \n",
       "4     2.0  125510.82              1          1               1   \n",
       "5     8.0  113755.78              2          1               0   \n",
       "6     7.0       0.00              2          1               1   \n",
       "7     4.0  115046.74              4          1               0   \n",
       "8     4.0  142051.07              2          0               1   \n",
       "9     2.0  134603.88              1          1               1   \n",
       "\n",
       "   EstimatedSalary  Exited  \n",
       "0        101348.88       1  \n",
       "1        112542.58       0  \n",
       "2        113931.57       1  \n",
       "3         93826.63       0  \n",
       "4         79084.10       0  \n",
       "5        149756.71       1  \n",
       "6         10062.80       0  \n",
       "7        119346.88       1  \n",
       "8         74940.50       0  \n",
       "9         71725.73       0  "
      ]
     },
     "execution_count": 4,
     "metadata": {},
     "output_type": "execute_result"
    }
   ],
   "source": [
    "churn.head(10)"
   ]
  },
  {
   "cell_type": "markdown",
   "metadata": {},
   "source": [
    "Выведем основную информацию:"
   ]
  },
  {
   "cell_type": "code",
   "execution_count": 5,
   "metadata": {},
   "outputs": [
    {
     "name": "stdout",
     "output_type": "stream",
     "text": [
      "<class 'pandas.core.frame.DataFrame'>\n",
      "RangeIndex: 10000 entries, 0 to 9999\n",
      "Data columns (total 14 columns):\n",
      "RowNumber          10000 non-null int64\n",
      "CustomerId         10000 non-null int64\n",
      "Surname            10000 non-null object\n",
      "CreditScore        10000 non-null int64\n",
      "Geography          10000 non-null object\n",
      "Gender             10000 non-null object\n",
      "Age                10000 non-null int64\n",
      "Tenure             9091 non-null float64\n",
      "Balance            10000 non-null float64\n",
      "NumOfProducts      10000 non-null int64\n",
      "HasCrCard          10000 non-null int64\n",
      "IsActiveMember     10000 non-null int64\n",
      "EstimatedSalary    10000 non-null float64\n",
      "Exited             10000 non-null int64\n",
      "dtypes: float64(3), int64(8), object(3)\n",
      "memory usage: 1.1+ MB\n"
     ]
    }
   ],
   "source": [
    "churn.info()"
   ]
  },
  {
   "cell_type": "markdown",
   "metadata": {},
   "source": [
    "Наша таблица содержит следующую информацию:\n",
    "\n",
    "•\tRowNumber — индекс строки в данных\n",
    "\n",
    "•\tCustomerId — уникальный идентификатор клиента\n",
    "\n",
    "•\tSurname — фамилия\n",
    "\n",
    "•\tCreditScore — кредитный рейтинг\n",
    "\n",
    "•\tGeography — страна проживания\n",
    "\n",
    "•\tGender — пол\n",
    "\n",
    "•\tAge — возраст\n",
    "\n",
    "•\tTenure — сколько лет человек является клиентом банка\n",
    "\n",
    "•\tBalance — баланс на счёте\n",
    "\n",
    "•\tNumOfProducts — количество продуктов банка, используемых клиентом\n",
    "\n",
    "•\tHasCrCard — наличие кредитной карты\n",
    "\n",
    "•\tIsActiveMember — активность клиента\n",
    "\n",
    "•\tEstimatedSalary — предполагаемая зарплата\n",
    "\n",
    "•\tExited — факт ухода клиента\n",
    "\n",
    "В поле Tenure (сколько лет человек является клиентом банка) есть пропуски, заполним их 0.\n"
   ]
  },
  {
   "cell_type": "code",
   "execution_count": 6,
   "metadata": {},
   "outputs": [],
   "source": [
    "churn=churn.fillna(0)"
   ]
  },
  {
   "cell_type": "markdown",
   "metadata": {},
   "source": [
    "Поля Surname и CustomerId не являются важными признаками при прогнозе поведения клиента, поэтому их в переменную с признаками не включаем. Поля Gender и Geography преобразуем с помощью техник OHE (Gender) и порядкового кодирования(Geography). Новый data frame назовем churn_upd."
   ]
  },
  {
   "cell_type": "code",
   "execution_count": 7,
   "metadata": {},
   "outputs": [
    {
     "data": {
      "text/html": [
       "<div>\n",
       "<style scoped>\n",
       "    .dataframe tbody tr th:only-of-type {\n",
       "        vertical-align: middle;\n",
       "    }\n",
       "\n",
       "    .dataframe tbody tr th {\n",
       "        vertical-align: top;\n",
       "    }\n",
       "\n",
       "    .dataframe thead th {\n",
       "        text-align: right;\n",
       "    }\n",
       "</style>\n",
       "<table border=\"1\" class=\"dataframe\">\n",
       "  <thead>\n",
       "    <tr style=\"text-align: right;\">\n",
       "      <th></th>\n",
       "      <th>CreditScore</th>\n",
       "      <th>Geography</th>\n",
       "      <th>Age</th>\n",
       "      <th>Tenure</th>\n",
       "      <th>Balance</th>\n",
       "      <th>NumOfProducts</th>\n",
       "      <th>HasCrCard</th>\n",
       "      <th>IsActiveMember</th>\n",
       "      <th>EstimatedSalary</th>\n",
       "      <th>Exited</th>\n",
       "      <th>Gender_Male</th>\n",
       "    </tr>\n",
       "  </thead>\n",
       "  <tbody>\n",
       "    <tr>\n",
       "      <td>0</td>\n",
       "      <td>619</td>\n",
       "      <td>0.0</td>\n",
       "      <td>42</td>\n",
       "      <td>2.0</td>\n",
       "      <td>0.00</td>\n",
       "      <td>1</td>\n",
       "      <td>1</td>\n",
       "      <td>1</td>\n",
       "      <td>101348.88</td>\n",
       "      <td>1</td>\n",
       "      <td>0</td>\n",
       "    </tr>\n",
       "    <tr>\n",
       "      <td>1</td>\n",
       "      <td>608</td>\n",
       "      <td>2.0</td>\n",
       "      <td>41</td>\n",
       "      <td>1.0</td>\n",
       "      <td>83807.86</td>\n",
       "      <td>1</td>\n",
       "      <td>0</td>\n",
       "      <td>1</td>\n",
       "      <td>112542.58</td>\n",
       "      <td>0</td>\n",
       "      <td>0</td>\n",
       "    </tr>\n",
       "    <tr>\n",
       "      <td>2</td>\n",
       "      <td>502</td>\n",
       "      <td>0.0</td>\n",
       "      <td>42</td>\n",
       "      <td>8.0</td>\n",
       "      <td>159660.80</td>\n",
       "      <td>3</td>\n",
       "      <td>1</td>\n",
       "      <td>0</td>\n",
       "      <td>113931.57</td>\n",
       "      <td>1</td>\n",
       "      <td>0</td>\n",
       "    </tr>\n",
       "    <tr>\n",
       "      <td>3</td>\n",
       "      <td>699</td>\n",
       "      <td>0.0</td>\n",
       "      <td>39</td>\n",
       "      <td>1.0</td>\n",
       "      <td>0.00</td>\n",
       "      <td>2</td>\n",
       "      <td>0</td>\n",
       "      <td>0</td>\n",
       "      <td>93826.63</td>\n",
       "      <td>0</td>\n",
       "      <td>0</td>\n",
       "    </tr>\n",
       "    <tr>\n",
       "      <td>4</td>\n",
       "      <td>850</td>\n",
       "      <td>2.0</td>\n",
       "      <td>43</td>\n",
       "      <td>2.0</td>\n",
       "      <td>125510.82</td>\n",
       "      <td>1</td>\n",
       "      <td>1</td>\n",
       "      <td>1</td>\n",
       "      <td>79084.10</td>\n",
       "      <td>0</td>\n",
       "      <td>0</td>\n",
       "    </tr>\n",
       "  </tbody>\n",
       "</table>\n",
       "</div>"
      ],
      "text/plain": [
       "   CreditScore  Geography  Age  Tenure    Balance  NumOfProducts  HasCrCard  \\\n",
       "0          619        0.0   42     2.0       0.00              1          1   \n",
       "1          608        2.0   41     1.0   83807.86              1          0   \n",
       "2          502        0.0   42     8.0  159660.80              3          1   \n",
       "3          699        0.0   39     1.0       0.00              2          0   \n",
       "4          850        2.0   43     2.0  125510.82              1          1   \n",
       "\n",
       "   IsActiveMember  EstimatedSalary  Exited  Gender_Male  \n",
       "0               1        101348.88       1            0  \n",
       "1               1        112542.58       0            0  \n",
       "2               0        113931.57       1            0  \n",
       "3               0         93826.63       0            0  \n",
       "4               1         79084.10       0            0  "
      ]
     },
     "execution_count": 7,
     "metadata": {},
     "output_type": "execute_result"
    }
   ],
   "source": [
    "# скопируем исходный data frame  в новый\n",
    "churn_upd=churn.copy()\n",
    "\n",
    "# удалим столбцы с фамилией и ID\n",
    "churn_upd=churn_upd.drop(['CustomerId','Surname', 'RowNumber'],1)\n",
    "\n",
    "# техникой OHE преобразуем столбец Gender\n",
    "\n",
    "churn_upd=pd.get_dummies(data=churn_upd, columns=['Gender'], drop_first=True)\n",
    "\n",
    "# прямым кодированием преобразуем столбец Geography \n",
    "\n",
    "encoder=OrdinalEncoder()\n",
    "\n",
    "encoder.fit(churn_upd[['Geography']])\n",
    "\n",
    "churn_upd['Geography']=pd.DataFrame(encoder.transform(churn_upd[['Geography']]))\n",
    "\n",
    "churn_upd.head(5)\n"
   ]
  },
  {
   "cell_type": "markdown",
   "metadata": {},
   "source": [
    "Создадим переменные с целевым и категориальными признаками, затем разделим наши выборки на обучающую и валидационную:"
   ]
  },
  {
   "cell_type": "code",
   "execution_count": 8,
   "metadata": {},
   "outputs": [],
   "source": [
    "features=churn_upd.drop('Exited', axis=1)\n",
    "target=churn_upd['Exited']\n"
   ]
  },
  {
   "cell_type": "markdown",
   "metadata": {},
   "source": [
    "Масштабируем признаки:"
   ]
  },
  {
   "cell_type": "code",
   "execution_count": 9,
   "metadata": {},
   "outputs": [],
   "source": [
    "pd.options.mode.chained_assignment = None\n",
    "\n",
    "scaler = StandardScaler()\n",
    "\n",
    "scaler.fit(features)\n",
    "\n",
    "features_train, features_valid, target_train, target_valid = train_test_split(features, target, test_size=0.25, random_state=12345)\n"
   ]
  },
  {
   "cell_type": "markdown",
   "metadata": {},
   "source": [
    "Создадим константную модель для проверки наших моделей:"
   ]
  },
  {
   "cell_type": "code",
   "execution_count": 10,
   "metadata": {},
   "outputs": [],
   "source": [
    "model_1=pd.Series(0, index=target_valid.index)"
   ]
  },
  {
   "cell_type": "markdown",
   "metadata": {},
   "source": [
    "### Вывод:\n",
    "На данном этапе мы загрузили файл с данными о поведении клиентов. В нашем распоряжении 10000 записей с данными о зарплате, банковском балансе, возрасте, активности и т.п. В поле Tenure  есть 909 пропусков, их заполнять не будем, оставим их для будущей модели. Данные о фамилии и ID клиента нам для обучения не нужны, поэтому от них можно избавится, а данные о поле и стране проживания были преобразованы в числовые. После всех преобразований данные были масштабированы, это поможет избежать ситуации, когда большим числовым значениям придается больший вес при вычислениях."
   ]
  },
  {
   "cell_type": "markdown",
   "metadata": {},
   "source": [
    "## Исследование задачи"
   ]
  },
  {
   "cell_type": "markdown",
   "metadata": {},
   "source": [
    "В данной задаче нам нужно понять, уйдет ли клиент из банка в ближайшее время или нет. Это задача бинарной классификации(предсказать 0 или 1), соответвенно модели также будут использоваться для классификации: дерево решений, случайный лес и логистическая регрессия.\n",
    "Проверим как соотносятся между собой число ушедших и число оставшихся клиентов."
   ]
  },
  {
   "cell_type": "code",
   "execution_count": 11,
   "metadata": {},
   "outputs": [
    {
     "data": {
      "text/plain": [
       "<matplotlib.axes._subplots.AxesSubplot at 0x7f8a95105f50>"
      ]
     },
     "execution_count": 11,
     "metadata": {},
     "output_type": "execute_result"
    },
    {
     "data": {
      "image/png": "[encoded data removed]",
      "text/plain": [
       "<Figure size 432x288 with 1 Axes>"
      ]
     },
     "metadata": {
      "needs_background": "light"
     },
     "output_type": "display_data"
    }
   ],
   "source": [
    "exit_frequency=churn['Exited'].value_counts(normalize=True)\n",
    "exit_frequency.plot(kind='bar', label='Соотношение оставшихся 0 и ушедших 1 клиентов', legend=True)"
   ]
  },
  {
   "cell_type": "markdown",
   "metadata": {},
   "source": [
    "Заметно, что число оставшихся клиентов выше, чем число ушедших в 4 раза."
   ]
  },
  {
   "cell_type": "markdown",
   "metadata": {},
   "source": [
    "Построим модели для предсказаний оттока без учета дисбаланса классов."
   ]
  },
  {
   "cell_type": "markdown",
   "metadata": {},
   "source": [
    "#### Дерево решений DecisionTreeClassifier"
   ]
  },
  {
   "cell_type": "markdown",
   "metadata": {},
   "source": [
    "Построим дерево решений"
   ]
  },
  {
   "cell_type": "code",
   "execution_count": 12,
   "metadata": {},
   "outputs": [
    {
     "name": "stdout",
     "output_type": "stream",
     "text": [
      "Точность accuracy дерева решений: 0.768\n",
      "Точность дерева решений: 0.4584103512014787\n",
      "Полнота дерева решений: 0.4635514018691589\n",
      "F1 дерева решений: 0.46096654275092935\n"
     ]
    }
   ],
   "source": [
    "DTreeModel=DecisionTreeClassifier(random_state=12345, class_weight=None)\n",
    "DTreeModel.fit(features_train, target_train)\n",
    "prediction=DTreeModel.predict(features_valid)\n",
    "\n",
    "print('Точность accuracy дерева решений:',accuracy_score(target_valid, prediction))\n",
    "print('Точность дерева решений:',precision_score(target_valid, prediction))\n",
    "print('Полнота дерева решений:',recall_score(target_valid, prediction))\n",
    "print('F1 дерева решений:',f1_score(target_valid, prediction))"
   ]
  },
  {
   "cell_type": "markdown",
   "metadata": {},
   "source": [
    "Попробуем улучшить показатель F1 с помощью подбора гиперпараметров:"
   ]
  },
  {
   "cell_type": "code",
   "execution_count": 13,
   "metadata": {},
   "outputs": [],
   "source": [
    "IdealTree=FindIdealDecisionTree(DTreeModel,f1_score(target_valid, prediction),features_train, target_train,features_valid, target_valid,None)"
   ]
  },
  {
   "cell_type": "markdown",
   "metadata": {},
   "source": [
    "Результаты после подбора гиперпараметров:"
   ]
  },
  {
   "cell_type": "code",
   "execution_count": 14,
   "metadata": {},
   "outputs": [
    {
     "name": "stdout",
     "output_type": "stream",
     "text": [
      "Точность accuracy идеального дерева решений: 0.8504\n",
      "Точность идеального дерева решений: 0.7280453257790368\n",
      "Полнота идеального дерева решений: 0.4803738317757009\n",
      "F1 идеального дерева решений: 0.5788288288288288\n",
      "Параметры идеального дерева решений:\n",
      "Глубина: 11\n",
      "Количество листьев: 31\n"
     ]
    }
   ],
   "source": [
    "print('Точность accuracy идеального дерева решений:',accuracy_score(target_valid, IdealTree.predict(features_valid)))\n",
    "\n",
    "print('Точность идеального дерева решений:',precision_score(target_valid, IdealTree.predict(features_valid)))\n",
    "print('Полнота идеального дерева решений:',recall_score(target_valid, IdealTree.predict(features_valid)))\n",
    "print('F1 идеального дерева решений:',f1_score(target_valid, IdealTree.predict(features_valid)))\n",
    "\n",
    "print('Параметры идеального дерева решений:')\n",
    "print('Глубина:',IdealTree.max_depth)\n",
    "print('Количество листьев:',IdealTree.min_samples_leaf)\n"
   ]
  },
  {
   "cell_type": "markdown",
   "metadata": {},
   "source": [
    "Построим ROC кривую для дерева решений:"
   ]
  },
  {
   "cell_type": "code",
   "execution_count": 15,
   "metadata": {},
   "outputs": [
    {
     "data": {
      "image/png": "[encoded data removed]",
      "text/plain": [
       "<Figure size 432x288 with 1 Axes>"
      ]
     },
     "metadata": {
      "needs_background": "light"
     },
     "output_type": "display_data"
    }
   ],
   "source": [
    "probabilities_valid = IdealTree.predict_proba(features_valid)\n",
    "ROCCURVE_paint_Comp(DTreeModel,IdealTree, features_valid, target_valid)"
   ]
  },
  {
   "cell_type": "code",
   "execution_count": 16,
   "metadata": {},
   "outputs": [
    {
     "name": "stdout",
     "output_type": "stream",
     "text": [
      "Площадь под кривой для идеальной модели: 0.831575943497182\n"
     ]
    }
   ],
   "source": [
    "auc_roc=roc_auc_score(target_valid, probabilities_valid[:, 1])\n",
    "print('Площадь под кривой для идеальной модели:',auc_roc)"
   ]
  },
  {
   "cell_type": "markdown",
   "metadata": {},
   "source": [
    "Проверим нашу модель на константной модели:"
   ]
  },
  {
   "cell_type": "code",
   "execution_count": 17,
   "metadata": {},
   "outputs": [
    {
     "name": "stdout",
     "output_type": "stream",
     "text": [
      "0.8588\n"
     ]
    }
   ],
   "source": [
    "adq_check=accuracy_score(model_1,IdealTree.predict(features_valid))\n",
    "print(adq_check)"
   ]
  },
  {
   "cell_type": "markdown",
   "metadata": {},
   "source": [
    "#### Логистическая регрессия"
   ]
  },
  {
   "cell_type": "markdown",
   "metadata": {},
   "source": [
    "Проверим какую точность покажет модель логистической регрессии."
   ]
  },
  {
   "cell_type": "code",
   "execution_count": 18,
   "metadata": {},
   "outputs": [
    {
     "name": "stdout",
     "output_type": "stream",
     "text": [
      "Точность логистической регрессии: 0.782\n"
     ]
    }
   ],
   "source": [
    "LRModel=LogisticRegression(random_state=12345, solver='liblinear',class_weight=None)\n",
    "LRModel.fit(features_train, target_train)\n",
    "prediction=LRModel.predict(features_valid)\n",
    "accuracy=accuracy_score(prediction,target_valid)\n",
    "print('Точность логистической регрессии:', round(accuracy,3))"
   ]
  },
  {
   "cell_type": "markdown",
   "metadata": {},
   "source": [
    "Найдем полноту, точность и метрику F1:"
   ]
  },
  {
   "cell_type": "code",
   "execution_count": 19,
   "metadata": {},
   "outputs": [
    {
     "name": "stdout",
     "output_type": "stream",
     "text": [
      "Точность логистической регресии: 0.4383561643835616\n",
      "Полнота логистической регрессии: 0.059813084112149535\n",
      "F1 логистической регрессии: 0.10526315789473685\n"
     ]
    }
   ],
   "source": [
    "print('Точность логистической регресии:',precision_score(target_valid, prediction))\n",
    "print('Полнота логистической регрессии:',recall_score(target_valid, prediction))\n",
    "print('F1 логистической регрессии:',f1_score(target_valid, prediction))"
   ]
  },
  {
   "cell_type": "markdown",
   "metadata": {},
   "source": [
    "Построим ROC кривую для логистической регрессии:"
   ]
  },
  {
   "cell_type": "code",
   "execution_count": 20,
   "metadata": {},
   "outputs": [
    {
     "data": {
      "image/png": "[encoded data removed]",
      "text/plain": [
       "<Figure size 432x288 with 1 Axes>"
      ]
     },
     "metadata": {
      "needs_background": "light"
     },
     "output_type": "display_data"
    },
    {
     "name": "stdout",
     "output_type": "stream",
     "text": [
      "Площадь под кривой для логистической регрессии: 0.6711336234572305\n"
     ]
    }
   ],
   "source": [
    "probabilities_valid = LRModel.predict_proba(features_valid)\n",
    "ROCCURVE_paint_Standart(LRModel, features_valid, target_valid)\n",
    "auc_roc=roc_auc_score(target_valid, probabilities_valid[:, 1])\n",
    "print('Площадь под кривой для логистической регрессии:',auc_roc) "
   ]
  },
  {
   "cell_type": "markdown",
   "metadata": {},
   "source": [
    "Проверим нашу модели на адекватность на константной модели:"
   ]
  },
  {
   "cell_type": "code",
   "execution_count": 21,
   "metadata": {},
   "outputs": [
    {
     "name": "stdout",
     "output_type": "stream",
     "text": [
      "0.9708\n"
     ]
    }
   ],
   "source": [
    "adq_check=accuracy_score(model_1,LRModel.predict(features_valid))\n",
    "print(adq_check)"
   ]
  },
  {
   "cell_type": "markdown",
   "metadata": {},
   "source": [
    "#### Случайный лес RandomForestClassifier"
   ]
  },
  {
   "cell_type": "markdown",
   "metadata": {},
   "source": [
    "Проверим какую точность покажет случайный лес:"
   ]
  },
  {
   "cell_type": "code",
   "execution_count": 22,
   "metadata": {},
   "outputs": [
    {
     "name": "stdout",
     "output_type": "stream",
     "text": [
      "Точность accuracy случайного леса: 0.851\n",
      "Точность cлучайного леса: 0.7587301587301587\n",
      "Полнота cлучайного леса: 0.44672897196261685\n",
      "F1 cлучайного леса: 0.5623529411764706\n"
     ]
    }
   ],
   "source": [
    "RandomForestModel=RandomForestClassifier(random_state=12345, n_estimators=100, class_weight=None)\n",
    "RandomForestModel.fit(features_train, target_train)\n",
    "prediction=RandomForestModel.predict(features_valid)\n",
    "accuracy=accuracy_score(prediction,target_valid)\n",
    "print('Точность accuracy случайного леса:', round(accuracy,3))\n",
    "print('Точность cлучайного леса:',precision_score(target_valid, prediction))\n",
    "print('Полнота cлучайного леса:',recall_score(target_valid, prediction))\n",
    "print('F1 cлучайного леса:',f1_score(target_valid, prediction))\n"
   ]
  },
  {
   "cell_type": "markdown",
   "metadata": {},
   "source": [
    "попробуем улучшить качество модели с помощью подбора гиперпараметров:"
   ]
  },
  {
   "cell_type": "code",
   "execution_count": 23,
   "metadata": {},
   "outputs": [
    {
     "name": "stdout",
     "output_type": "stream",
     "text": [
      "Параметры идеального леса:\n",
      "Глубина: 23\n",
      "Количество деревьев: 113\n",
      "Точность accuracy случайного леса: 0.857\n",
      "Точность cлучайного леса: 0.7774294670846394\n",
      "Полнота cлучайного леса: 0.4635514018691589\n",
      "F1 cлучайного леса: 0.5807962529274006\n"
     ]
    }
   ],
   "source": [
    "IdealForest=FindIdealRandomForest(RandomForestModel, f1_score(target_valid, prediction), features_train, target_train,features_valid, target_valid,None)\n",
    "\n",
    "print('Параметры идеального леса:')\n",
    "print('Глубина:',IdealForest.max_depth)\n",
    "print('Количество деревьев:',IdealForest.n_estimators)\n",
    "\n",
    "prediction=IdealForest.predict(features_valid)\n",
    "accuracy=accuracy_score(prediction,target_valid)\n",
    "\n",
    "print('Точность accuracy случайного леса:', round(accuracy,3))\n",
    "print('Точность cлучайного леса:',precision_score(target_valid, prediction))\n",
    "print('Полнота cлучайного леса:',recall_score(target_valid, prediction))\n",
    "print('F1 cлучайного леса:',f1_score(target_valid, prediction))\n"
   ]
  },
  {
   "cell_type": "markdown",
   "metadata": {},
   "source": [
    "Построим ROC кривую для идеальной и обычной моделей и найдем площадь под ней:"
   ]
  },
  {
   "cell_type": "code",
   "execution_count": 24,
   "metadata": {},
   "outputs": [
    {
     "data": {
      "image/png": "[encoded data removed]",
      "text/plain": [
       "<Figure size 432x288 with 1 Axes>"
      ]
     },
     "metadata": {
      "needs_background": "light"
     },
     "output_type": "display_data"
    },
    {
     "name": "stdout",
     "output_type": "stream",
     "text": [
      "Площадь под кривой для случайного леса: 0.8506313761860598\n"
     ]
    }
   ],
   "source": [
    "\n",
    "ROCCURVE_paint_Comp(RandomForestModel,IdealForest, features_valid, target_valid)\n",
    "\n",
    "probabilities_valid = IdealForest.predict_proba(features_valid)\n",
    "auc_roc=roc_auc_score(target_valid, probabilities_valid[:, 1])\n",
    "\n",
    "\n",
    "print('Площадь под кривой для случайного леса:',auc_roc)\n"
   ]
  },
  {
   "cell_type": "markdown",
   "metadata": {},
   "source": [
    "Проверим на константной модели:"
   ]
  },
  {
   "cell_type": "code",
   "execution_count": 25,
   "metadata": {},
   "outputs": [
    {
     "name": "stdout",
     "output_type": "stream",
     "text": [
      "0.8724\n"
     ]
    }
   ],
   "source": [
    "adq_check=accuracy_score(model_1,IdealForest.predict(features_valid))\n",
    "print(adq_check)"
   ]
  },
  {
   "cell_type": "markdown",
   "metadata": {},
   "source": [
    "### Вывод:\n",
    "На несбалансированной выборке дерево решений и случайный лес показали высокий коэффициент accuracy, который ранее являлся оценкой качества модели. После подбора гиперпараметров удалось улучшить показатели алгоритмов.Однако, при проверке на адекватность(предсказать одни 0) показатель accuracy у всех моделей оказался выше, чем при проверке на валидационной выборке. можно сделать вывод, что пока ни одна из моделей не является рабочей.\n"
   ]
  },
  {
   "cell_type": "markdown",
   "metadata": {},
   "source": [
    "## Борьба с дисбалансом"
   ]
  },
  {
   "cell_type": "markdown",
   "metadata": {},
   "source": [
    "Отрицательных классов в нашей выборке 80%, сбалансируем выборку с помощью техники upsampling, чтобы достигнуть соотношения 1:1 и проверим как меняются результы работы наших моделей."
   ]
  },
  {
   "cell_type": "code",
   "execution_count": 26,
   "metadata": {},
   "outputs": [
    {
     "data": {
      "text/plain": [
       "<matplotlib.axes._subplots.AxesSubplot at 0x7f8a948ed550>"
      ]
     },
     "execution_count": 26,
     "metadata": {},
     "output_type": "execute_result"
    },
    {
     "data": {
      "image/png": "[encoded data removed]",
      "text/plain": [
       "<Figure size 432x288 with 1 Axes>"
      ]
     },
     "metadata": {
      "needs_background": "light"
     },
     "output_type": "display_data"
    }
   ],
   "source": [
    "features_upsampled, target_upsampled = upsample(features_train, target_train, 4)\n",
    "exit_frequency=target_upsampled.value_counts(normalize=True)\n",
    "exit_frequency.plot(kind='bar', label='Соотношение оставшихся 0 и ушедших 1 клиентов', legend=True)\n"
   ]
  },
  {
   "cell_type": "markdown",
   "metadata": {},
   "source": [
    "Переобучим наши модели на сбалансированной с помощью upsampling техники выборке и посмотрим, какая из моделей покажет лучшие результаты:"
   ]
  },
  {
   "cell_type": "markdown",
   "metadata": {},
   "source": [
    "### Дерево решений DecisionTreeClassifier"
   ]
  },
  {
   "cell_type": "code",
   "execution_count": 27,
   "metadata": {},
   "outputs": [
    {
     "name": "stdout",
     "output_type": "stream",
     "text": [
      "Точность дерева решений: 0.448642266824085\n",
      "Полнота дерева решений: 0.7102803738317757\n",
      "F1 дерева решений: 0.5499276410998553\n"
     ]
    }
   ],
   "source": [
    "IdealTree.fit(features_upsampled, target_upsampled)\n",
    "prediction=IdealTree.predict(features_valid)\n",
    "                            \n",
    "print('Точность дерева решений:',precision_score(target_valid, prediction))\n",
    "print('Полнота дерева решений:',recall_score(target_valid, prediction))\n",
    "print('F1 дерева решений:',f1_score(target_valid, prediction))\n",
    "\n",
    "# сохраним параметры\n",
    "IT_depth=round(IdealTree.max_depth,3)\n",
    "IT_msl=round(IdealTree.min_samples_leaf,3)\n",
    "IT_prec=round(precision_score(target_valid, prediction),3)\n",
    "IT_recall=round(recall_score(target_valid, prediction),3)\n",
    "IT_f1=round(f1_score(target_valid, prediction),3)\n",
    "probabilities_valid = IdealTree.predict_proba(features_valid)\n",
    "IT_roc=round(roc_auc_score(target_valid, probabilities_valid[:,1]),3)\n"
   ]
  },
  {
   "cell_type": "markdown",
   "metadata": {},
   "source": [
    "Попробуем подобрать гиперпараметры, чтобы улучшить результаты:"
   ]
  },
  {
   "cell_type": "code",
   "execution_count": 28,
   "metadata": {},
   "outputs": [
    {
     "name": "stdout",
     "output_type": "stream",
     "text": [
      "Идеальная глубина 5\n",
      "Идеальное количество листьев 29\n",
      "Точность дерева решений: 0.5295774647887324\n",
      "Полнота дерева решений: 0.702803738317757\n",
      "F1 дерева решений: 0.604016064257028\n"
     ]
    }
   ],
   "source": [
    "IdealTreeUpd=FindIdealDecisionTree(IdealTree,f1_score(target_valid, prediction),features_upsampled, target_upsampled,features_valid, target_valid,'balanced')\n",
    "            \n",
    "print('Идеальная глубина', IdealTreeUpd.max_depth)\n",
    "print('Идеальное количество листьев', IdealTreeUpd.min_samples_leaf)\n",
    "\n",
    "print('Точность дерева решений:',precision_score(target_valid, IdealTreeUpd.predict(features_valid)))\n",
    "print('Полнота дерева решений:',recall_score(target_valid, IdealTreeUpd.predict(features_valid)))\n",
    "print('F1 дерева решений:',f1_score(target_valid, IdealTreeUpd.predict(features_valid)))\n",
    "\n",
    "# сохраним параметры\n",
    "ITU_depth=round(IdealTreeUpd.max_depth,3)\n",
    "ITU_msl=round(IdealTreeUpd.min_samples_leaf,3)\n",
    "ITU_prec=round(precision_score(target_valid, IdealTreeUpd.predict(features_valid)),3)\n",
    "ITU_recall=round(recall_score(target_valid, IdealTreeUpd.predict(features_valid)),3)\n",
    "ITU_f1=round(f1_score(target_valid, IdealTreeUpd.predict(features_valid)),3)\n",
    "probabilities_valid = IdealTreeUpd.predict_proba(features_valid)\n",
    "ITU_roc=round(roc_auc_score(target_valid, probabilities_valid[:,1]),3)\n"
   ]
  },
  {
   "cell_type": "code",
   "execution_count": 29,
   "metadata": {},
   "outputs": [
    {
     "data": {
      "image/png": "[encoded data removed]",
      "text/plain": [
       "<Figure size 432x288 with 1 Axes>"
      ]
     },
     "metadata": {
      "needs_background": "light"
     },
     "output_type": "display_data"
    },
    {
     "name": "stdout",
     "output_type": "stream",
     "text": [
      "Площадь под кривой для идеальной модели: 0.8438044279565291\n"
     ]
    }
   ],
   "source": [
    "probabilities_valid = IdealTreeUpd.predict_proba(features_valid)\n",
    "\n",
    "ROCCURVE_paint_Comp(IdealTreeUpd,IdealTree, features_valid, target_valid)\n",
    "\n",
    "auc_roc=roc_auc_score(target_valid, probabilities_valid[:,1])\n",
    "\n",
    "print('Площадь под кривой для идеальной модели:',auc_roc)"
   ]
  },
  {
   "cell_type": "markdown",
   "metadata": {},
   "source": [
    "### Логистическая регрессия"
   ]
  },
  {
   "cell_type": "markdown",
   "metadata": {},
   "source": [
    "Проверим работу логистической регресии на сбалансированной выборке"
   ]
  },
  {
   "cell_type": "code",
   "execution_count": 30,
   "metadata": {},
   "outputs": [
    {
     "name": "stdout",
     "output_type": "stream",
     "text": [
      "Точность логистической регресии: 0.3361188486536676\n",
      "Полнота логистической регрессии: 0.6766355140186916\n",
      "F1 логистической регрессии: 0.4491315136476427\n"
     ]
    }
   ],
   "source": [
    "LRModel.fit(features_upsampled, target_upsampled)\n",
    "prediction=LRModel.predict(features_valid)\n",
    "print('Точность логистической регресии:',precision_score(target_valid, prediction))\n",
    "print('Полнота логистической регрессии:',recall_score(target_valid, prediction))\n",
    "print('F1 логистической регрессии:',f1_score(target_valid, prediction))\n",
    "\n",
    "# сохраним параметры\n",
    "\n",
    "LR_prec=round(precision_score(target_valid, prediction),3)\n",
    "LR_recall=round(recall_score(target_valid, prediction),3)\n",
    "LR_f1=round(f1_score(target_valid, prediction),3)\n",
    "probabilities_valid = LRModel.predict_proba(features_valid)\n",
    "auc_roc=roc_auc_score(target_valid, probabilities_valid[:,1])\n",
    "LR_roc=round(roc_auc_score(target_valid, probabilities_valid[:,1]),3)"
   ]
  },
  {
   "cell_type": "markdown",
   "metadata": {},
   "source": [
    "ROC кривая логистической регрессии на сбалансированной выборке:"
   ]
  },
  {
   "cell_type": "code",
   "execution_count": 31,
   "metadata": {},
   "outputs": [
    {
     "data": {
      "image/png": "[encoded data removed]",
      "text/plain": [
       "<Figure size 432x288 with 1 Axes>"
      ]
     },
     "metadata": {
      "needs_background": "light"
     },
     "output_type": "display_data"
    },
    {
     "name": "stdout",
     "output_type": "stream",
     "text": [
      "Площадь под кривой для модели: 0.711\n"
     ]
    }
   ],
   "source": [
    "ROCCURVE_paint_Standart(LRModel, features_valid, target_valid)\n",
    "\n",
    "print('Площадь под кривой для модели:',LR_roc)"
   ]
  },
  {
   "cell_type": "markdown",
   "metadata": {},
   "source": [
    "### Случайный лес RandomForestClassifier"
   ]
  },
  {
   "cell_type": "code",
   "execution_count": 32,
   "metadata": {},
   "outputs": [
    {
     "name": "stdout",
     "output_type": "stream",
     "text": [
      "Точность леса: 0.6697459584295612\n",
      "Полнота леса: 0.5420560747663551\n",
      "F1 леса: 0.5991735537190083\n"
     ]
    }
   ],
   "source": [
    "IdealForest.fit(features_upsampled, target_upsampled)\n",
    "prediction=IdealForest.predict(features_valid)\n",
    "\n",
    "print('Точность леса:',precision_score(target_valid, prediction))\n",
    "print('Полнота леса:',recall_score(target_valid, prediction))\n",
    "print('F1 леса:',f1_score(target_valid, prediction))\n",
    "\n",
    "\n",
    "IF_depth=round(IdealForest.max_depth,3)\n",
    "IF_msl=round(IdealForest.min_samples_leaf,3)\n",
    "IF_nest=round(IdealForest.n_estimators,3)\n",
    "IF_prec=round(precision_score(target_valid, prediction),3)\n",
    "IF_recall=round(recall_score(target_valid, prediction),3)\n",
    "IF_f1=round(f1_score(target_valid, prediction),3)\n",
    "probabilities_valid = IdealForest.predict_proba(features_valid)\n",
    "IF_roc=round(roc_auc_score(target_valid, probabilities_valid[:,1]),3)"
   ]
  },
  {
   "cell_type": "code",
   "execution_count": 33,
   "metadata": {},
   "outputs": [
    {
     "name": "stdout",
     "output_type": "stream",
     "text": [
      "Идеальная глубина 9\n",
      "Идеальное количество деревьев 118\n",
      "Точность леса: 0.5560344827586207\n",
      "Полнота леса: 0.7233644859813084\n",
      "F1 леса: 0.628757108042242\n"
     ]
    }
   ],
   "source": [
    "IdealForestUpd=FindIdealRandomForest(IdealForest, f1_score(target_valid, IdealForest.predict(features_valid)), features_upsampled, target_upsampled,features_valid, target_valid,'balanced')            \n",
    "\n",
    "print('Идеальная глубина', IdealForestUpd.max_depth)\n",
    "print('Идеальное количество деревьев', IdealForestUpd.n_estimators)\n",
    "print('Точность леса:',precision_score(target_valid, IdealForestUpd.predict(features_valid)))\n",
    "print('Полнота леса:',recall_score(target_valid, IdealForestUpd.predict(features_valid)))\n",
    "print('F1 леса:',f1_score(target_valid, IdealForestUpd.predict(features_valid)))\n",
    "\n",
    "IFU_depth=round(IdealForestUpd.max_depth,3)\n",
    "IFU_msl=round(IdealForestUpd.min_samples_leaf,3)\n",
    "IFU_nest=round(IdealForestUpd.n_estimators,3)\n",
    "IFU_prec=round(precision_score(target_valid, IdealForestUpd.predict(features_valid)),3)\n",
    "IFU_recall=round(recall_score(target_valid, IdealForestUpd.predict(features_valid)),3)\n",
    "IFU_f1=round(f1_score(target_valid, IdealForestUpd.predict(features_valid)),3)\n",
    "probabilities_valid = IdealForestUpd.predict_proba(features_valid)\n",
    "IFU_roc=round(roc_auc_score(target_valid, probabilities_valid[:,1]),3)"
   ]
  },
  {
   "cell_type": "markdown",
   "metadata": {},
   "source": [
    "Построим ROc кривую для улучшенной модели"
   ]
  },
  {
   "cell_type": "code",
   "execution_count": 34,
   "metadata": {},
   "outputs": [
    {
     "data": {
      "image/png": "[encoded data removed]",
      "text/plain": [
       "<Figure size 432x288 with 1 Axes>"
      ]
     },
     "metadata": {
      "needs_background": "light"
     },
     "output_type": "display_data"
    },
    {
     "name": "stdout",
     "output_type": "stream",
     "text": [
      "Площадь под кривой для идеальной модели: 0.86\n"
     ]
    }
   ],
   "source": [
    "\n",
    "ROCCURVE_paint_Comp(IdealForest, IdealForestUpd, features_valid, target_valid)\n",
    "\n",
    "print('Площадь под кривой для идеальной модели:',IFU_roc)"
   ]
  },
  {
   "cell_type": "markdown",
   "metadata": {},
   "source": [
    "### Устранение дисбаланса с помощью уменьшения выборки"
   ]
  },
  {
   "cell_type": "markdown",
   "metadata": {},
   "source": [
    "Устраним дисбаланс с помощью уменьшения выборки"
   ]
  },
  {
   "cell_type": "code",
   "execution_count": 35,
   "metadata": {},
   "outputs": [],
   "source": [
    "features_downsampled, target_downsampled = downsample(features_train, target_train, 0.2)"
   ]
  },
  {
   "cell_type": "code",
   "execution_count": 36,
   "metadata": {},
   "outputs": [
    {
     "data": {
      "text/plain": [
       "<matplotlib.axes._subplots.AxesSubplot at 0x7f8a946e9290>"
      ]
     },
     "execution_count": 36,
     "metadata": {},
     "output_type": "execute_result"
    },
    {
     "data": {
      "image/png": "[encoded data removed]",
      "text/plain": [
       "<Figure size 432x288 with 1 Axes>"
      ]
     },
     "metadata": {
      "needs_background": "light"
     },
     "output_type": "display_data"
    }
   ],
   "source": [
    "exit_frequency=target_downsampled.value_counts(normalize=True)\n",
    "exit_frequency.plot(kind='bar', label='Соотношение оставшихся 0 и ушедших 1 клиентов', legend=True)"
   ]
  },
  {
   "cell_type": "markdown",
   "metadata": {},
   "source": [
    "Проверим работу моделей при таком соотношении классов"
   ]
  },
  {
   "cell_type": "markdown",
   "metadata": {},
   "source": [
    "#### Дерево решений DecisionTreeClassifier"
   ]
  },
  {
   "cell_type": "code",
   "execution_count": 37,
   "metadata": {},
   "outputs": [
    {
     "name": "stdout",
     "output_type": "stream",
     "text": [
      "Точность accuracy дерева решений: 0.77\n",
      "Точность дерева решений: 0.47596153846153844\n",
      "Полнота дерева решений: 0.7401869158878505\n",
      "F1 дерева решений: 0.5793708851499635\n"
     ]
    }
   ],
   "source": [
    "IdealTree=IdealTreeUpd\n",
    "IdealTree.fit(features_downsampled, target_downsampled)\n",
    "\n",
    "prediction=IdealTree.predict(features_valid)\n",
    "                            \n",
    "print('Точность accuracy дерева решений:',accuracy_score(target_valid, prediction))\n",
    "print('Точность дерева решений:',precision_score(target_valid, prediction))\n",
    "print('Полнота дерева решений:',recall_score(target_valid, prediction))\n",
    "print('F1 дерева решений:',f1_score(target_valid, prediction))\n",
    "\n",
    "ITD_depth=round(IdealTree.max_depth,3)\n",
    "ITD_msl=round(IdealTree.min_samples_leaf,3)\n",
    "ITD_prec=round(precision_score(target_valid, prediction),3)\n",
    "ITD_recall=round(recall_score(target_valid, prediction),3)\n",
    "ITD_f1=round(f1_score(target_valid, prediction),3)\n",
    "probabilities_valid = IdealTree.predict_proba(features_valid)\n",
    "ITD_roc=round(roc_auc_score(target_valid, probabilities_valid[:,1]),3)\n"
   ]
  },
  {
   "cell_type": "markdown",
   "metadata": {},
   "source": [
    "Попробуем подобрать гиперпараметры, чтобы улучшить метрики"
   ]
  },
  {
   "cell_type": "code",
   "execution_count": 38,
   "metadata": {},
   "outputs": [
    {
     "name": "stdout",
     "output_type": "stream",
     "text": [
      "Идеальная глубина 7\n",
      "Идеальное количество листьев 36\n",
      "Точность дерева решений: 0.5076530612244898\n",
      "Полнота дерева решений: 0.7439252336448599\n",
      "F1 дерева решений: 0.6034874905231236\n"
     ]
    }
   ],
   "source": [
    "IdealTreeUpd=FindIdealDecisionTree(IdealTree,f1_score(target_valid, prediction),features_downsampled, target_downsampled,features_valid, target_valid, 'balanced')\n",
    "\n",
    "print('Идеальная глубина', IdealTreeUpd.max_depth)\n",
    "print('Идеальное количество листьев', IdealTreeUpd.min_samples_leaf)\n",
    "\n",
    "print('Точность дерева решений:',precision_score(target_valid, IdealTreeUpd.predict(features_valid)))\n",
    "print('Полнота дерева решений:',recall_score(target_valid, IdealTreeUpd.predict(features_valid)))\n",
    "print('F1 дерева решений:',f1_score(target_valid, IdealTreeUpd.predict(features_valid)))\n",
    "\n",
    "ITUD_depth=round(IdealTreeUpd.max_depth,3)\n",
    "ITUD_msl=round(IdealTreeUpd.min_samples_leaf,3)\n",
    "ITUD_prec=round(precision_score(target_valid, IdealTreeUpd.predict(features_valid)),3)\n",
    "ITUD_recall=round(recall_score(target_valid, IdealTreeUpd.predict(features_valid)),3)\n",
    "ITUD_f1=round(f1_score(target_valid, IdealTreeUpd.predict(features_valid)),3)\n",
    "probabilities_valid = IdealTreeUpd.predict_proba(features_valid)\n",
    "ITUD_roc=round(roc_auc_score(target_valid, probabilities_valid[:,1]),3)\n"
   ]
  },
  {
   "cell_type": "code",
   "execution_count": 39,
   "metadata": {},
   "outputs": [
    {
     "data": {
      "image/png": "[encoded data removed]",
      "text/plain": [
       "<Figure size 432x288 with 1 Axes>"
      ]
     },
     "metadata": {
      "needs_background": "light"
     },
     "output_type": "display_data"
    },
    {
     "name": "stdout",
     "output_type": "stream",
     "text": [
      "Площадь под кривой для идеальной модели: 0.838\n"
     ]
    }
   ],
   "source": [
    "\n",
    "ROCCURVE_paint_Comp(IdealTree, IdealTreeUpd, features_valid, target_valid)\n",
    "print('Площадь под кривой для идеальной модели:',ITUD_roc)"
   ]
  },
  {
   "cell_type": "markdown",
   "metadata": {},
   "source": [
    "#### Логистическая регрессия"
   ]
  },
  {
   "cell_type": "markdown",
   "metadata": {},
   "source": [
    "Проверим работу логистической регрессии"
   ]
  },
  {
   "cell_type": "code",
   "execution_count": 51,
   "metadata": {},
   "outputs": [
    {
     "name": "stdout",
     "output_type": "stream",
     "text": [
      "Точность логистической регресии: 0.3074074074074074\n",
      "Полнота логистической регрессии: 0.7757009345794392\n",
      "F1 логистической регрессии: 0.44031830238726793\n"
     ]
    }
   ],
   "source": [
    "LRModel.fit(features_downsampled, target_downsampled)\n",
    "prediction=LRModel.predict(features_valid)\n",
    "\n",
    "print('Точность логистической регресии:',precision_score(target_valid, prediction))\n",
    "print('Полнота логистической регрессии:',recall_score(target_valid, prediction))\n",
    "print('F1 логистической регрессии:',f1_score(target_valid, prediction))\n",
    "\n",
    "LRD_prec=round(precision_score(target_valid, prediction),3)\n",
    "LRD_recall=round(recall_score(target_valid, prediction),3)\n",
    "LRD_f1=round(f1_score(target_valid, prediction),3)\n",
    "probabilities_valid = LRModel.predict_proba(features_valid)\n",
    "LRD_roc=round(roc_auc_score(target_valid, probabilities_valid[:,1]),3)"
   ]
  },
  {
   "cell_type": "code",
   "execution_count": 41,
   "metadata": {},
   "outputs": [
    {
     "data": {
      "image/png": "[encoded data removed]",
      "text/plain": [
       "<Figure size 432x288 with 1 Axes>"
      ]
     },
     "metadata": {
      "needs_background": "light"
     },
     "output_type": "display_data"
    },
    {
     "name": "stdout",
     "output_type": "stream",
     "text": [
      "Площадь под кривой для логистической регрессии: 0.719\n"
     ]
    }
   ],
   "source": [
    "ROCCURVE_paint_Standart(LRModel, features_valid, target_valid)\n",
    "\n",
    "print('Площадь под кривой для логистической регрессии:',LRD_roc)"
   ]
  },
  {
   "cell_type": "markdown",
   "metadata": {},
   "source": [
    "#### Случайный лес"
   ]
  },
  {
   "cell_type": "markdown",
   "metadata": {},
   "source": [
    "Проверим работу случайного леса"
   ]
  },
  {
   "cell_type": "code",
   "execution_count": 42,
   "metadata": {},
   "outputs": [
    {
     "name": "stdout",
     "output_type": "stream",
     "text": [
      "Точность леса: 0.48484848484848486\n",
      "Полнота леса: 0.7775700934579439\n",
      "F1 леса: 0.5972720746590093\n"
     ]
    }
   ],
   "source": [
    "IdealForest=IdealForestUpd\n",
    "IdealForest.fit(features_downsampled, target_downsampled)\n",
    "prediction=IdealForest.predict(features_valid)\n",
    "\n",
    "print('Точность леса:',precision_score(target_valid, prediction))\n",
    "print('Полнота леса:',recall_score(target_valid, prediction))\n",
    "print('F1 леса:',f1_score(target_valid, prediction))\n",
    "\n",
    "IFD_depth=round(IdealForest.max_depth,3)\n",
    "IFD_msl=round(IdealForest.min_samples_leaf,3)\n",
    "IFD_nest=round(IdealForest.n_estimators,3)\n",
    "IFD_prec=round(precision_score(target_valid, prediction),3)\n",
    "IFD_recall=round(recall_score(target_valid, prediction),3)\n",
    "IFD_f1=round(f1_score(target_valid, prediction),3)\n",
    "probabilities_valid = IdealForest.predict_proba(features_valid)\n",
    "IFD_roc=round(roc_auc_score(target_valid, probabilities_valid[:,1]),3)\n"
   ]
  },
  {
   "cell_type": "code",
   "execution_count": 43,
   "metadata": {},
   "outputs": [
    {
     "name": "stdout",
     "output_type": "stream",
     "text": [
      "Идеальная глубина 8\n",
      "Идеальное количество деревьев 118\n",
      "Точность дерева решений: 0.49941792782305006\n",
      "Полнота дерева решений: 0.8018691588785046\n",
      "F1 дерева решений: 0.6154949784791965\n"
     ]
    }
   ],
   "source": [
    "IdealForestUpd=FindIdealRandomForest(IdealForest, f1_score(target_valid, IdealForest.predict(features_valid)), features_downsampled, target_downsampled,features_valid, target_valid,'balanced')\n",
    "            \n",
    "print('Идеальная глубина', IdealForestUpd.max_depth)\n",
    "print('Идеальное количество деревьев', IdealForestUpd.n_estimators)\n",
    "print('Точность дерева решений:',precision_score(target_valid, IdealForestUpd.predict(features_valid)))\n",
    "print('Полнота дерева решений:',recall_score(target_valid, IdealForestUpd.predict(features_valid)))\n",
    "print('F1 дерева решений:',f1_score(target_valid, IdealForestUpd.predict(features_valid)))\n",
    "\n",
    "IFUD_depth=round(IdealForestUpd.max_depth,3)\n",
    "IFUD_msl=round(IdealForestUpd.min_samples_leaf,3)\n",
    "IFUD_nest=round(IdealForestUpd.n_estimators,3)\n",
    "IFUD_prec=round(precision_score(target_valid, IdealForestUpd.predict(features_valid)),3)\n",
    "IFUD_recall=round(recall_score(target_valid, IdealForestUpd.predict(features_valid)),3)\n",
    "IFUD_f1=round(f1_score(target_valid, IdealForestUpd.predict(features_valid)),3)\n",
    "probabilities_valid = IdealForestUpd.predict_proba(features_valid)\n",
    "IFUD_roc=round(roc_auc_score(target_valid, probabilities_valid[:,1]),3)\n"
   ]
  },
  {
   "cell_type": "code",
   "execution_count": 44,
   "metadata": {},
   "outputs": [
    {
     "data": {
      "image/png": "[encoded data removed]",
      "text/plain": [
       "<Figure size 432x288 with 1 Axes>"
      ]
     },
     "metadata": {
      "needs_background": "light"
     },
     "output_type": "display_data"
    },
    {
     "name": "stdout",
     "output_type": "stream",
     "text": [
      "Площадь под кривой для идеальной модели: 0.857\n"
     ]
    }
   ],
   "source": [
    "ROCCURVE_paint_Comp(IdealForest,IdealForestUpd, features_valid, target_valid)\n",
    "\n",
    "\n",
    "print('Площадь под кривой для идеальной модели:',IFUD_roc)"
   ]
  },
  {
   "cell_type": "markdown",
   "metadata": {},
   "source": [
    "Выведем параметры обычных и улучшенных моделей в отдельную таблицу:"
   ]
  },
  {
   "cell_type": "code",
   "execution_count": 53,
   "metadata": {},
   "outputs": [
    {
     "name": "stdout",
     "output_type": "stream",
     "text": [
      "+---------------------------+-------------+---------+--------+---------+----------+---------+-------+---------+\n",
      "|          Алгоритм         |   Выборка   | Глубина | Листья | Деревья | Точность | Полнота |   F1  | ROC-AUC |\n",
      "+---------------------------+-------------+---------+--------+---------+----------+---------+-------+---------+\n",
      "|       Дерево решений      |  upsampled  |    11   |   31   |    X    |  0.449   |   0.71  |  0.55 |  0.821  |\n",
      "| Дерево решений улучшенное |  upsampled  |    5    |   29   |    X    |   0.53   |  0.703  | 0.604 |  0.844  |\n",
      "|  Логистическая регрессия  |  upsampled  |    X    |   X    |    X    |  0.336   |  0.677  | 0.449 |  0.711  |\n",
      "|       Случайный лес       |  upsampled  |    23   |   1    |   113   |   0.67   |  0.542  | 0.599 |  0.848  |\n",
      "|  Случайный лес улучшенный |  upsampled  |    9    |   1    |   118   |  0.556   |  0.723  | 0.629 |   0.86  |\n",
      "|       Дерево решений      | downsampled |    5    |   29   |    X    |  0.476   |   0.74  | 0.579 |  0.834  |\n",
      "| Дерево решений улучшенное | downsampled |    7    |   36   |    X    |  0.508   |  0.744  | 0.603 |  0.838  |\n",
      "|  Логистическая регрессия  | downsampled |    X    |   X    |    X    |  0.307   |  0.776  |  0.44 |  0.719  |\n",
      "|       Случайный лес       | downsampled |    9    |   1    |   118   |  0.485   |  0.778  | 0.597 |  0.855  |\n",
      "|  Случайный лес улучшенный | downsampled |    8    |   1    |   118   |  0.499   |  0.802  | 0.615 |  0.857  |\n",
      "+---------------------------+-------------+---------+--------+---------+----------+---------+-------+---------+\n"
     ]
    }
   ],
   "source": [
    "param_table=PrettyTable()\n",
    "param_table.field_names = [\"Алгоритм\", \"Выборка\", \"Глубина\", \"Листья\", \"Деревья\",\"Точность\", \"Полнота\",\"F1\", \"ROC-AUC\"]\n",
    "param_table.add_row([\"Дерево решений\", \"upsampled\",IT_depth,IT_msl,\"X\",IT_prec,IT_recall,IT_f1,IT_roc])\n",
    "param_table.add_row([\"Дерево решений улучшенное\", \"upsampled\",ITU_depth,ITU_msl,\"X\",ITU_prec,ITU_recall,ITU_f1,ITU_roc])\n",
    "param_table.add_row([\"Логистическая регрессия\", \"upsampled\",\"X\",\"X\",\"X\",LR_prec,LR_recall,LR_f1,LR_roc])\n",
    "param_table.add_row([\"Случайный лес\", \"upsampled\",IF_depth,IF_msl,IF_nest,IF_prec,IF_recall,IF_f1,IF_roc])\n",
    "param_table.add_row([\"Случайный лес улучшенный\", \"upsampled\",IFU_depth,IFU_msl,IFU_nest,IFU_prec,IFU_recall,IFU_f1,IFU_roc])\n",
    "param_table.add_row([\"Дерево решений\", \"downsampled\",ITD_depth,ITD_msl,\"X\",ITD_prec,ITD_recall,ITD_f1,ITD_roc])\n",
    "param_table.add_row([\"Дерево решений улучшенное\", \"downsampled\",ITUD_depth,ITUD_msl,\"X\",ITUD_prec,ITUD_recall,ITUD_f1,ITUD_roc])\n",
    "param_table.add_row([\"Логистическая регрессия\", \"downsampled\",\"X\",\"X\",\"X\",LRD_prec,LRD_recall,LRD_f1,LRD_roc])\n",
    "param_table.add_row([\"Случайный лес\", \"downsampled\",IFD_depth,IFD_msl,IFD_nest,IFD_prec,IFD_recall,IFD_f1,IFD_roc])\n",
    "param_table.add_row([\"Случайный лес улучшенный\", \"downsampled\",IFUD_depth,IFUD_msl,IFUD_nest,IFUD_prec,IFUD_recall,IFUD_f1,IFUD_roc])\n",
    "\n",
    "print(param_table)\n"
   ]
  },
  {
   "cell_type": "markdown",
   "metadata": {},
   "source": [
    "### Вывод: \n",
    "После устранения дисбаланса и подбора параметров 2 модели показали нужный нам результат: F1 не ниже 0.59 и высокую полноту: дерево решений и cлучайный лес. У обоих алгоритмов примерно одинаковый показатель AUC-ROC(0.84-0.86), что позволяет говорить о высоком качестве моделей."
   ]
  },
  {
   "cell_type": "markdown",
   "metadata": {},
   "source": [
    "## Тестирование модели"
   ]
  },
  {
   "cell_type": "markdown",
   "metadata": {},
   "source": [
    "Лучший результат показал алгоритм случайный лес и дерево решений. Проверим их на тестовой выборке"
   ]
  },
  {
   "cell_type": "markdown",
   "metadata": {},
   "source": [
    "Преобразуем исходный датасет еще раз и создадим 3 выборки: обучающую, валидационную и тестовую"
   ]
  },
  {
   "cell_type": "code",
   "execution_count": 46,
   "metadata": {},
   "outputs": [
    {
     "data": {
      "text/html": [
       "<div>\n",
       "<style scoped>\n",
       "    .dataframe tbody tr th:only-of-type {\n",
       "        vertical-align: middle;\n",
       "    }\n",
       "\n",
       "    .dataframe tbody tr th {\n",
       "        vertical-align: top;\n",
       "    }\n",
       "\n",
       "    .dataframe thead th {\n",
       "        text-align: right;\n",
       "    }\n",
       "</style>\n",
       "<table border=\"1\" class=\"dataframe\">\n",
       "  <thead>\n",
       "    <tr style=\"text-align: right;\">\n",
       "      <th></th>\n",
       "      <th>CreditScore</th>\n",
       "      <th>Geography</th>\n",
       "      <th>Age</th>\n",
       "      <th>Tenure</th>\n",
       "      <th>Balance</th>\n",
       "      <th>NumOfProducts</th>\n",
       "      <th>HasCrCard</th>\n",
       "      <th>IsActiveMember</th>\n",
       "      <th>EstimatedSalary</th>\n",
       "      <th>Exited</th>\n",
       "      <th>Gender_Male</th>\n",
       "    </tr>\n",
       "  </thead>\n",
       "  <tbody>\n",
       "    <tr>\n",
       "      <td>0</td>\n",
       "      <td>619</td>\n",
       "      <td>0.0</td>\n",
       "      <td>42</td>\n",
       "      <td>2.0</td>\n",
       "      <td>0.00</td>\n",
       "      <td>1</td>\n",
       "      <td>1</td>\n",
       "      <td>1</td>\n",
       "      <td>101348.88</td>\n",
       "      <td>1</td>\n",
       "      <td>0</td>\n",
       "    </tr>\n",
       "    <tr>\n",
       "      <td>1</td>\n",
       "      <td>608</td>\n",
       "      <td>2.0</td>\n",
       "      <td>41</td>\n",
       "      <td>1.0</td>\n",
       "      <td>83807.86</td>\n",
       "      <td>1</td>\n",
       "      <td>0</td>\n",
       "      <td>1</td>\n",
       "      <td>112542.58</td>\n",
       "      <td>0</td>\n",
       "      <td>0</td>\n",
       "    </tr>\n",
       "    <tr>\n",
       "      <td>2</td>\n",
       "      <td>502</td>\n",
       "      <td>0.0</td>\n",
       "      <td>42</td>\n",
       "      <td>8.0</td>\n",
       "      <td>159660.80</td>\n",
       "      <td>3</td>\n",
       "      <td>1</td>\n",
       "      <td>0</td>\n",
       "      <td>113931.57</td>\n",
       "      <td>1</td>\n",
       "      <td>0</td>\n",
       "    </tr>\n",
       "    <tr>\n",
       "      <td>3</td>\n",
       "      <td>699</td>\n",
       "      <td>0.0</td>\n",
       "      <td>39</td>\n",
       "      <td>1.0</td>\n",
       "      <td>0.00</td>\n",
       "      <td>2</td>\n",
       "      <td>0</td>\n",
       "      <td>0</td>\n",
       "      <td>93826.63</td>\n",
       "      <td>0</td>\n",
       "      <td>0</td>\n",
       "    </tr>\n",
       "    <tr>\n",
       "      <td>4</td>\n",
       "      <td>850</td>\n",
       "      <td>2.0</td>\n",
       "      <td>43</td>\n",
       "      <td>2.0</td>\n",
       "      <td>125510.82</td>\n",
       "      <td>1</td>\n",
       "      <td>1</td>\n",
       "      <td>1</td>\n",
       "      <td>79084.10</td>\n",
       "      <td>0</td>\n",
       "      <td>0</td>\n",
       "    </tr>\n",
       "  </tbody>\n",
       "</table>\n",
       "</div>"
      ],
      "text/plain": [
       "   CreditScore  Geography  Age  Tenure    Balance  NumOfProducts  HasCrCard  \\\n",
       "0          619        0.0   42     2.0       0.00              1          1   \n",
       "1          608        2.0   41     1.0   83807.86              1          0   \n",
       "2          502        0.0   42     8.0  159660.80              3          1   \n",
       "3          699        0.0   39     1.0       0.00              2          0   \n",
       "4          850        2.0   43     2.0  125510.82              1          1   \n",
       "\n",
       "   IsActiveMember  EstimatedSalary  Exited  Gender_Male  \n",
       "0               1        101348.88       1            0  \n",
       "1               1        112542.58       0            0  \n",
       "2               0        113931.57       1            0  \n",
       "3               0         93826.63       0            0  \n",
       "4               1         79084.10       0            0  "
      ]
     },
     "execution_count": 46,
     "metadata": {},
     "output_type": "execute_result"
    }
   ],
   "source": [
    "# скопируем исходный data frame  в новый\n",
    "churn_test=churn.copy()\n",
    "\n",
    "# удалим столбцы с фамилией и ID\n",
    "churn_test=churn.drop(['CustomerId','Surname','RowNumber'],1)\n",
    "\n",
    "# техникой OHE преобразуем столбец Gender\n",
    "\n",
    "churn_test=pd.get_dummies(data=churn_test, columns=['Gender'], drop_first=True)\n",
    "\n",
    "# прямым кодированием преобразуем столбец Geography \n",
    "\n",
    "churn_test.Geography=churn_test.Geography.fillna(0)\n",
    "\n",
    "\n",
    "encoder.fit(churn_test[['Geography']])\n",
    "\n",
    "churn_test['Geography']=pd.DataFrame(encoder.transform(churn_test[['Geography']]))\n",
    "\n",
    "churn_test.head(5)"
   ]
  },
  {
   "cell_type": "code",
   "execution_count": 47,
   "metadata": {},
   "outputs": [],
   "source": [
    "features=churn_test.drop('Exited', axis=1)\n",
    "target=churn_test['Exited']\n"
   ]
  },
  {
   "cell_type": "code",
   "execution_count": 48,
   "metadata": {},
   "outputs": [],
   "source": [
    "pd.options.mode.chained_assignment = None\n",
    "\n",
    "features = scaler.transform(features)\n",
    "\n",
    "features_train, features_test, target_train, target_test = train_test_split(features, target, test_size=.3, random_state=12345)\n"
   ]
  },
  {
   "cell_type": "code",
   "execution_count": 49,
   "metadata": {},
   "outputs": [
    {
     "name": "stdout",
     "output_type": "stream",
     "text": [
      "Точность леса: 0.564935064935065\n",
      "Полнота леса: 0.694888178913738\n",
      "F1 леса: 0.6232091690544413\n",
      "\n",
      "Точность дерева: 0.4332129963898917\n",
      "Полнота дерева: 0.7667731629392971\n",
      "F1 дерева: 0.5536332179930795\n"
     ]
    }
   ],
   "source": [
    "IdealForestUpd.fit(features_train, target_train)\n",
    "IdealTreeUpd.fit(features_train, target_train)\n",
    "\n",
    "\n",
    "predictionF=IdealForestUpd.predict(features_test)\n",
    "predictionT=IdealTreeUpd.predict(features_test)\n",
    "\n",
    "\n",
    "print('Точность леса:',precision_score(target_test, predictionF))\n",
    "print('Полнота леса:',recall_score(target_test, predictionF))\n",
    "print('F1 леса:',f1_score(target_test, predictionF))\n",
    "print('')\n",
    "print('Точность дерева:',precision_score(target_test, predictionT))\n",
    "print('Полнота дерева:',recall_score(target_test, predictionT))\n",
    "print('F1 дерева:',f1_score(target_test, predictionT))"
   ]
  },
  {
   "cell_type": "markdown",
   "metadata": {},
   "source": [
    "Построим кривую и найдем показатель auc-roc"
   ]
  },
  {
   "cell_type": "code",
   "execution_count": 50,
   "metadata": {},
   "outputs": [
    {
     "data": {
      "image/png": "[encoded data removed]",
      "text/plain": [
       "<Figure size 432x288 with 1 Axes>"
      ]
     },
     "metadata": {
      "needs_background": "light"
     },
     "output_type": "display_data"
    },
    {
     "name": "stdout",
     "output_type": "stream",
     "text": [
      "Площадь под кривой леса: 0.857\n",
      "Площадь под кривой дерева решений: 0.857\n"
     ]
    }
   ],
   "source": [
    "ROCCURVE_paint_Comp(IdealTreeUpd,IdealForestUpd,features_test, target_test)\n",
    "\n",
    "probabilities_validF = IdealForestUpd.predict_proba(features_test)\n",
    "auc_rocF=roc_auc_score(target_test, probabilities_validF[:,1])\n",
    "\n",
    "probabilities_validT = IdealTreeUpd.predict_proba(features_test)\n",
    "auc_rocT=roc_auc_score(target_test, probabilities_validF[:,1])\n",
    "\n",
    "print('Площадь под кривой леса:',round(auc_rocF,3))\n",
    "print('Площадь под кривой дерева решений:',round(auc_rocT,3))"
   ]
  },
  {
   "cell_type": "markdown",
   "metadata": {},
   "source": [
    "## Вывод: \n",
    "По результатам тестирований алгоритмы случайного леса и дерева решений показали лучшие результаты. Однако, цель была достигнуть F1 не менее 0.59. Данный результат на тестовой выборке показал только алгоритм случайного леса, который и можно выбрать в качестве наиболее подходящего для выполнения поставленной задачи."
   ]
  }
 ],
 "metadata": {
  "kernelspec": {
   "display_name": "Python 3",
   "language": "python",
   "name": "python3"
  },
  "language_info": {
   "codemirror_mode": {
    "name": "ipython",
    "version": 3
   },
   "file_extension": ".py",
   "mimetype": "text/x-python",
   "name": "python",
   "nbconvert_exporter": "python",
   "pygments_lexer": "ipython3",
   "version": "3.8.5"
  },
  "toc": {
   "base_numbering": 1,
   "nav_menu": {},
   "number_sections": false,
   "sideBar": true,
   "skip_h1_title": true,
   "title_cell": "Содержание",
   "title_sidebar": "Contents",
   "toc_cell": true,
   "toc_position": {
    "height": "calc(100% - 180px)",
    "left": "10px",
    "top": "150px",
    "width": "366.391px"
   },
   "toc_section_display": true,
   "toc_window_display": true
  }
 },
 "nbformat": 4,
 "nbformat_minor": 2
}
